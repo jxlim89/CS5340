{
  "nbformat": 4,
  "nbformat_minor": 0,
  "metadata": {
    "colab": {
      "name": "team_5.ipynb",
      "provenance": [],
      "collapsed_sections": [],
      "toc_visible": true
    },
    "kernelspec": {
      "name": "python3",
      "display_name": "Python 3"
    }
  },
  "cells": [
    {
      "cell_type": "code",
      "metadata": {
        "id": "ZRz5XK7v8puj",
        "colab_type": "code",
        "outputId": "6f46864d-d85a-4160-fc05-989b9a161ae7",
        "colab": {
          "base_uri": "https://localhost:8080/",
          "height": 443
        }
      },
      "source": [
        "! pip install arviz\n",
        "! pip install --upgrade pymc3>=3.8"
      ],
      "execution_count": 0,
      "outputs": [
        {
          "output_type": "stream",
          "text": [
            "Collecting arviz\n",
            "\u001b[?25l  Downloading https://files.pythonhosted.org/packages/6c/23/73ae3b88a6837fa5a162d984acabfd2e75dc847ed67e5690aa44d02f491a/arviz-0.7.0-py3-none-any.whl (1.5MB)\n",
            "\u001b[K     |████████████████████████████████| 1.5MB 2.8MB/s \n",
            "\u001b[?25hRequirement already satisfied: matplotlib>=3.0 in /usr/local/lib/python3.6/dist-packages (from arviz) (3.2.1)\n",
            "Requirement already satisfied: pandas>=0.23 in /usr/local/lib/python3.6/dist-packages (from arviz) (1.0.3)\n",
            "Requirement already satisfied: scipy>=0.19 in /usr/local/lib/python3.6/dist-packages (from arviz) (1.4.1)\n",
            "Collecting netcdf4\n",
            "\u001b[?25l  Downloading https://files.pythonhosted.org/packages/35/4f/d49fe0c65dea4d2ebfdc602d3e3d2a45a172255c151f4497c43f6d94a5f6/netCDF4-1.5.3-cp36-cp36m-manylinux1_x86_64.whl (4.1MB)\n",
            "\u001b[K     |████████████████████████████████| 4.1MB 47.2MB/s \n",
            "\u001b[?25hRequirement already satisfied: packaging in /usr/local/lib/python3.6/dist-packages (from arviz) (20.3)\n",
            "Requirement already satisfied: numpy>=1.12 in /usr/local/lib/python3.6/dist-packages (from arviz) (1.18.4)\n",
            "Requirement already satisfied: xarray>=0.11 in /usr/local/lib/python3.6/dist-packages (from arviz) (0.15.1)\n",
            "Requirement already satisfied: kiwisolver>=1.0.1 in /usr/local/lib/python3.6/dist-packages (from matplotlib>=3.0->arviz) (1.2.0)\n",
            "Requirement already satisfied: pyparsing!=2.0.4,!=2.1.2,!=2.1.6,>=2.0.1 in /usr/local/lib/python3.6/dist-packages (from matplotlib>=3.0->arviz) (2.4.7)\n",
            "Requirement already satisfied: cycler>=0.10 in /usr/local/lib/python3.6/dist-packages (from matplotlib>=3.0->arviz) (0.10.0)\n",
            "Requirement already satisfied: python-dateutil>=2.1 in /usr/local/lib/python3.6/dist-packages (from matplotlib>=3.0->arviz) (2.8.1)\n",
            "Requirement already satisfied: pytz>=2017.2 in /usr/local/lib/python3.6/dist-packages (from pandas>=0.23->arviz) (2018.9)\n",
            "Collecting cftime\n",
            "\u001b[?25l  Downloading https://files.pythonhosted.org/packages/c3/a7/e32404add6225b1f5a2b9efed6aa5bba918da637c8dd6cf85fe4ad7bfdc4/cftime-1.1.2-cp36-cp36m-manylinux1_x86_64.whl (320kB)\n",
            "\u001b[K     |████████████████████████████████| 327kB 46.7MB/s \n",
            "\u001b[?25hRequirement already satisfied: six in /usr/local/lib/python3.6/dist-packages (from packaging->arviz) (1.12.0)\n",
            "Requirement already satisfied: setuptools>=41.2 in /usr/local/lib/python3.6/dist-packages (from xarray>=0.11->arviz) (46.1.3)\n",
            "Installing collected packages: cftime, netcdf4, arviz\n",
            "Successfully installed arviz-0.7.0 cftime-1.1.2 netcdf4-1.5.3\n"
          ],
          "name": "stdout"
        }
      ]
    },
    {
      "cell_type": "code",
      "metadata": {
        "id": "myV_DiHB0EL7",
        "colab_type": "code",
        "outputId": "df614907-b6ab-4559-cec6-08926459f415",
        "colab": {
          "base_uri": "https://localhost:8080/",
          "height": 52
        }
      },
      "source": [
        "import numpy as np\n",
        "from numpy.random import randn, binomial, multinomial\n",
        "import pandas as pd\n",
        "import math\n",
        "import random\n",
        "\n",
        "import sklearn.datasets\n",
        "import sklearn.model_selection\n",
        "from sklearn.model_selection import train_test_split\n",
        "\n",
        "from scipy import stats\n",
        "from scipy import optimize\n",
        "from scipy.stats import beta, uniform, gamma, poisson\n",
        "import statsmodels as sm\n",
        "import patsy as pt\n",
        "import pymc3 as pm\n",
        "from pymc3.backends.tracetab import trace_to_dataframe\n",
        "\n",
        "%matplotlib inline\n",
        "import matplotlib.pyplot as plt\n",
        "import seaborn as sns\n",
        "\n",
        "import warnings\n",
        "warnings.filterwarnings(\"ignore\")\n",
        "np.set_printoptions(precision=4)"
      ],
      "execution_count": 0,
      "outputs": [
        {
          "output_type": "stream",
          "text": [
            "/usr/local/lib/python3.6/dist-packages/statsmodels/tools/_testing.py:19: FutureWarning: pandas.util.testing is deprecated. Use the functions in the public API at pandas.testing instead.\n",
            "  import pandas.util.testing as tm\n"
          ],
          "name": "stderr"
        }
      ]
    },
    {
      "cell_type": "markdown",
      "metadata": {
        "id": "innifc5PrisX",
        "colab_type": "text"
      },
      "source": [
        "---\n",
        "# Q1 - Exploring the effects of the dataset size on the MLE and MAP estimates\n",
        "---\n",
        "\n",
        "In this section, we will investigate the effects of the sample size on the MLE and MAP estimates for:\n",
        "1. Normally distributed data\n",
        "2. Poisson distributed data"
      ]
    },
    {
      "cell_type": "markdown",
      "metadata": {
        "id": "S39Nn-CnV4Nw",
        "colab_type": "text"
      },
      "source": [
        "## Problem 1. Normally Distributed Data"
      ]
    },
    {
      "cell_type": "markdown",
      "metadata": {
        "id": "uy3mKmJ1WIvX",
        "colab_type": "text"
      },
      "source": [
        "Generate synthetic data based on: <br>\n",
        "$Y = \\alpha + \\sum_{i=0}^{d} \\beta_i X_i + \\epsilon$ <br>\n",
        "where: <br>\n",
        " $\\forall i \\in \\{1, ..., d\\}$, $\\forall j \\in \\{1, ..., N\\}$, $X_{i,j} \\sim \\mathcal{N}(\\mu_i, \\sigma^2_i)$ are user-defined,<br>\n",
        "$d$ represents total number of features, $N$ represents total number of samples, <br>\n",
        "$\\alpha$ is the intercept, $\\beta$ is the coefficient for covariate $X_i$ and is a vector in $\\mathbb{R}^d$, <br>\n",
        "and $\\epsilon$ represents the observation error according to $\\epsilon \\sim \\mathcal{N}(0, \\sigma_{e}^2)$. <br>\n",
        "Hence, due to affine property of Gaussians, $Y \\sim(\\mu, \\sigma_{e}^2)$ where $\\mu = \\alpha + \\sum_{i=0}^{d} \\beta_i X_i$. \n",
        "\n",
        "The true values of $\\alpha, \\beta,$ and $\\sigma_e$ are defined by the user.\n"
      ]
    },
    {
      "cell_type": "code",
      "metadata": {
        "id": "YYilnkM3xIi-",
        "colab_type": "code",
        "colab": {}
      },
      "source": [
        "np.random.seed(42)\n",
        "\n",
        "class DataGenerator:\n",
        "    \n",
        "    @staticmethod\n",
        "    def generator_normal(size, predictor_parameters, true_model_parameters):\n",
        "        \n",
        "        mus = predictor_parameters['mus']\n",
        "        sigmas = predictor_parameters['sigmas']\n",
        "        \n",
        "        alpha = true_model_parameters['alpha']\n",
        "        beta = true_model_parameters['beta']\n",
        "        sigma = true_model_parameters['sigma']\n",
        "\n",
        "        # generate predictor variable\n",
        "        X = []\n",
        "        \n",
        "        if len(mus) != len(sigmas) and len(mus)!=len(beta):\n",
        "            print('Error : mus and sigmas are the mean and variance of the predictor variables')\n",
        "            print('And beta must have the same size as mus')\n",
        "            return None\n",
        "        \n",
        "        for i in range(len(mus)):\n",
        "            m = mus[i]\n",
        "            s = sigmas[i]\n",
        "            x = m + np.random.randn(size)*s\n",
        "            X.append(x)\n",
        "        \n",
        "        # simulate outcome variable\n",
        "        Y = alpha\n",
        "        for i in range(len(beta)):\n",
        "            Y += beta[i]*X[i]\n",
        "        Y += np.random.randn(size)*sigma\n",
        "        \n",
        "        return np.array(X).T, np.array(Y)\n",
        "\n",
        "    @staticmethod\n",
        "    def generator_poisson(size, predictor_parameters, true_model_parameters):\n",
        "        \n",
        "        mus = predictor_parameters['mus']\n",
        "        \n",
        "        alpha = true_model_parameters['alpha']\n",
        "        beta = true_model_parameters['beta']\n",
        "        sigma = true_model_parameters['sigma']\n",
        "\n",
        "        # generate predictor variable\n",
        "        X = []\n",
        "        \n",
        "        if len(mus)!=len(beta):\n",
        "            print('And beta must have the same size as mus')\n",
        "            return None\n",
        "        \n",
        "        for i in range(len(mus)):\n",
        "            mu = mus[i]\n",
        "            x = np.random.poisson(m, 100).astype('float64')\n",
        "            X.append(x)\n",
        "        \n",
        "        # simulate outcome variable\n",
        "        Y = alpha\n",
        "        for i in range(len(beta)):\n",
        "            Y += beta[i]*X[i]\n",
        "        Y += np.random.randn(size)*sigma\n",
        "        \n",
        "        return np.array(X).T, np.array(Y)\n",
        "\n",
        "    @staticmethod\n",
        "    def plot_hist_data(X, Y):\n",
        "        d = X.shape[1]\n",
        "        nb_col = d\n",
        "        nb_row = 2\n",
        "        fig, axes = plt.subplots(nb_row, nb_col, sharex=True, sharey=False, figsize=(20,8))\n",
        "        \n",
        "        for i in range(d):\n",
        "            row = 0\n",
        "            col = i\n",
        "            axes[row][col].hist(X.T[i])\n",
        "            if i == 0:\n",
        "                axes[row][col].set_ylabel('Count')\n",
        "            # axes[row][col].set_xlabel('X{}'.format(i+1))\n",
        "        \n",
        "        for i in range(d):\n",
        "            row = 1\n",
        "            col = i\n",
        "            axes[row][col].scatter(X.T[i], Y)\n",
        "            if i == 0:\n",
        "                axes[row][col].set_ylabel('Y')\n",
        "            axes[row][col].set_xlabel('X{}'.format(i+1))\n",
        "\n",
        "        plt.show()"
      ],
      "execution_count": 0,
      "outputs": []
    },
    {
      "cell_type": "markdown",
      "metadata": {
        "id": "eJUJAfICWHUG",
        "colab_type": "text"
      },
      "source": [
        "Define two kinds of estimators: MLE and MAP. <br>\n",
        "In the case of MLE, priors follow a uniform distribution over the range of possible values of $\\alpha$, $\\beta$ and $\\sigma_e$. <br>\n",
        "In the case of MAP, centered Gaussian distributions are used as priors for $\\alpha$ and $\\beta$ while a Half Gaussian distribution prior is used for $\\sigma_e$. <br>\n",
        "Absolute errors between the true parameters and estimated parameters are then computed for varying sample size (from 5 to 100)."
      ]
    },
    {
      "cell_type": "code",
      "metadata": {
        "id": "Nn44tgDqxLCl",
        "colab_type": "code",
        "colab": {}
      },
      "source": [
        "np.random.seed(42)\n",
        "\n",
        "class Estimator:\n",
        "    \n",
        "    @staticmethod\n",
        "    def get_estimator(X_train, \n",
        "                      y_train,  \n",
        "                      prior_parameters,\n",
        "                      estimator_type='mle'):\n",
        "        \n",
        "        basic_model = pm.Model()\n",
        "        \n",
        "        with basic_model:\n",
        "\n",
        "            if estimator_type == 'mle':\n",
        "                # Priors for unknown model parameters\n",
        "                alpha = pm.Uniform('alpha',\n",
        "                                  lower=prior_parameters['alpha']['lower'],\n",
        "                                  upper=prior_parameters['alpha']['upper'])\n",
        "                beta = pm.Uniform('beta', \n",
        "                                  lower=prior_parameters['beta']['lower'],\n",
        "                                  upper=prior_parameters['beta']['upper'],\n",
        "                                  shape=X_train.shape[1])\n",
        "                sigma = pm.Uniform('sigma',\n",
        "                                  lower=prior_parameters['sigma']['lower'],\n",
        "                                  upper=prior_parameters['sigma']['upper']) \n",
        "            elif estimator_type == 'map':\n",
        "                # Priors for unknown model parameters\n",
        "                alpha = pm.Normal('alpha', \n",
        "                                  mu=prior_parameters['alpha']['mu'], \n",
        "                                  sigma=prior_parameters['alpha']['sigma'])\n",
        "                beta = pm.Normal('beta', \n",
        "                                 mu=prior_parameters['beta']['mu'], \n",
        "                                 sigma=prior_parameters['beta']['sigma'], \n",
        "                                 shape=X_train.shape[1])\n",
        "                sigma = pm.HalfNormal('sigma', \n",
        "                                      sigma=prior_parameters['sigma'])\n",
        "            else:\n",
        "                raise ValueError('Estimator is MLE or MAP')\n",
        "\n",
        "            # Expected value of outcome\n",
        "            mu = alpha \n",
        "            for i in range(X_train.shape[1]):\n",
        "                mu += beta[i]*X_train[:, i]\n",
        "            \n",
        "            # Likelihood (sampling distribution) of observations\n",
        "            Y_obs = pm.Normal('Y_obs', mu=mu, sigma=sigma, observed=y_train)\n",
        "        \n",
        "        # uses the Broyden–Fletcher–Goldfarb–Shanno (BFGS) optimization algorithm by default to find the maximum of the log-posterior\n",
        "        estimator = pm.find_MAP(model=basic_model)\n",
        "\n",
        "        return estimator\n",
        "    \n",
        "    @staticmethod\n",
        "    def compute_error_estimator(estimator, true_model_parameters):\n",
        "        \"\"\"\n",
        "        In case the true parameters are known\n",
        "        \"\"\"\n",
        "        alpha_error = np.abs(estimator['alpha'] - true_model_parameters['alpha'])\n",
        "        beta_error = np.abs(estimator['beta'] - true_model_parameters['beta'])\n",
        "        sigma_error = np.abs(estimator['sigma'] - true_model_parameters['sigma'])\n",
        "        \n",
        "        return np.append(np.append(alpha_error, beta_error), sigma_error)\n",
        "    \n",
        "    @staticmethod\n",
        "    def study_estimator(data, \n",
        "                        target, \n",
        "                        train_size, \n",
        "                        prior_parameters,\n",
        "                        true_model_parameters,\n",
        "                        estimator_type='mle', \n",
        "                        nb_test_sample=None):\n",
        "\n",
        "        # Split the dataset to vary the number of sample training size accordingly\n",
        "        if train_size != 1.0:\n",
        "          X_train, X_val, y_train, y_val = train_test_split(data, \n",
        "                                                            target, \n",
        "                                                            test_size=1-train_size, \n",
        "                                                            random_state=42)\n",
        "\n",
        "          estimator = Estimator.get_estimator(X_train, \n",
        "                                              y_train, \n",
        "                                              prior_parameters=prior_parameters,\n",
        "                                              estimator_type=estimator_type)\n",
        "        \n",
        "        elif train_size == 1.0:\n",
        "          estimator = Estimator.get_estimator(data, \n",
        "                                              target, \n",
        "                                              prior_parameters=prior_parameters,\n",
        "                                              estimator_type=estimator_type)\n",
        "\n",
        "        estimator_error = Estimator.compute_error_estimator(estimator, true_model_parameters)\n",
        "        error = np.array([estimator_error])\n",
        "        \n",
        "        # error = [alpha_error, beta_1_error, beta_2_error, ..., beta_6_error, sigma_error]\n",
        "        return estimator, error\n",
        "    \n",
        "    @staticmethod\n",
        "    def run_analysis(data, \n",
        "                     target, \n",
        "                     train_sizes, \n",
        "                     prior_parameters,\n",
        "                     true_model_parameters,\n",
        "                     estimator_type='mle', \n",
        "                     nb_test_sample=None):\n",
        "\n",
        "        results = []\n",
        "        for train_size in train_sizes:\n",
        "            estimator, error = Estimator.study_estimator(data=data,\n",
        "                                                         target=target,\n",
        "                                                         train_size=train_size,\n",
        "                                                         prior_parameters=prior_parameters,\n",
        "                                                         true_model_parameters=true_model_parameters,\n",
        "                                                         estimator_type=estimator_type,\n",
        "                                                         nb_test_sample=nb_test_sample)\n",
        "\n",
        "            results.append(np.append(np.array(train_size*100), error))\n",
        "        columns = [\"Size\", \"alpha_error\"]\n",
        "        l = len(results[0])\n",
        "        for i in range(6):\n",
        "            columns.append(\"beta_{}_error\".format(i+1))\n",
        "        columns.append(\"sigma_error\")\n",
        "        df_errors = pd.DataFrame(results, columns=columns)\n",
        "        return df_errors\n",
        "    \n",
        "    @staticmethod\n",
        "    def study_synthetics(N,\n",
        "                         data_dist,\n",
        "                         predictor_parameters,\n",
        "                         prior_mle_parameters,\n",
        "                         prior_map_parameters,\n",
        "                         true_model_parameters,\n",
        "                         nb_points=20):\n",
        "        \n",
        "        if data_dist == 'normal':\n",
        "            X, Y = DataGenerator.generator_normal(N,\n",
        "                                                  predictor_parameters=predictor_parameters,\n",
        "                                                  true_model_parameters=true_model_parameters)\n",
        "\n",
        "        elif data_dist == 'poisson':\n",
        "            X, Y = DataGenerator.generator_poisson(N,\n",
        "                                                   predictor_parameters=predictor_parameters,\n",
        "                                                   true_model_parameters=true_model_parameters)                             \n",
        "        \n",
        "        train_sizes = np.linspace(0.05, 1.00, nb_points)\n",
        "        \n",
        "        df_error_mle = Estimator.run_analysis(data=X, \n",
        "                                 target=Y, \n",
        "                                 train_sizes=train_sizes, \n",
        "                                 prior_parameters=prior_mle_parameters,\n",
        "                                 true_model_parameters=true_model_parameters,\n",
        "                                 estimator_type='mle', \n",
        "                                 nb_test_sample=None)\n",
        "        \n",
        "        df_error_map = Estimator.run_analysis(data=X, \n",
        "                                 target=Y, \n",
        "                                 train_sizes=train_sizes, \n",
        "                                 prior_parameters=prior_map_parameters,\n",
        "                                 true_model_parameters=true_model_parameters,\n",
        "                                 estimator_type='map', \n",
        "                                 nb_test_sample=None)\n",
        "        \n",
        "        return df_error_mle, df_error_map\n",
        "    \n",
        "    def plot_estimators_comparison_mle_map(df_error_mle_means, df_error_mle_min, df_error_mle_max, df_error_map_means, df_error_map_min, df_error_map_max):\n",
        "    \n",
        "        columns = df_error_map.columns\n",
        "        l = len(columns)\n",
        "        if l < 2:\n",
        "            raise ValueError(\"The parameters estimator error must be computed\")\n",
        "\n",
        "        nb_estimators = l-1\n",
        "        fig, ax = plt.subplots(math.ceil(nb_estimators/3), 3, sharex=True, figsize=(20,10))\n",
        "\n",
        "        for i in range(1, l):\n",
        "            sizes = df_error_mle.Size.values\n",
        "\n",
        "            row = (i-1)//3\n",
        "            col = (i-1)%3\n",
        "\n",
        "            ax[row, col].errorbar(sizes, df_error_mle_means[columns[i]], np.array([df_error_mle_min[columns[i]],df_error_mle_max[columns[i]]]), capsize=5, label=\"MLE\")\n",
        "            ax[row, col].errorbar(sizes, df_error_map_means[columns[i]], np.array([df_error_map_min[columns[i]],df_error_map_max[columns[i]]]), capsize=5, label=\"MAP\")\n",
        "            ax[row, col].legend(loc='upper right')\n",
        "            ax[row, col].set_xticks(range(10, 110, 10))\n",
        "            if row == 2:\n",
        "                ax[row,col].set_xlabel(\"Sample Size\")\n",
        "            ax[row, col].set_ylabel(\"Error\")\n",
        "            ax[row, col].set_title(columns[i], size=10)\n",
        "        ax[1,2].set_xlabel(\"Sample Size\")\n",
        "        ax[1,2].xaxis.set_tick_params(which='both', labelbottom=True, labeltop=False)\n",
        "        fig.delaxes(ax[2,2])\n",
        "        plt.savefig(\"Errors.png\")\n",
        "        plt.show()"
      ],
      "execution_count": 0,
      "outputs": []
    },
    {
      "cell_type": "markdown",
      "metadata": {
        "id": "-t_zegj_jtEG",
        "colab_type": "text"
      },
      "source": [
        "Define the parameters for the inputs, model and priors. <br>\n",
        "Parameters for the inputs $X_i \\sim \\mathcal{N}(\\mu_i, \\sigma^2_i)$ are $\\mu_i$ and $\\sigma_i$ where $i \\in \\{1, ..., d\\}$. <br>\n",
        "Parameters for the linear regression model $Y \\sim(\\mu, \\sigma_{e}^2)$ where $\\mu = \\alpha + \\sum_{i=0}^{d} \\beta_i X_i$ are $\\alpha$, $\\beta_i$ and $\\sigma_e$ where $i \\in \\{1, ..., d\\}$. <br>"
      ]
    },
    {
      "cell_type": "code",
      "metadata": {
        "id": "tees_OE5xN2x",
        "colab_type": "code",
        "colab": {}
      },
      "source": [
        "# Maximum number of sample size\n",
        "N = 100\n",
        "\n",
        "predictor_parameters = {\n",
        "    'mus': [5, 7, 10, 20, -10, 3],\n",
        "    'sigmas': [1.5, 0.5, 2, 4, 10, 5]\n",
        "}\n",
        "\n",
        "true_model_parameters = {\n",
        "    'alpha': -5,\n",
        "    'beta': [5, 10, 1, 3, -7, 2],\n",
        "    'sigma': 2\n",
        "}\n",
        "\n",
        "prior_mle_parameters = {\n",
        "    'alpha': {\n",
        "        'lower': -15, \n",
        "        'upper': 15,\n",
        "    },\n",
        "    'beta': {\n",
        "        'lower': -15, \n",
        "        'upper': 15,\n",
        "    },\n",
        "    'sigma': {\n",
        "        'lower': 0, \n",
        "        'upper': 10,\n",
        "    }\n",
        "}\n",
        "\n",
        "prior_map_parameters = {\n",
        "    'alpha':{\n",
        "        'mu': 0,\n",
        "        'sigma': 10\n",
        "    },\n",
        "    'beta':{\n",
        "        'mu': 0,\n",
        "        'sigma': 10\n",
        "    },\n",
        "    'sigma': 5\n",
        "}"
      ],
      "execution_count": 0,
      "outputs": []
    },
    {
      "cell_type": "markdown",
      "metadata": {
        "id": "mF8IsNaCjfOE",
        "colab_type": "text"
      },
      "source": [
        "Plot the histogram of the data generated based on the true parameters."
      ]
    },
    {
      "cell_type": "code",
      "metadata": {
        "id": "qjWCEbvKyC-J",
        "colab_type": "code",
        "outputId": "84a454cc-fb4f-4f4e-820c-18009c6f24b2",
        "colab": {
          "base_uri": "https://localhost:8080/",
          "height": 498
        }
      },
      "source": [
        "X, Y = DataGenerator.generator_normal(N,\n",
        "                                      predictor_parameters=predictor_parameters,\n",
        "                                      true_model_parameters=true_model_parameters)\n",
        "\n",
        "DataGenerator.plot_hist_data(X, Y)"
      ],
      "execution_count": 0,
      "outputs": [
        {
          "output_type": "display_data",
          "data": {
            "image/png": "[encoded data removed]",
            "text/plain": [
              "<Figure size 1440x576 with 12 Axes>"
            ]
          },
          "metadata": {
            "tags": [],
            "needs_background": "light"
          }
        }
      ]
    },
    {
      "cell_type": "markdown",
      "metadata": {
        "id": "Cmxeb9XKBRl3",
        "colab_type": "text"
      },
      "source": [
        "Compute the error between true and estimated parameters for both MLE and MAP methods. Repeat the process for 5 times."
      ]
    },
    {
      "cell_type": "code",
      "metadata": {
        "id": "VlN_9qZiyRdJ",
        "colab_type": "code",
        "outputId": "340bb191-a85a-462c-c2fd-258b8851bd6c",
        "colab": {
          "base_uri": "https://localhost:8080/",
          "height": 1000
        }
      },
      "source": [
        "df_error_mle_all = pd.DataFrame()\n",
        "df_error_map_all = pd.DataFrame()\n",
        "N_trials = 5\n",
        "for i in range(N_trials):\n",
        "    df_error_mle, df_error_map = Estimator.study_synthetics(N,\n",
        "                                                            'normal', \n",
        "                                                            predictor_parameters,\n",
        "                                                            prior_mle_parameters,\n",
        "                                                            prior_map_parameters,\n",
        "                                                            true_model_parameters,\n",
        "                                                            nb_points=20)\n",
        "    df_error_mle_all = pd.concat((df_error_mle_all, df_error_mle))\n",
        "    df_error_map_all = pd.concat((df_error_map_all, df_error_map))"
      ],
      "execution_count": 0,
      "outputs": [
        {
          "output_type": "stream",
          "text": [
            "logp = 39.125, ||grad|| = 7.0167e+06: 100%|██████████| 650/650 [00:00<00:00, 1467.32it/s] \n",
            "logp = -45.773, ||grad|| = 0.66249: 100%|██████████| 190/190 [00:00<00:00, 1486.74it/s] \n",
            "logp = -54.612, ||grad|| = 0.28783: 100%|██████████| 105/105 [00:00<00:00, 1607.82it/s] \n",
            "logp = -64.066, ||grad|| = 0.1336: 100%|██████████| 112/112 [00:00<00:00, 1559.90it/s] \n",
            "logp = -73.95, ||grad|| = 0.33598: 100%|██████████| 98/98 [00:00<00:00, 1614.16it/s]  \n",
            "logp = -85.553, ||grad|| = 0.14971: 100%|██████████| 163/163 [00:00<00:00, 1501.14it/s] \n",
            "logp = -101.99, ||grad|| = 0.32785: 100%|██████████| 98/98 [00:00<00:00, 1420.25it/s]  \n",
            "logp = -109.95, ||grad|| = 0.5684: 100%|██████████| 127/127 [00:00<00:00, 1473.29it/s] \n",
            "logp = -119.1, ||grad|| = 1.6408: 100%|██████████| 100/100 [00:00<00:00, 1469.08it/s]\n",
            "logp = -130.91, ||grad|| = 0.23169: 100%|██████████| 95/95 [00:00<00:00, 1508.98it/s]  \n",
            "logp = -139.69, ||grad|| = 0.13873: 100%|██████████| 103/103 [00:00<00:00, 1537.64it/s] \n",
            "logp = -149.33, ||grad|| = 13.825: 100%|██████████| 110/110 [00:00<00:00, 1571.96it/s] \n",
            "logp = -158.58, ||grad|| = 0.71088: 100%|██████████| 95/95 [00:00<00:00, 1559.19it/s]  \n",
            "logp = -166.22, ||grad|| = 3.2121: 100%|██████████| 85/85 [00:00<00:00, 1466.43it/s]  \n",
            "logp = -178.76, ||grad|| = 0.33546: 100%|██████████| 126/126 [00:00<00:00, 1517.65it/s] \n",
            "logp = -186.56, ||grad|| = 8.321: 100%|██████████| 91/91 [00:00<00:00, 1310.60it/s]  \n",
            "logp = -200.95, ||grad|| = 4.2852: 100%|██████████| 101/101 [00:00<00:00, 1588.98it/s]\n",
            "logp = -214.59, ||grad|| = 0.2982: 100%|██████████| 105/105 [00:00<00:00, 1355.98it/s] \n",
            "logp = -221.63, ||grad|| = 0.16353: 100%|██████████| 92/92 [00:00<00:00, 1542.34it/s]  \n",
            "logp = -233.69, ||grad|| = 4.5086: 100%|██████████| 100/100 [00:00<00:00, 1515.96it/s]\n",
            "logp = 38.018, ||grad|| = 6.654e+05: 100%|██████████| 265/265 [00:00<00:00, 1478.43it/s] \n",
            "logp = -45.326, ||grad|| = 0.037743: 100%|██████████| 110/110 [00:00<00:00, 1349.74it/s] \n",
            "logp = -53.966, ||grad|| = 0.027089: 100%|██████████| 114/114 [00:00<00:00, 1378.35it/s] \n",
            "logp = -63.408, ||grad|| = 0.11078: 100%|██████████| 105/105 [00:00<00:00, 1452.63it/s] \n",
            "logp = -73.388, ||grad|| = 0.0092843: 100%|██████████| 102/102 [00:00<00:00, 1467.87it/s] \n",
            "logp = -85.664, ||grad|| = 0.018459: 100%|██████████| 103/103 [00:00<00:00, 1582.64it/s] \n",
            "logp = -101.7, ||grad|| = 0.025842: 100%|██████████| 98/98 [00:00<00:00, 1532.97it/s]  \n",
            "logp = -109.74, ||grad|| = 0.028066: 100%|██████████| 92/92 [00:00<00:00, 1381.07it/s]  \n",
            "logp = -118.77, ||grad|| = 0.074673: 100%|██████████| 97/97 [00:00<00:00, 1391.27it/s]  \n",
            "logp = -130.56, ||grad|| = 0.14259: 100%|██████████| 98/98 [00:00<00:00, 1454.98it/s]  \n",
            "logp = -139.24, ||grad|| = 0.027637: 100%|██████████| 106/106 [00:00<00:00, 1402.88it/s] \n",
            "logp = -148.89, ||grad|| = 0.021136: 100%|██████████| 106/106 [00:00<00:00, 1560.82it/s] \n",
            "logp = -158.14, ||grad|| = 0.016297: 100%|██████████| 104/104 [00:00<00:00, 1369.93it/s] \n",
            "logp = -165.85, ||grad|| = 0.072552: 100%|██████████| 105/105 [00:00<00:00, 1429.59it/s] \n",
            "logp = -178.51, ||grad|| = 0.053431: 100%|██████████| 97/97 [00:00<00:00, 1340.10it/s]  \n",
            "logp = -186.15, ||grad|| = 3.674: 100%|██████████| 99/99 [00:00<00:00, 1461.25it/s]  \n",
            "logp = -200.54, ||grad|| = 0.28324: 100%|██████████| 98/98 [00:00<00:00, 1566.97it/s]  \n",
            "logp = -214.07, ||grad|| = 0.011889: 100%|██████████| 94/94 [00:00<00:00, 1409.63it/s]  \n",
            "logp = -221.12, ||grad|| = 0.032001: 100%|██████████| 95/95 [00:00<00:00, 1423.21it/s]  \n",
            "logp = -233.24, ||grad|| = 0.041053: 100%|██████████| 92/92 [00:00<00:00, 1412.56it/s]  \n",
            "logp = 38.789, ||grad|| = 45,965: 100%|██████████| 644/644 [00:00<00:00, 1440.23it/s] \n",
            "logp = -39.209, ||grad|| = 0.32646: 100%|██████████| 103/103 [00:00<00:00, 1401.18it/s] \n",
            "logp = -51.369, ||grad|| = 0.076617: 100%|██████████| 105/105 [00:00<00:00, 1517.54it/s] \n",
            "logp = -57.872, ||grad|| = 0.50457: 100%|██████████| 116/116 [00:00<00:00, 1366.07it/s] \n",
            "logp = -67.924, ||grad|| = 0.62707: 100%|██████████| 105/105 [00:00<00:00, 1594.88it/s] \n",
            "logp = -77.452, ||grad|| = 0.55258: 100%|██████████| 107/107 [00:00<00:00, 1342.45it/s] \n",
            "logp = -85.294, ||grad|| = 0.27552: 100%|██████████| 84/84 [00:00<00:00, 1546.66it/s]  \n",
            "logp = -93.813, ||grad|| = 3.5494: 100%|██████████| 99/99 [00:00<00:00, 1436.41it/s]  \n",
            "logp = -103.38, ||grad|| = 4.1675: 100%|██████████| 89/89 [00:00<00:00, 1477.09it/s]  \n",
            "logp = -121.35, ||grad|| = 0.98546: 100%|██████████| 104/104 [00:00<00:00, 1360.45it/s] \n",
            "logp = -128.21, ||grad|| = 0.77687: 100%|██████████| 91/91 [00:00<00:00, 1434.25it/s]  \n",
            "logp = -140.76, ||grad|| = 5.6086: 100%|██████████| 91/91 [00:00<00:00, 1479.97it/s]  \n",
            "logp = -156.26, ||grad|| = 1.9032: 100%|██████████| 94/94 [00:00<00:00, 1419.51it/s]  \n",
            "logp = -162.92, ||grad|| = 7.1015: 100%|██████████| 79/79 [00:00<00:00, 1581.10it/s]  \n",
            "logp = -175.52, ||grad|| = 301.81: 100%|██████████| 61/61 [00:00<00:00, 1414.57it/s]  \n",
            "logp = -184.05, ||grad|| = 0.60879: 100%|██████████| 94/94 [00:00<00:00, 1457.77it/s]  \n",
            "logp = -194.38, ||grad|| = 0.0041023: 100%|██████████| 82/82 [00:00<00:00, 1551.46it/s]  \n",
            "logp = -206.29, ||grad|| = 1.1201: 100%|██████████| 98/98 [00:00<00:00, 1376.28it/s]  \n",
            "logp = -214.02, ||grad|| = 4.5773: 100%|██████████| 88/88 [00:00<00:00, 1588.04it/s]  \n",
            "logp = -229.55, ||grad|| = 30.598: 100%|██████████| 89/89 [00:00<00:00, 1505.47it/s]  \n",
            "logp = 48.227, ||grad|| = 1.4244e+07: 100%|██████████| 277/277 [00:00<00:00, 1541.16it/s] \n",
            "logp = -38.351, ||grad|| = 0.034268: 100%|██████████| 114/114 [00:00<00:00, 1488.49it/s] \n",
            "logp = -50.868, ||grad|| = 0.042889: 100%|██████████| 97/97 [00:00<00:00, 1506.76it/s]  \n",
            "logp = -57.445, ||grad|| = 0.28121: 100%|██████████| 98/98 [00:00<00:00, 1319.23it/s]  \n",
            "logp = -67.337, ||grad|| = 0.058331: 100%|██████████| 107/107 [00:00<00:00, 1665.51it/s] \n",
            "logp = -76.779, ||grad|| = 0.14789: 100%|██████████| 97/97 [00:00<00:00, 1332.28it/s]  \n",
            "logp = -84.55, ||grad|| = 0.8016: 100%|██████████| 90/90 [00:00<00:00, 1352.54it/s]  \n",
            "logp = -93.041, ||grad|| = 3.2997: 100%|██████████| 91/91 [00:00<00:00, 1479.96it/s]  \n",
            "logp = -102.66, ||grad|| = 0.044213: 100%|██████████| 114/114 [00:00<00:00, 1463.31it/s] \n",
            "logp = -120.62, ||grad|| = 0.18016: 100%|██████████| 106/106 [00:00<00:00, 1468.54it/s] \n",
            "logp = -127.48, ||grad|| = 0.19064: 100%|██████████| 99/99 [00:00<00:00, 1411.33it/s]  \n",
            "logp = -140, ||grad|| = 0.085896: 100%|██████████| 104/104 [00:00<00:00, 1478.76it/s] \n",
            "logp = -155.46, ||grad|| = 0.01337: 100%|██████████| 93/93 [00:00<00:00, 1441.69it/s]  \n",
            "logp = -162.12, ||grad|| = 0.42144: 100%|██████████| 99/99 [00:00<00:00, 1581.15it/s]  \n",
            "logp = -173.48, ||grad|| = 0.40184: 100%|██████████| 101/101 [00:00<00:00, 1485.66it/s]\n",
            "logp = -183.26, ||grad|| = 0.086434: 100%|██████████| 104/104 [00:00<00:00, 1565.79it/s] \n",
            "logp = -193.62, ||grad|| = 0.72407: 100%|██████████| 87/87 [00:00<00:00, 1507.55it/s]  \n",
            "logp = -205.51, ||grad|| = 0.012275: 100%|██████████| 103/103 [00:00<00:00, 1496.93it/s] \n",
            "logp = -213.24, ||grad|| = 0.014898: 100%|██████████| 93/93 [00:00<00:00, 1502.19it/s]  \n",
            "logp = -228.83, ||grad|| = 0.022422: 100%|██████████| 92/92 [00:00<00:00, 1492.23it/s]  \n",
            "logp = 39.487, ||grad|| = 1.8012e+06: 100%|██████████| 977/977 [00:00<00:00, 1472.84it/s] \n",
            "logp = -35.348, ||grad|| = 0.12847: 100%|██████████| 104/104 [00:00<00:00, 1448.64it/s] \n",
            "logp = -54.78, ||grad|| = 0.30783: 100%|██████████| 118/118 [00:00<00:00, 1485.48it/s] \n",
            "logp = -65.723, ||grad|| = 0.078623: 100%|██████████| 105/105 [00:00<00:00, 1573.84it/s] \n",
            "logp = -74.381, ||grad|| = 0.025164: 100%|██████████| 102/102 [00:00<00:00, 1438.05it/s] \n",
            "logp = -82.704, ||grad|| = 1.9583: 100%|██████████| 99/99 [00:00<00:00, 1556.74it/s]  \n",
            "logp = -92.761, ||grad|| = 0.27429: 100%|██████████| 86/86 [00:00<00:00, 1466.18it/s]  \n",
            "logp = -100.5, ||grad|| = 0.33374: 100%|██████████| 98/98 [00:00<00:00, 1478.26it/s]  \n",
            "logp = -108.09, ||grad|| = 112.42: 100%|██████████| 90/90 [00:00<00:00, 1457.87it/s]  \n",
            "logp = -121.14, ||grad|| = 0.48953: 100%|██████████| 84/84 [00:00<00:00, 1389.90it/s]  \n",
            "logp = -130.13, ||grad|| = 1.3798: 100%|██████████| 87/87 [00:00<00:00, 1442.86it/s]  \n",
            "logp = -142.37, ||grad|| = 5.4398: 100%|██████████| 86/86 [00:00<00:00, 1395.38it/s]  \n",
            "logp = -151.08, ||grad|| = 0.26891: 100%|██████████| 85/85 [00:00<00:00, 1334.17it/s]  \n",
            "logp = -158.11, ||grad|| = 0.32089: 100%|██████████| 92/92 [00:00<00:00, 1496.94it/s]  \n",
            "logp = -172.47, ||grad|| = 3.3602: 100%|██████████| 89/89 [00:00<00:00, 1444.14it/s]  \n",
            "logp = -180.42, ||grad|| = 1.7079: 100%|██████████| 96/96 [00:00<00:00, 1492.30it/s]  \n",
            "logp = -189.03, ||grad|| = 0.51797: 100%|██████████| 86/86 [00:00<00:00, 1479.47it/s]  \n",
            "logp = -203.33, ||grad|| = 5.1926: 100%|██████████| 91/91 [00:00<00:00, 1641.18it/s]  \n",
            "logp = -211.17, ||grad|| = 0.27286: 100%|██████████| 93/93 [00:00<00:00, 1561.96it/s]  \n",
            "logp = -223.74, ||grad|| = 0.94847: 100%|██████████| 89/89 [00:00<00:00, 1629.36it/s]  \n",
            "logp = 40.958, ||grad|| = 310.35: 100%|██████████| 243/243 [00:00<00:00, 1515.52it/s] \n",
            "logp = -34.406, ||grad|| = 0.036856: 100%|██████████| 168/168 [00:00<00:00, 1402.08it/s] \n",
            "logp = -54.169, ||grad|| = 0.13504: 100%|██████████| 100/100 [00:00<00:00, 1214.31it/s]\n",
            "logp = -65.105, ||grad|| = 0.14604: 100%|██████████| 97/97 [00:00<00:00, 1443.56it/s]  \n",
            "logp = -73.777, ||grad|| = 0.14541: 100%|██████████| 91/91 [00:00<00:00, 1472.60it/s]  \n",
            "logp = -82.491, ||grad|| = 0.049952: 100%|██████████| 103/103 [00:00<00:00, 1473.51it/s] \n",
            "logp = -92.246, ||grad|| = 0.0093963: 100%|██████████| 94/94 [00:00<00:00, 1498.54it/s]  \n",
            "logp = -99.888, ||grad|| = 0.024951: 100%|██████████| 104/104 [00:00<00:00, 1406.54it/s] \n",
            "logp = -107.43, ||grad|| = 0.59378: 100%|██████████| 100/100 [00:00<00:00, 1353.49it/s]\n",
            "logp = -120.38, ||grad|| = 0.017196: 100%|██████████| 103/103 [00:00<00:00, 1510.91it/s] \n",
            "logp = -129.44, ||grad|| = 0.24246: 100%|██████████| 107/107 [00:00<00:00, 1414.11it/s] \n",
            "logp = -141.68, ||grad|| = 10.078: 100%|██████████| 97/97 [00:00<00:00, 1469.82it/s]  \n",
            "logp = -150.45, ||grad|| = 0.47611: 100%|██████████| 96/96 [00:00<00:00, 1501.05it/s]  \n",
            "logp = -157.55, ||grad|| = 0.020063: 100%|██████████| 104/104 [00:00<00:00, 1506.20it/s] \n",
            "logp = -171.97, ||grad|| = 0.30934: 100%|██████████| 107/107 [00:00<00:00, 1475.21it/s] \n",
            "logp = -179.97, ||grad|| = 0.20852: 100%|██████████| 99/99 [00:00<00:00, 1681.86it/s]  \n",
            "logp = -188.57, ||grad|| = 0.0072585: 100%|██████████| 93/93 [00:00<00:00, 1398.37it/s]  \n",
            "logp = -202.87, ||grad|| = 1.5273: 100%|██████████| 100/100 [00:00<00:00, 1497.29it/s]\n",
            "logp = -210.67, ||grad|| = 0.77262: 100%|██████████| 108/108 [00:00<00:00, 1491.46it/s] \n",
            "logp = -223.21, ||grad|| = 0.14589: 100%|██████████| 97/97 [00:00<00:00, 1417.08it/s]  \n",
            "logp = 43.217, ||grad|| = 3.2681e+06: 100%|██████████| 4827/4827 [00:03<00:00, 1466.88it/s]\n",
            "logp = -41.079, ||grad|| = 0.049552: 100%|██████████| 175/175 [00:00<00:00, 1446.54it/s] \n",
            "logp = -49.333, ||grad|| = 0.52662: 100%|██████████| 180/180 [00:00<00:00, 1453.37it/s] \n",
            "logp = -61.541, ||grad|| = 0.61511: 100%|██████████| 90/90 [00:00<00:00, 1500.53it/s]  \n",
            "logp = -74.344, ||grad|| = 0.93819: 100%|██████████| 89/89 [00:00<00:00, 1432.05it/s]  \n",
            "logp = -83.268, ||grad|| = 3.0926: 100%|██████████| 80/80 [00:00<00:00, 1595.17it/s]  \n",
            "logp = -92.808, ||grad|| = 0.047671: 100%|██████████| 93/93 [00:00<00:00, 1344.72it/s]  \n",
            "logp = -105.47, ||grad|| = 0.19329: 100%|██████████| 97/97 [00:00<00:00, 1501.49it/s]  \n",
            "logp = -115.6, ||grad|| = 3.6163: 100%|██████████| 81/81 [00:00<00:00, 1392.67it/s]  \n",
            "logp = -129.49, ||grad|| = 0.62791: 100%|██████████| 95/95 [00:00<00:00, 1343.72it/s]  \n",
            "logp = -139.86, ||grad|| = 0.08014: 100%|██████████| 92/92 [00:00<00:00, 1444.16it/s]  \n",
            "logp = -154.83, ||grad|| = 0.1895: 100%|██████████| 94/94 [00:00<00:00, 1582.98it/s]  \n",
            "logp = -166.22, ||grad|| = 0.4629: 100%|██████████| 94/94 [00:00<00:00, 1270.10it/s]  \n",
            "logp = -173.05, ||grad|| = 0.64016: 100%|██████████| 94/94 [00:00<00:00, 1491.88it/s]  \n",
            "logp = -186.23, ||grad|| = 0.29335: 100%|██████████| 83/83 [00:00<00:00, 1443.19it/s]  \n",
            "logp = -193, ||grad|| = 4.5383: 100%|██████████| 91/91 [00:00<00:00, 1378.27it/s]  \n",
            "logp = -208.04, ||grad|| = 0.19887: 100%|██████████| 93/93 [00:00<00:00, 1581.72it/s]  \n",
            "logp = -219.56, ||grad|| = 0.27411: 100%|██████████| 84/84 [00:00<00:00, 1491.00it/s]  \n",
            "logp = -226.6, ||grad|| = 0.45752: 100%|██████████| 97/97 [00:00<00:00, 1420.62it/s]  \n",
            "logp = -237.17, ||grad|| = 0.40435: 100%|██████████| 97/97 [00:00<00:00, 1221.05it/s]  \n",
            "logp = 39.106, ||grad|| = 1,151.7: 100%|██████████| 272/272 [00:00<00:00, 1475.45it/s] \n",
            "logp = -41.224, ||grad|| = 0.052799: 100%|██████████| 111/111 [00:00<00:00, 1518.59it/s] \n",
            "logp = -49.362, ||grad|| = 0.054386: 100%|██████████| 109/109 [00:00<00:00, 1428.37it/s] \n",
            "logp = -60.72, ||grad|| = 0.046668: 100%|██████████| 94/94 [00:00<00:00, 1368.55it/s]  \n",
            "logp = -73.581, ||grad|| = 0.11639: 100%|██████████| 105/105 [00:00<00:00, 1481.94it/s] \n",
            "logp = -82.514, ||grad|| = 0.8259: 100%|██████████| 100/100 [00:00<00:00, 1466.24it/s]\n",
            "logp = -92.044, ||grad|| = 0.058434: 100%|██████████| 96/96 [00:00<00:00, 1375.23it/s]  \n",
            "logp = -104.71, ||grad|| = 0.014256: 100%|██████████| 106/106 [00:00<00:00, 1515.93it/s] \n",
            "logp = -114.85, ||grad|| = 0.04622: 100%|██████████| 96/96 [00:00<00:00, 1389.14it/s]  \n",
            "logp = -128.76, ||grad|| = 0.62471: 100%|██████████| 89/89 [00:00<00:00, 1523.07it/s]  \n",
            "logp = -139.1, ||grad|| = 0.082725: 100%|██████████| 93/93 [00:00<00:00, 1390.02it/s]  \n",
            "logp = -154.25, ||grad|| = 0.065238: 100%|██████████| 108/108 [00:00<00:00, 1429.77it/s] \n",
            "logp = -165.68, ||grad|| = 0.18733: 100%|██████████| 94/94 [00:00<00:00, 1330.83it/s]  \n",
            "logp = -172.61, ||grad|| = 0.33447: 100%|██████████| 97/97 [00:00<00:00, 1487.40it/s]  \n",
            "logp = -185.81, ||grad|| = 0.42806: 100%|██████████| 98/98 [00:00<00:00, 1336.86it/s]  \n",
            "logp = -192.6, ||grad|| = 0.15239: 100%|██████████| 98/98 [00:00<00:00, 1450.56it/s]  \n",
            "logp = -207.76, ||grad|| = 13.044: 100%|██████████| 87/87 [00:00<00:00, 1434.03it/s]  \n",
            "logp = -219.12, ||grad|| = 0.014504: 100%|██████████| 102/102 [00:00<00:00, 1586.46it/s] \n",
            "logp = -226.17, ||grad|| = 0.029864: 100%|██████████| 108/108 [00:00<00:00, 1391.65it/s] \n",
            "logp = -236.76, ||grad|| = 0.0095989: 100%|██████████| 93/93 [00:00<00:00, 1435.08it/s]  \n",
            "logp = 40.231, ||grad|| = 1,704.2: 100%|██████████| 1283/1283 [00:00<00:00, 1487.17it/s]\n",
            "logp = -30.699, ||grad|| = 0.25: 100%|██████████| 224/224 [00:00<00:00, 1520.79it/s] \n",
            "logp = -46.795, ||grad|| = 0.2633: 100%|██████████| 136/136 [00:00<00:00, 1360.43it/s] \n",
            "logp = -62.181, ||grad|| = 0.17618: 100%|██████████| 168/168 [00:00<00:00, 1414.22it/s] \n",
            "logp = -77.601, ||grad|| = 0.87312: 100%|██████████| 95/95 [00:00<00:00, 1423.60it/s]  \n",
            "logp = -93.073, ||grad|| = 0.91342: 100%|██████████| 90/90 [00:00<00:00, 1504.23it/s]  \n",
            "logp = -103.19, ||grad|| = 1.7746: 100%|██████████| 81/81 [00:00<00:00, 1371.84it/s]  \n",
            "logp = -110.18, ||grad|| = 0.046074: 100%|██████████| 92/92 [00:00<00:00, 1477.27it/s]  \n",
            "logp = -118.66, ||grad|| = 0.67732: 100%|██████████| 84/84 [00:00<00:00, 1471.45it/s]  \n",
            "logp = -130.01, ||grad|| = 0.2035: 100%|██████████| 85/85 [00:00<00:00, 1442.38it/s]  \n",
            "logp = -139.63, ||grad|| = 0.37502: 100%|██████████| 84/84 [00:00<00:00, 1378.22it/s]  \n",
            "logp = -152.98, ||grad|| = 1.2516: 100%|██████████| 108/108 [00:00<00:00, 1429.68it/s] \n",
            "logp = -161.61, ||grad|| = 0.26953: 100%|██████████| 87/87 [00:00<00:00, 1427.55it/s]  \n",
            "logp = -172.13, ||grad|| = 0.97302: 100%|██████████| 88/88 [00:00<00:00, 1349.38it/s]  \n",
            "logp = -183.79, ||grad|| = 1.5904: 100%|██████████| 109/109 [00:00<00:00, 1424.49it/s] \n",
            "logp = -190.71, ||grad|| = 7.5842: 100%|██████████| 77/77 [00:00<00:00, 1450.59it/s]  \n",
            "logp = -199.92, ||grad|| = 9.211: 100%|██████████| 111/111 [00:00<00:00, 1452.13it/s] \n",
            "logp = -210.81, ||grad|| = 2.374: 100%|██████████| 90/90 [00:00<00:00, 1387.98it/s]  \n",
            "logp = -219.38, ||grad|| = 0.77747: 100%|██████████| 92/92 [00:00<00:00, 1396.29it/s]  \n",
            "logp = -235.12, ||grad|| = 2.2801: 100%|██████████| 79/79 [00:00<00:00, 1563.24it/s]  \n",
            "logp = 38.564, ||grad|| = 1.9779e+05: 100%|██████████| 237/237 [00:00<00:00, 1469.66it/s] \n",
            "logp = -30.991, ||grad|| = 0.49429: 100%|██████████| 121/121 [00:00<00:00, 1501.66it/s] \n",
            "logp = -46.632, ||grad|| = 14.606: 100%|██████████| 80/80 [00:00<00:00, 1296.19it/s]  \n",
            "logp = -62.749, ||grad|| = 0.0091554: 100%|██████████| 95/95 [00:00<00:00, 1485.31it/s]  \n",
            "logp = -77.237, ||grad|| = 0.020078: 100%|██████████| 95/95 [00:00<00:00, 1455.21it/s]  \n",
            "logp = -92.5, ||grad|| = 2.437: 100%|██████████| 90/90 [00:00<00:00, 1546.15it/s]  \n",
            "logp = -102.56, ||grad|| = 0.025228: 100%|██████████| 102/102 [00:00<00:00, 1371.98it/s] \n",
            "logp = -109.54, ||grad|| = 0.1072: 100%|██████████| 95/95 [00:00<00:00, 1492.13it/s]  \n",
            "logp = -118.01, ||grad|| = 0.010592: 100%|██████████| 93/93 [00:00<00:00, 1465.52it/s]  \n",
            "logp = -129.31, ||grad|| = 0.035972: 100%|██████████| 97/97 [00:00<00:00, 1490.07it/s]  \n",
            "logp = -138.98, ||grad|| = 1.4577: 100%|██████████| 98/98 [00:00<00:00, 1518.72it/s]  \n",
            "logp = -152.45, ||grad|| = 0.082369: 100%|██████████| 100/100 [00:00<00:00, 1492.50it/s]\n",
            "logp = -161, ||grad|| = 0.0088971: 100%|██████████| 102/102 [00:00<00:00, 1509.80it/s] \n",
            "logp = -171.52, ||grad|| = 0.080752: 100%|██████████| 121/121 [00:00<00:00, 1513.54it/s] \n",
            "logp = -183.23, ||grad|| = 0.078994: 100%|██████████| 110/110 [00:00<00:00, 1412.16it/s] \n",
            "logp = -190.16, ||grad|| = 2.1843: 100%|██████████| 110/110 [00:00<00:00, 1362.17it/s] \n",
            "logp = -199.35, ||grad|| = 0.11456: 100%|██████████| 100/100 [00:00<00:00, 1424.14it/s]\n",
            "logp = -210.22, ||grad|| = 0.033918: 100%|██████████| 93/93 [00:00<00:00, 1440.28it/s]  \n",
            "logp = -218.8, ||grad|| = 7.6196: 100%|██████████| 91/91 [00:00<00:00, 1435.73it/s]  \n",
            "logp = -234.57, ||grad|| = 0.025729: 100%|██████████| 95/95 [00:00<00:00, 1411.70it/s]  \n"
          ],
          "name": "stderr"
        }
      ]
    },
    {
      "cell_type": "markdown",
      "metadata": {
        "id": "hXj11YQBBcXm",
        "colab_type": "text"
      },
      "source": [
        "Plot the average errors for the different sample size. The error bars represent the min-max range of the errors over the 5 runs."
      ]
    },
    {
      "cell_type": "code",
      "metadata": {
        "id": "KCcY1gMAe2MJ",
        "colab_type": "code",
        "colab": {}
      },
      "source": [
        "by_row_index = df_error_mle_all.groupby(df_error_mle_all.index)\n",
        "df_error_mle_means = by_row_index.mean()\n",
        "df_error_mle_min = by_row_index.min()\n",
        "df_error_mle_max = by_row_index.max()\n",
        "by_row_index = df_error_map_all.groupby(df_error_map_all.index)\n",
        "df_error_map_means = by_row_index.mean()\n",
        "df_error_map_min = by_row_index.min()\n",
        "df_error_map_max = by_row_index.max()"
      ],
      "execution_count": 0,
      "outputs": []
    },
    {
      "cell_type": "code",
      "metadata": {
        "id": "g_Z8_8215mp0",
        "colab_type": "code",
        "outputId": "94aaeecd-0f2f-49cd-b1c8-a3af9bae36f7",
        "colab": {
          "base_uri": "https://localhost:8080/",
          "height": 618
        }
      },
      "source": [
        "Estimator.plot_estimators_comparison_mle_map(df_error_mle_means, df_error_mle_min, df_error_mle_max,\n",
        "                                             df_error_map_means, df_error_map_min, df_error_map_max)"
      ],
      "execution_count": 0,
      "outputs": [
        {
          "output_type": "display_data",
          "data": {
            "image/png": "[encoded data removed]",
            "text/plain": [
              "<Figure size 1440x720 with 8 Axes>"
            ]
          },
          "metadata": {
            "tags": [],
            "needs_background": "light"
          }
        }
      ]
    },
    {
      "cell_type": "markdown",
      "metadata": {
        "id": "JLEKgaDSqKDP",
        "colab_type": "text"
      },
      "source": [
        "## Problem 2. Poisson Distributed Data"
      ]
    },
    {
      "cell_type": "markdown",
      "metadata": {
        "id": "NbI6GV1WBoPZ",
        "colab_type": "text"
      },
      "source": [
        "Repeat the same experiment with Poisson distributed data.\n",
        "Generate synthetic data based on: <br>\n",
        "$Y = \\alpha + \\sum_{i=0}^{d} \\beta_i X_i + \\epsilon$ <br>\n",
        "where: <br>\n",
        " $\\forall i \\in \\{1, ..., d\\}$, $\\forall j \\in \\{1, ..., N\\}$, $X_{i,j} \\sim Pois(\\mu_i)$ are user-defined,<br>\n",
        "$d$ represents total number of features, $N$ represents total number of samples, <br>\n",
        "$\\alpha$ is the intercept, $\\beta$ is the coefficient for covariate $X_i$ and is a vector in $\\mathbb{R}^d$, <br>\n",
        "and $\\epsilon$ represents the observation error according to $\\epsilon \\sim \\mathcal{N}(0, \\sigma_{e}^2)$. <br>\n",
        "Hence, due to affine property of Gaussians, $Y \\sim(\\mu, \\sigma_{e}^2)$ where $\\mu = \\alpha + \\sum_{i=0}^{d} \\beta_i X_i$. \n",
        "\n",
        "Define the parameters for the inputs, model and priors. <br>\n",
        "Parameters for the inputs $X_i \\sim Pois(\\mu_i)$ are $\\mu_i$ where $i \\in \\{1, ..., d\\}$. <br>\n",
        "Parameters for the linear regression model $Y \\sim(\\mu, \\sigma_{e}^2)$ where $\\mu = \\alpha + \\sum_{i=0}^{d} \\beta_i X_i$ are $\\alpha$, $\\beta_i$ and $\\sigma_e$ where $i \\in \\{1, ..., d\\}$. <br>\n"
      ]
    },
    {
      "cell_type": "code",
      "metadata": {
        "id": "NkQFwGIasASl",
        "colab_type": "code",
        "colab": {}
      },
      "source": [
        "# Maximum number of sample size\n",
        "N = 100\n",
        "\n",
        "predictor_parameters = {\n",
        "    'mus': [5, 7, 10, 20, 15, 3],\n",
        "}\n",
        "\n",
        "true_model_parameters = {\n",
        "    'alpha': -5,\n",
        "    'beta': [5, 10, 1, 3, -7, 2],\n",
        "    'sigma': 2\n",
        "}\n",
        "\n",
        "prior_mle_parameters = {\n",
        "    'alpha': {\n",
        "        'lower': -15, \n",
        "        'upper': 15,\n",
        "    },\n",
        "    'beta': {\n",
        "        'lower': -15, \n",
        "        'upper': 15,\n",
        "    },\n",
        "    'sigma': {\n",
        "        'lower': 0, \n",
        "        'upper': 10,\n",
        "    }\n",
        "}\n",
        "\n",
        "prior_map_parameters = {\n",
        "    'alpha':{\n",
        "        'mu': 0,\n",
        "        'sigma': 10\n",
        "    },\n",
        "    'beta':{\n",
        "        'mu': 0,\n",
        "        'sigma': 10\n",
        "    },\n",
        "    'sigma': 5\n",
        "}"
      ],
      "execution_count": 0,
      "outputs": []
    },
    {
      "cell_type": "markdown",
      "metadata": {
        "id": "lw8TNVofCHTT",
        "colab_type": "text"
      },
      "source": [
        "Plot the histogram of the data generated based on the true parameters."
      ]
    },
    {
      "cell_type": "code",
      "metadata": {
        "id": "NT1OvOe-sTtj",
        "colab_type": "code",
        "outputId": "4299a4be-e7e9-4ac2-aa1e-f5f4f0fc44a8",
        "colab": {
          "base_uri": "https://localhost:8080/",
          "height": 364
        }
      },
      "source": [
        "X, Y = DataGenerator.generator_poisson(N,\n",
        "                              predictor_parameters=predictor_parameters,\n",
        "                              true_model_parameters=true_model_parameters)\n",
        "\n",
        "DataGenerator.plot_hist_data(X, Y)"
      ],
      "execution_count": 0,
      "outputs": [
        {
          "output_type": "error",
          "ename": "NameError",
          "evalue": "ignored",
          "traceback": [
            "\u001b[0;31m---------------------------------------------------------------------------\u001b[0m",
            "\u001b[0;31mNameError\u001b[0m                                 Traceback (most recent call last)",
            "\u001b[0;32m<ipython-input-11-ab87f719b768>\u001b[0m in \u001b[0;36m<module>\u001b[0;34m()\u001b[0m\n\u001b[1;32m      1\u001b[0m X, Y = DataGenerator.generator_poisson(N,\n\u001b[1;32m      2\u001b[0m                               \u001b[0mpredictor_parameters\u001b[0m\u001b[0;34m=\u001b[0m\u001b[0mpredictor_parameters\u001b[0m\u001b[0;34m,\u001b[0m\u001b[0;34m\u001b[0m\u001b[0;34m\u001b[0m\u001b[0m\n\u001b[0;32m----> 3\u001b[0;31m                               true_model_parameters=true_model_parameters)\n\u001b[0m\u001b[1;32m      4\u001b[0m \u001b[0;34m\u001b[0m\u001b[0m\n\u001b[1;32m      5\u001b[0m \u001b[0mDataGenerator\u001b[0m\u001b[0;34m.\u001b[0m\u001b[0mplot_hist_data\u001b[0m\u001b[0;34m(\u001b[0m\u001b[0mX\u001b[0m\u001b[0;34m,\u001b[0m \u001b[0mY\u001b[0m\u001b[0;34m)\u001b[0m\u001b[0;34m\u001b[0m\u001b[0;34m\u001b[0m\u001b[0m\n",
            "\u001b[0;32m<ipython-input-3-bdbc7a1c2bc5>\u001b[0m in \u001b[0;36mgenerator_poisson\u001b[0;34m(size, predictor_parameters, true_model_parameters)\u001b[0m\n\u001b[1;32m     53\u001b[0m         \u001b[0;32mfor\u001b[0m \u001b[0mi\u001b[0m \u001b[0;32min\u001b[0m \u001b[0mrange\u001b[0m\u001b[0;34m(\u001b[0m\u001b[0mlen\u001b[0m\u001b[0;34m(\u001b[0m\u001b[0mmus\u001b[0m\u001b[0;34m)\u001b[0m\u001b[0;34m)\u001b[0m\u001b[0;34m:\u001b[0m\u001b[0;34m\u001b[0m\u001b[0;34m\u001b[0m\u001b[0m\n\u001b[1;32m     54\u001b[0m             \u001b[0mmu\u001b[0m \u001b[0;34m=\u001b[0m \u001b[0mmus\u001b[0m\u001b[0;34m[\u001b[0m\u001b[0mi\u001b[0m\u001b[0;34m]\u001b[0m\u001b[0;34m\u001b[0m\u001b[0;34m\u001b[0m\u001b[0m\n\u001b[0;32m---> 55\u001b[0;31m             \u001b[0mx\u001b[0m \u001b[0;34m=\u001b[0m \u001b[0mnp\u001b[0m\u001b[0;34m.\u001b[0m\u001b[0mrandom\u001b[0m\u001b[0;34m.\u001b[0m\u001b[0mpoisson\u001b[0m\u001b[0;34m(\u001b[0m\u001b[0mm\u001b[0m\u001b[0;34m,\u001b[0m \u001b[0;36m100\u001b[0m\u001b[0;34m)\u001b[0m\u001b[0;34m.\u001b[0m\u001b[0mastype\u001b[0m\u001b[0;34m(\u001b[0m\u001b[0;34m'float64'\u001b[0m\u001b[0;34m)\u001b[0m\u001b[0;34m\u001b[0m\u001b[0;34m\u001b[0m\u001b[0m\n\u001b[0m\u001b[1;32m     56\u001b[0m             \u001b[0mX\u001b[0m\u001b[0;34m.\u001b[0m\u001b[0mappend\u001b[0m\u001b[0;34m(\u001b[0m\u001b[0mx\u001b[0m\u001b[0;34m)\u001b[0m\u001b[0;34m\u001b[0m\u001b[0;34m\u001b[0m\u001b[0m\n\u001b[1;32m     57\u001b[0m \u001b[0;34m\u001b[0m\u001b[0m\n",
            "\u001b[0;31mNameError\u001b[0m: name 'm' is not defined"
          ]
        }
      ]
    },
    {
      "cell_type": "markdown",
      "metadata": {
        "id": "CQB_xnMRCL4j",
        "colab_type": "text"
      },
      "source": [
        "Compute the error between true and estimated parameters for both MLE and MAP methods. Repeat the process for 5 times."
      ]
    },
    {
      "cell_type": "code",
      "metadata": {
        "id": "SzFp7cX5xgX7",
        "colab_type": "code",
        "colab": {}
      },
      "source": [
        "df_error_mle_all = pd.DataFrame()\n",
        "df_error_map_all = pd.DataFrame()\n",
        "N_trials = 5\n",
        "for i in range(N_trials):\n",
        "    df_error_mle, df_error_map = Estimator.study_synthetics(N, \n",
        "                                                            'poisson',\n",
        "                                                            predictor_parameters,\n",
        "                                                            prior_mle_parameters,\n",
        "                                                            prior_map_parameters,\n",
        "                                                            true_model_parameters,\n",
        "                                                            nb_points=20)\n",
        "    df_error_mle_all = pd.concat((df_error_mle_all, df_error_mle))\n",
        "    df_error_map_all = pd.concat((df_error_map_all, df_error_map))"
      ],
      "execution_count": 0,
      "outputs": []
    },
    {
      "cell_type": "code",
      "metadata": {
        "id": "ppCozpgCyACZ",
        "colab_type": "code",
        "colab": {}
      },
      "source": [
        "by_row_index = df_error_mle_all.groupby(df_error_mle_all.index)\n",
        "df_error_mle_means = by_row_index.mean()\n",
        "df_error_mle_min = by_row_index.min()\n",
        "df_error_mle_max = by_row_index.max()\n",
        "by_row_index = df_error_map_all.groupby(df_error_map_all.index)\n",
        "df_error_map_means = by_row_index.mean()\n",
        "df_error_map_min = by_row_index.min()\n",
        "df_error_map_max = by_row_index.max()"
      ],
      "execution_count": 0,
      "outputs": []
    },
    {
      "cell_type": "markdown",
      "metadata": {
        "id": "kN-X8sF3CSH0",
        "colab_type": "text"
      },
      "source": [
        "Plot the average errors for the different sample size. The error bars represent the min-max range of the errors over the 5 runs."
      ]
    },
    {
      "cell_type": "code",
      "metadata": {
        "id": "3PdIln0sxzUB",
        "colab_type": "code",
        "colab": {}
      },
      "source": [
        "Estimator.plot_estimators_comparison_mle_map(df_error_mle_means, df_error_mle_min, df_error_mle_max,\n",
        "                                             df_error_map_means, df_error_map_min, df_error_map_max)"
      ],
      "execution_count": 0,
      "outputs": []
    },
    {
      "cell_type": "markdown",
      "metadata": {
        "id": "k1UL6MAjwODL",
        "colab_type": "text"
      },
      "source": [
        "---\n",
        "# Q2 Exploring the effects of the prior on the MAP estimates\n",
        "---\n",
        "We explore various scenerios, to determine the effect of the prior on the MAP solution. We start with two classic examples (coin flip and dice throw) and then move on to a more common distribution. The different distributions explored:\n",
        "- Binomial distribution (coin flip)\n",
        "- Multinomial distribution (dice throw)\n",
        "- Normal distribution\n",
        "- Poisson distribution\n",
        "\n",
        "To find the MAP, we use two methods: the BFGS algorithm and the MCMC sampling. The estimates obtained are then averaged between the two methods."
      ]
    },
    {
      "cell_type": "markdown",
      "metadata": {
        "id": "DyXWIgXeCiJU",
        "colab_type": "text"
      },
      "source": [
        "## Problem 1: Coin Flip (Binomial distribution)"
      ]
    },
    {
      "cell_type": "markdown",
      "metadata": {
        "id": "Xbm1GLe7vNkt",
        "colab_type": "text"
      },
      "source": [
        "We start with a basic problem.\n",
        "\n",
        "**Problem Setup:** <br>\n",
        "Suppose we want to determine if a coin is fair one. \n",
        "We can model this by using a Binomial distribution, where the outcome of Heads=1, and Tails=0. \n",
        "\n",
        "**Model:** <br>\n",
        "We can model the outcomes with a Binomial Distribution of $k$ independent trials, and for $N$ samples. ie, 2 coin flips ($k$), 5 times ($N$). A suitable choice of prior would be the Beta distribution as it is conjugate to the Binomial. \n",
        "\n",
        "To examine the effect of the prior on MAP, we vary the parameters of the Beta distribution to change the shape of the distribution, reflecting our Prior knowledge. "
      ]
    },
    {
      "cell_type": "code",
      "metadata": {
        "id": "MsIksF1-xwmL",
        "colab_type": "code",
        "colab": {}
      },
      "source": [
        "''' Define a Binomial distribution'''\n",
        "np.random.seed(23)\n",
        "\n",
        "# True parameter value  - Biased coin with 70% chance of Heads\n",
        "true_p = 0.7\n",
        "\n",
        "# Sample size; ie. How many independent coin flips in one sample\n",
        "N = 2\n",
        "\n",
        "# Number of samples drawn in dataset; ie. How many samples of sample_size=N were drawn\n",
        "num_samples = 5\n",
        "\n",
        "# Generate random data based on true_theta\n",
        "x = binomial(N, true_p, size=num_samples)\n",
        "sns.countplot(x)\n",
        "plt.xlabel('Number of heads')"
      ],
      "execution_count": 0,
      "outputs": []
    },
    {
      "cell_type": "markdown",
      "metadata": {
        "id": "-TN75qUkUTaT",
        "colab_type": "text"
      },
      "source": [
        "Above plot counts the samples, and the respective number of heads. "
      ]
    },
    {
      "cell_type": "markdown",
      "metadata": {
        "id": "_RBKufqHHnPc",
        "colab_type": "text"
      },
      "source": [
        "###Uniform Prior\n",
        "(Assume fair coin) <br>\n",
        "We sample the data we have with MCMC 1000 times, to generate an estimate for the posterior. The MAP is then the peak of the posterior. "
      ]
    },
    {
      "cell_type": "code",
      "metadata": {
        "id": "nfjAFOhHBHFm",
        "colab_type": "code",
        "colab": {}
      },
      "source": [
        "fig, ax = plt.subplots(1, 1)\n",
        "fig.suptitle('Uniform Distribution')\n",
        "uniform_x = np.linspace(uniform.ppf(0.01),\n",
        "                        uniform.ppf(0.99), 100)\n",
        "uniform_dist = uniform()\n",
        "ax.plot(uniform_x, uniform_dist.pdf(uniform_x), 'k-', lw=2)\n",
        "print('Mean of Uniform distribution: {:.2f}'.format(uniform_x.mean()))"
      ],
      "execution_count": 0,
      "outputs": []
    },
    {
      "cell_type": "code",
      "metadata": {
        "id": "NoieGfx5xwYQ",
        "colab_type": "code",
        "colab": {}
      },
      "source": [
        "model = pm.Model()\n",
        "with model:\n",
        "    # Priors for unknown model parameters\n",
        "    p = pm.Uniform('p')\n",
        "    # Expected value of outcome\n",
        "    y_obs = pm.Binomial('y', n=N, p=p, observed=x)\n",
        "\n",
        "    # Sample from posterior distribution\n",
        "    step = pm.NUTS()\n",
        "    trace = pm.sample(1000, step)\n",
        "bfgs_estimate = pm.find_MAP(model=model)['p'].item()\n",
        "mcmc_estimate = pm.summary(trace)['mean'][0]\n",
        "ax = pm.plot_posterior(trace)"
      ],
      "execution_count": 0,
      "outputs": []
    },
    {
      "cell_type": "code",
      "metadata": {
        "id": "w6M8CdBcH_Bn",
        "colab_type": "code",
        "colab": {}
      },
      "source": [
        "avg_estimate = (mcmc_estimate + bfgs_estimate) / 2\n",
        "error = abs(true_p - avg_estimate)\n",
        "print('\\nMAP Estimate (BFGS method) = {:.2f}'.format(bfgs_estimate))\n",
        "print('MAP Estimate (MCMC method) = {:.2f}'.format(mcmc_estimate))\n",
        "print('MAP Estimate (Averaged) = {:.2f}'.format(avg_estimate))\n",
        "print('Error = {:.2f}'.format(error))"
      ],
      "execution_count": 0,
      "outputs": []
    },
    {
      "cell_type": "markdown",
      "metadata": {
        "id": "uNTrfzvFPg1Q",
        "colab_type": "text"
      },
      "source": [
        "With only 5 samples, and no prior information, we get an estimated p=0.59. Let's us add some prior information. "
      ]
    },
    {
      "cell_type": "markdown",
      "metadata": {
        "id": "MeFTMZC3QVX4",
        "colab_type": "text"
      },
      "source": [
        "### Beta Prior - High chance of Heads\n",
        "Assuming we have some prior knowledge that the coin is biased, with a higher chance of getting Heads. \n",
        "We can use a Beta distribution with a peak near 1 (assume p=0.8) to model this prior. α=5, β=2 "
      ]
    },
    {
      "cell_type": "code",
      "metadata": {
        "id": "MDq-06kKRLGr",
        "colab_type": "code",
        "colab": {}
      },
      "source": [
        "fig, ax = plt.subplots(1, 1)\n",
        "fig.suptitle('Beta Distribution, α=5,β=2')\n",
        "a = 5\n",
        "b = 2\n",
        "beta_x = np.linspace(beta.ppf(0.01, a, b),\n",
        "                beta.ppf(0.99, a, b), 100)\n",
        "beta_dist = beta(a,b)\n",
        "ax.plot(beta_x, beta_dist.pdf(beta_x), 'k-', lw=2)"
      ],
      "execution_count": 0,
      "outputs": []
    },
    {
      "cell_type": "code",
      "metadata": {
        "id": "0QNdrxj8QU8D",
        "colab_type": "code",
        "colab": {}
      },
      "source": [
        "model = pm.Model()\n",
        "with model:\n",
        "    # Priors for unknown model parameters\n",
        "    p = pm.Beta('p', alpha=a, beta=b)\n",
        "    # Expected value of outcome\n",
        "    y_obs = pm.Binomial('y', n=N, p=p, observed=x)\n",
        "\n",
        "    # Sample from posterior distribution\n",
        "    step = pm.NUTS()\n",
        "    trace = pm.sample(1000, step)\n",
        "bfgs_estimate = pm.find_MAP(model=model)['p'].item()\n",
        "mcmc_estimate = pm.summary(trace)['mean'][0]\n",
        "ax = pm.plot_posterior(trace)"
      ],
      "execution_count": 0,
      "outputs": []
    },
    {
      "cell_type": "code",
      "metadata": {
        "id": "_u4OugL0TWZl",
        "colab_type": "code",
        "colab": {}
      },
      "source": [
        "avg_estimate = (mcmc_estimate + bfgs_estimate) / 2\n",
        "error = abs(true_p - avg_estimate)\n",
        "print('\\nMAP Estimate (BFGS method) = {:.2f}'.format(bfgs_estimate))\n",
        "print('MAP Estimate (MCMC method) = {:.2f}'.format(mcmc_estimate))\n",
        "print('MAP Estimate (Averaged) = {:.2f}'.format(avg_estimate))\n",
        "print('Error = {:.2f}'.format(error))"
      ],
      "execution_count": 0,
      "outputs": []
    },
    {
      "cell_type": "markdown",
      "metadata": {
        "id": "Hb4FAMLqZELy",
        "colab_type": "text"
      },
      "source": [
        "We see that with a suitable prior, the MAP estimate incorporates the prior, and brings us closer to the true p value of 0.7."
      ]
    },
    {
      "cell_type": "markdown",
      "metadata": {
        "id": "k_9MaL0jagut",
        "colab_type": "text"
      },
      "source": [
        "### Beta Prior - High chance of Tails\n",
        "What happens if our Prior knowledge is incorrect? Let us assume that the coin has a high chance of Tails. We use a Beta distribution with α=2, β=5 to model a p value that is close to 0 (p=0.2). \n"
      ]
    },
    {
      "cell_type": "code",
      "metadata": {
        "id": "PZju8vsITZyG",
        "colab_type": "code",
        "colab": {}
      },
      "source": [
        "fig, ax = plt.subplots(1, 1)\n",
        "fig.suptitle('Beta Distribution, α=2,β=5')\n",
        "a = 2\n",
        "b = 5\n",
        "beta_x = np.linspace(beta.ppf(0.01, a, b),\n",
        "                beta.ppf(0.99, a, b), 100)\n",
        "beta_dist = beta(a,b)\n",
        "ax.plot(beta_x, beta_dist.pdf(beta_x), 'k-', lw=2)\n",
        "print('Mean of beta distribution: {:.2f}'.format(beta_x.mean()))"
      ],
      "execution_count": 0,
      "outputs": []
    },
    {
      "cell_type": "code",
      "metadata": {
        "id": "uL3w6QW5TZvH",
        "colab_type": "code",
        "colab": {}
      },
      "source": [
        "model = pm.Model()\n",
        "with model:\n",
        "    # Priors for unknown model parameters\n",
        "    p = pm.Beta('p', alpha=a, beta=b)\n",
        "    # Expected value of outcome\n",
        "    y_obs = pm.Binomial('y', n=N, p=p, observed=x)\n",
        "\n",
        "    # Sample from posterior distribution\n",
        "    step = pm.NUTS()\n",
        "    trace = pm.sample(1000, step)\n",
        "bfgs_estimate = pm.find_MAP(model=model)['p'].item()\n",
        "mcmc_estimate = pm.summary(trace)['mean'][0]\n",
        "ax = pm.plot_posterior(trace)"
      ],
      "execution_count": 0,
      "outputs": []
    },
    {
      "cell_type": "code",
      "metadata": {
        "id": "sAKjLl4vTZpz",
        "colab_type": "code",
        "colab": {}
      },
      "source": [
        "avg_estimate = (mcmc_estimate + bfgs_estimate) / 2\n",
        "error = abs(true_p - avg_estimate)\n",
        "print('\\nMAP Estimate (BFGS method) = {:.2f}'.format(bfgs_estimate))\n",
        "print('MAP Estimate (MCMC method) = {:.2f}'.format(mcmc_estimate))\n",
        "print('MAP Estimate (Averaged) = {:.2f}'.format(avg_estimate))\n",
        "print('Error = {:.2f}'.format(error))"
      ],
      "execution_count": 0,
      "outputs": []
    },
    {
      "cell_type": "markdown",
      "metadata": {
        "id": "fE7FzyujJzbo",
        "colab_type": "text"
      },
      "source": [
        "We see that the error of the MAP estimate increases when inappropriate prior is incorporated."
      ]
    },
    {
      "cell_type": "markdown",
      "metadata": {
        "id": "P52ikjsRbOHj",
        "colab_type": "text"
      },
      "source": [
        "### More Data\n",
        "We saw above that if we provided the model with a prior that is the far away from the true value of p, the model performs poorly, and expectedly so. Let's see how the error changes when we increase the number of data samples. "
      ]
    },
    {
      "cell_type": "code",
      "metadata": {
        "id": "PiC5hBS2bL3p",
        "colab_type": "code",
        "colab": {}
      },
      "source": [
        "np.random.seed(23)\n",
        "# Increase the amount of data collected from 5 to 100\n",
        "num_samples = 100\n",
        "\n",
        "# Generate random data based on true_theta\n",
        "x = binomial(N, true_p, size=num_samples)\n",
        "sns.countplot(x)\n",
        "plt.xlabel('Number of heads')"
      ],
      "execution_count": 0,
      "outputs": []
    },
    {
      "cell_type": "code",
      "metadata": {
        "id": "nHz7vU9iKX_2",
        "colab_type": "code",
        "colab": {}
      },
      "source": [
        "# Uniform Prior\n",
        "model = pm.Model()\n",
        "with model:\n",
        "    # Priors for unknown model parameters\n",
        "    p = pm.Uniform('p')\n",
        "    # Expected value of outcome\n",
        "    y_obs = pm.Binomial('y', n=N, p=p, observed=x)\n",
        "\n",
        "    # Sample from posterior distribution\n",
        "    step = pm.NUTS()\n",
        "    trace = pm.sample(1000, step)\n",
        "bfgs_estimate = pm.find_MAP(model=model)['p'].item()\n",
        "mcmc_estimate = pm.summary(trace)['mean'][0]\n",
        "ax = pm.plot_posterior(trace)"
      ],
      "execution_count": 0,
      "outputs": []
    },
    {
      "cell_type": "code",
      "metadata": {
        "id": "UkbzC2DpKcQ6",
        "colab_type": "code",
        "colab": {}
      },
      "source": [
        "avg_estimate = (mcmc_estimate + bfgs_estimate) / 2\n",
        "error = abs(true_p - avg_estimate)\n",
        "print('\\nMAP Estimate (BFGS method) = {:.2f}'.format(bfgs_estimate))\n",
        "print('MAP Estimate (MCMC method) = {:.2f}'.format(mcmc_estimate))\n",
        "print('MAP Estimate (Averaged) = {:.2f}'.format(avg_estimate))\n",
        "print('Error = {:.2f}'.format(error))"
      ],
      "execution_count": 0,
      "outputs": []
    },
    {
      "cell_type": "code",
      "metadata": {
        "id": "k-P9u9KXbL0G",
        "colab_type": "code",
        "colab": {}
      },
      "source": [
        "# Beta prior with alpha = 5 and beta =2 (appropriate prior)\n",
        "model = pm.Model()\n",
        "with model:\n",
        "    # Priors for unknown model parameters\n",
        "    p = pm.Beta('p', alpha=5, beta=2)\n",
        "    # Expected value of outcome\n",
        "    y_obs = pm.Binomial('y', n=N, p=p, observed=x)\n",
        "\n",
        "    # Sample from posterior distribution\n",
        "    step = pm.NUTS()\n",
        "    trace = pm.sample(1000, step)\n",
        "bfgs_estimate = pm.find_MAP(model=model)['p'].item()\n",
        "mcmc_estimate = pm.summary(trace)['mean'][0]\n",
        "ax = pm.plot_posterior(trace)"
      ],
      "execution_count": 0,
      "outputs": []
    },
    {
      "cell_type": "code",
      "metadata": {
        "id": "IviyMmlGbLyC",
        "colab_type": "code",
        "colab": {}
      },
      "source": [
        "avg_estimate = (mcmc_estimate + bfgs_estimate) / 2\n",
        "error = abs(true_p - avg_estimate)\n",
        "print('\\nMAP Estimate (BFGS method) = {:.2f}'.format(bfgs_estimate))\n",
        "print('MAP Estimate (MCMC method) = {:.2f}'.format(mcmc_estimate))\n",
        "print('MAP Estimate (Averaged) = {:.2f}'.format(avg_estimate))\n",
        "print('Error = {:.2f}'.format(error))"
      ],
      "execution_count": 0,
      "outputs": []
    },
    {
      "cell_type": "code",
      "metadata": {
        "id": "Uh84zTStbLwW",
        "colab_type": "code",
        "colab": {}
      },
      "source": [
        "# Beta prior with alpha = 2 and beta = 5 (inappropriate prior)\n",
        "model = pm.Model()\n",
        "with model:\n",
        "    # Priors for unknown model parameters\n",
        "    p = pm.Beta('p', alpha=2, beta=5)\n",
        "    # Expected value of outcome\n",
        "    y_obs = pm.Binomial('y', n=N, p=p, observed=x)\n",
        "\n",
        "    # Sample from posterior distribution\n",
        "    step = pm.NUTS()\n",
        "    trace = pm.sample(1000, step)\n",
        "bfgs_estimate = pm.find_MAP(model=model)['p'].item()\n",
        "mcmc_estimate = pm.summary(trace)['mean'][0]\n",
        "ax = pm.plot_posterior(trace)"
      ],
      "execution_count": 0,
      "outputs": []
    },
    {
      "cell_type": "code",
      "metadata": {
        "id": "W6o58ygIK-ZI",
        "colab_type": "code",
        "colab": {}
      },
      "source": [
        "avg_estimate = (mcmc_estimate + bfgs_estimate) / 2\n",
        "error = abs(true_p - avg_estimate)\n",
        "print('\\nMAP Estimate (BFGS method) = {:.2f}'.format(bfgs_estimate))\n",
        "print('MAP Estimate (MCMC method) = {:.2f}'.format(mcmc_estimate))\n",
        "print('MAP Estimate (Averaged) = {:.2f}'.format(avg_estimate))\n",
        "print('Error = {:.2f}'.format(error))"
      ],
      "execution_count": 0,
      "outputs": []
    },
    {
      "cell_type": "markdown",
      "metadata": {
        "id": "uDUy_odocG5S",
        "colab_type": "text"
      },
      "source": [
        "**Conclusion:** The choice of inappropriate prior greatly increases the error of the estimate especially when data is limited. Nevertheless, with sufficient amount of data, the incorrect prior information has a lesser weightage in affecting the posterior / MAP, and is in fact quite close to the true value of p. "
      ]
    },
    {
      "cell_type": "markdown",
      "metadata": {
        "id": "MvdlqcgacfgE",
        "colab_type": "text"
      },
      "source": [
        "## Problem 2: Dice Throw (Multinomial Distribution)"
      ]
    },
    {
      "cell_type": "markdown",
      "metadata": {
        "id": "U2kBH5qsiWB9",
        "colab_type": "text"
      },
      "source": [
        "**Problem Setup:**\n",
        "We want to model the probability of picking out a series of categories from k possible discrete outcomes, through N experiments. We can model this by using a Multinomial distribution, where the outcome is the number shown on a 6-sided (p) die being thrown. \n",
        "\n",
        "**Model:**\n",
        "We can model this with a multinomial distribution of $k$ independent trials, and for $N$ samples. ie, 2 dice throws ($k$), 5 times ($N$). A suitable choice of prior would be the Dirichlet distribution as it is conjugate to the multinomial distribution.\n",
        "\n",
        "To examine the effect of the prior on MAP, we vary the parameters of the Dirichlet distribution to change the shape of the distribution, reflecting our Prior knowledge. "
      ]
    },
    {
      "cell_type": "code",
      "metadata": {
        "id": "eEVi2Nvle3am",
        "colab_type": "code",
        "colab": {}
      },
      "source": [
        "''' Define a Multinomial distribution, with a Dirichlet prior '''\n",
        "np.random.seed(23)\n",
        "\n",
        "# True parameter value - Biased dice, with a higher probability of landing on even numbers.\n",
        "true_pvals = np.array([2/15, 1/5, 2/15, 1/5, 2/15, 1/5])\n",
        "print('True p-values:', true_pvals)\n",
        "\n",
        "# Sample size; ie. How many independent dice throws in one sample\n",
        "k = 2\n",
        "\n",
        "# Number of samples\n",
        "N = 5\n",
        "\n",
        "# Generate random data based on true_theta\n",
        "x = multinomial(n=k, pvals=true_pvals, size=N)\n",
        "# sns.countplot(x)"
      ],
      "execution_count": 0,
      "outputs": []
    },
    {
      "cell_type": "code",
      "metadata": {
        "id": "hm1pLrn2ms87",
        "colab_type": "code",
        "colab": {}
      },
      "source": [
        "print('Sampled distribution:\\n')\n",
        "x"
      ],
      "execution_count": 0,
      "outputs": []
    },
    {
      "cell_type": "code",
      "metadata": {
        "id": "GYZh38cXjNfF",
        "colab_type": "code",
        "colab": {}
      },
      "source": [
        "labels = [1,2,3,4,5,6]\n",
        "x_sum = x.sum(axis=0)\n",
        "fig, ax = plt.subplots()\n",
        "ax.set_title('Distribution of 5 samples of 2 dice throws')\n",
        "ax.bar(labels,x_sum)\n",
        "ax.set_ylabel('Count')\n",
        "ax.set_xlabel('Dice results')"
      ],
      "execution_count": 0,
      "outputs": []
    },
    {
      "cell_type": "markdown",
      "metadata": {
        "id": "-83WqGo-nI7M",
        "colab_type": "text"
      },
      "source": [
        "### Uniform Prior\n",
        "(Assume fair dice) <br>\n",
        "We sample the data we have with MCMC 1000 times, to generate an estimate for the posterior. The MAP is then the peak of the posterior. "
      ]
    },
    {
      "cell_type": "code",
      "metadata": {
        "id": "5mIQYAf8nbzP",
        "colab_type": "code",
        "colab": {}
      },
      "source": [
        "# We set the alpha parameters to be of equal weight of 1\n",
        "alphas = np.array([1, 1, 1, 1, 1, 1])\n",
        "\n",
        "with pm.Model() as model:\n",
        "    # Parameters are a dirichlet distribution\n",
        "    parameters = pm.Dirichlet('parameters', a=alphas, shape=6)\n",
        "    # Observed data is a multinomial distribution\n",
        "    observed_data = pm.Multinomial('observed_data', n=2, p=parameters, shape=6, observed=x)    \n",
        "    \n",
        "    trace = pm.sample(draws=1000, chains=2, tune=500, discard_tuned_samples=True)\n",
        "\n",
        "ax = pm.plot_posterior(trace)\n",
        "for i in range(6):\n",
        "    ax[i].set_title(\"P(Dice={})\".format(i+1))\n",
        "\n",
        "bfgs_estimate = pm.find_MAP(model=model)['parameters']\n",
        "mcmc_estimate = pm.summary(trace)['mean']"
      ],
      "execution_count": 0,
      "outputs": []
    },
    {
      "cell_type": "code",
      "metadata": {
        "colab_type": "code",
        "id": "Kvyh2gDuqoOD",
        "colab": {}
      },
      "source": [
        "p_even_bfgs = 0\n",
        "p_even_mcmc = 0\n",
        "p_even_avg = 0\n",
        "p_odd_bfgs = 0\n",
        "p_odd_mcmc = 0\n",
        "p_odd_avg = 0\n",
        "true_p_even = 0\n",
        "true_p_odd = 0\n",
        "\n",
        "for i in range(6):\n",
        "    avg_estimate = (mcmc_estimate[i] + bfgs_estimate[i]) / 2\n",
        "    error = abs(true_pvals[i] - avg_estimate)\n",
        "    print('\\nMAP estimate for dice landing on {} (BFGS method) = {:.2f}'.format(i+1, bfgs_estimate[i]))\n",
        "    print('MAP estimate for dice landing on {} (MCMC method) = {:.2f}'.format(i+1, mcmc_estimate[i]))\n",
        "    print('MAP estimate for dice landing on {} (Averaged) = {:.2f}'.format(i+1, avg_estimate))\n",
        "    print('Error for dice landing on {} = {:.2f} \\n '.format(i+1, error))\n",
        "  \n",
        "    if (i+1)%2 == 0: \n",
        "        p_even_bfgs += bfgs_estimate[i]\n",
        "        p_even_mcmc += mcmc_estimate[i]\n",
        "        p_even_avg += avg_estimate\n",
        "        true_p_even += true_pvals[i]  \n",
        "    else:\n",
        "        p_odd_bfgs += bfgs_estimate[i]\n",
        "        p_odd_mcmc += mcmc_estimate[i]\n",
        "        p_odd_avg += avg_estimate\n",
        "        true_p_odd += true_pvals[i]\n",
        "\n",
        "print('True probability for dice landing on even numbers = {:.2f}'.format(true_p_even))\n",
        "print('MAP estimate for dice landing on even numbers (BFGS method) = {:.2f}'.format(p_even_bfgs))\n",
        "print('MAP estimate for dice landing on even numbers (MCMC method) = {:.2f}'.format(p_even_mcmc))\n",
        "print('MAP estimate for dice landing on even numbers (Averaged) = {:.2f}'.format(p_even_avg))\n",
        "print('Error for dice landing on even numbers = {:.2f} \\n '.format(abs(p_even_avg-true_p_even)))\n",
        "\n",
        "print('True probability for dice landing on odd numbers = {:.2f}'.format(true_p_odd))\n",
        "print('MAP estimate for dice landing on odd numbers (BFGS method) = {:.2f}'.format(p_odd_bfgs))\n",
        "print('MAP estimate for dice landing on odd numbers (MCMC method) = {:.2f}'.format(p_odd_mcmc))\n",
        "print('MAP estimate for dice landing on odd numbers (Averaged) = {:.2f}'.format(p_odd_avg))\n",
        "print('Error for dice landing on odd numbers = {:.2f} '.format(abs(p_odd_avg-true_p_odd)))"
      ],
      "execution_count": 0,
      "outputs": []
    },
    {
      "cell_type": "markdown",
      "metadata": {
        "id": "qn39VZdwxnwj",
        "colab_type": "text"
      },
      "source": [
        "Given the relatively small sample size, relatively to the number of outcomes, it is not clear that even dice throws have a higher probability. However, when we sum up the proability of the even vs odd dice throws, it is clear that Even dice throws are more probable. "
      ]
    },
    {
      "cell_type": "markdown",
      "metadata": {
        "id": "ZT1oHtFr0nu_",
        "colab_type": "text"
      },
      "source": [
        "### Dirichlet Prior - High chance of Even throws\n",
        "Assume we have prior knowledge that Even throws are more likely. \n",
        "We can adjust the weights on the Dirichlet prior to reflect this. "
      ]
    },
    {
      "cell_type": "code",
      "metadata": {
        "id": "zRLD8m4nnrfM",
        "colab_type": "code",
        "colab": {}
      },
      "source": [
        "# We set the alpha parameters for even dice throws to be of higher weight. \n",
        "alphas = np.array([1, 2, 1, 2, 1, 2])\n",
        "\n",
        "with pm.Model() as model:\n",
        "    # Parameters are a dirichlet distribution\n",
        "    parameters = pm.Dirichlet('parameters', a=alphas, shape=6)\n",
        "    # Observed data is a multinomial distribution\n",
        "    observed_data = pm.Multinomial('observed_data', n=2, p=parameters, shape=6, observed=x)    \n",
        "    \n",
        "    trace = pm.sample(draws=1000, chains=2, tune=500, discard_tuned_samples=True)\n",
        "\n",
        "ax = pm.plot_posterior(trace)\n",
        "for i in range(6):\n",
        "    ax[i].set_title(\"P(Dice={})\".format(i+1))\n",
        "\n",
        "bfgs_estimate = pm.find_MAP(model=model)['parameters']\n",
        "mcmc_estimate = pm.summary(trace)['mean']"
      ],
      "execution_count": 0,
      "outputs": []
    },
    {
      "cell_type": "code",
      "metadata": {
        "id": "JELT-2Nonra8",
        "colab_type": "code",
        "colab": {}
      },
      "source": [
        "p_even_bfgs = 0\n",
        "p_even_mcmc = 0\n",
        "p_even_avg = 0\n",
        "p_odd_bfgs = 0\n",
        "p_odd_mcmc = 0\n",
        "p_odd_avg = 0\n",
        "true_p_even = 0\n",
        "true_p_odd = 0\n",
        "\n",
        "for i in range(6):\n",
        "    avg_estimate = (mcmc_estimate[i] + bfgs_estimate[i]) / 2\n",
        "    error = abs(true_pvals[i] - avg_estimate)\n",
        "    print('\\nMAP estimate for dice landing on {} (BFGS method) = {:.2f}'.format(i+1, bfgs_estimate[i]))\n",
        "    print('MAP estimate for dice landing on {} (MCMC method) = {:.2f}'.format(i+1, mcmc_estimate[i]))\n",
        "    print('MAP estimate for dice landing on {} (Averaged) = {:.2f}'.format(i+1, avg_estimate))\n",
        "    print('Error for dice landing on {} = {:.2f} \\n '.format(i+1, error))\n",
        "  \n",
        "    if (i+1)%2 == 0: \n",
        "        p_even_bfgs += bfgs_estimate[i]\n",
        "        p_even_mcmc += mcmc_estimate[i]\n",
        "        p_even_avg += avg_estimate\n",
        "        true_p_even += true_pvals[i]  \n",
        "    else:\n",
        "        p_odd_bfgs += bfgs_estimate[i]\n",
        "        p_odd_mcmc += mcmc_estimate[i]\n",
        "        p_odd_avg += avg_estimate\n",
        "        true_p_odd += true_pvals[i]\n",
        "\n",
        "print('True probability for dice landing on even numbers = {:.2f}'.format(true_p_even))\n",
        "print('MAP estimate for dice landing on even numbers (BFGS method) = {:.2f}'.format(p_even_bfgs))\n",
        "print('MAP estimate for dice landing on even numbers (MCMC method) = {:.2f}'.format(p_even_mcmc))\n",
        "print('MAP estimate for dice landing on even numbers (Averaged) = {:.2f}'.format(p_even_avg))\n",
        "print('Error for dice landing on even numbers = {:.2f} \\n '.format(abs(p_even_avg-true_p_even)))\n",
        "\n",
        "print('True probability for dice landing on odd numbers = {:.2f}'.format(true_p_odd))\n",
        "print('MAP estimate for dice landing on odd numbers (BFGS method) = {:.2f}'.format(p_odd_bfgs))\n",
        "print('MAP estimate for dice landing on odd numbers (MCMC method) = {:.2f}'.format(p_odd_mcmc))\n",
        "print('MAP estimate for dice landing on odd numbers (Averaged) = {:.2f}'.format(p_odd_avg))\n",
        "print('Error for dice landing on odd numbers = {:.2f} '.format(abs(p_odd_avg-true_p_odd)))"
      ],
      "execution_count": 0,
      "outputs": []
    },
    {
      "cell_type": "markdown",
      "metadata": {
        "id": "_dUE6HyqMBXh",
        "colab_type": "text"
      },
      "source": [
        "### Dirichlet Prior - High chance of Odd throws\n",
        "What happens if our Prior knowledge is incorrect? This means we assume the dice has a high chance of being Odd. We can reverse the weights of the Dirichlet parameters."
      ]
    },
    {
      "cell_type": "code",
      "metadata": {
        "colab_type": "code",
        "id": "QmclxazsMYz6",
        "colab": {}
      },
      "source": [
        "# We set the alpha parameters for ODD dice throws to be of higher weight. \n",
        "alphas = np.array([2, 1, 2, 1, 2, 1])\n",
        "\n",
        "with pm.Model() as model:\n",
        "    # Parameters are a dirichlet distribution\n",
        "    parameters = pm.Dirichlet('parameters', a=alphas, shape=6)\n",
        "    # Observed data is a multinomial distribution\n",
        "    observed_data = pm.Multinomial('observed_data', n=2, p=parameters, shape=6, observed=x)    \n",
        "    \n",
        "    trace = pm.sample(draws=1000, chains=2, tune=500, discard_tuned_samples=True)\n",
        "\n",
        "ax = pm.plot_posterior(trace)\n",
        "for i in range(6):\n",
        "  ax[i].set_title(\"P(Dice={})\".format(i+1))\n",
        "\n",
        "bfgs_estimate = pm.find_MAP(model=model)['parameters']\n",
        "mcmc_estimate = pm.summary(trace)['mean']"
      ],
      "execution_count": 0,
      "outputs": []
    },
    {
      "cell_type": "code",
      "metadata": {
        "colab_type": "code",
        "id": "5OYZ3WNrMY0G",
        "colab": {}
      },
      "source": [
        "p_even_bfgs = 0\n",
        "p_even_mcmc = 0\n",
        "p_even_avg = 0\n",
        "p_odd_bfgs = 0\n",
        "p_odd_mcmc = 0\n",
        "p_odd_avg = 0\n",
        "true_p_even = 0\n",
        "true_p_odd = 0\n",
        "\n",
        "for i in range(6):\n",
        "    avg_estimate = (mcmc_estimate[i] + bfgs_estimate[i]) / 2\n",
        "    error = abs(true_pvals[i] - avg_estimate)\n",
        "    print('\\nMAP estimate for dice landing on {} (BFGS method) = {:.2f}'.format(i+1, bfgs_estimate[i]))\n",
        "    print('MAP estimate for dice landing on {} (MCMC method) = {:.2f}'.format(i+1, mcmc_estimate[i]))\n",
        "    print('MAP estimate for dice landing on {} (Averaged) = {:.2f}'.format(i+1, avg_estimate))\n",
        "    print('Error for dice landing on {} = {:.2f} \\n '.format(i+1, error))\n",
        "  \n",
        "    if (i+1)%2 == 0: \n",
        "        p_even_bfgs += bfgs_estimate[i]\n",
        "        p_even_mcmc += mcmc_estimate[i]\n",
        "        p_even_avg += avg_estimate\n",
        "        true_p_even += true_pvals[i]  \n",
        "    else:\n",
        "        p_odd_bfgs += bfgs_estimate[i]\n",
        "        p_odd_mcmc += mcmc_estimate[i]\n",
        "        p_odd_avg += avg_estimate\n",
        "        true_p_odd += true_pvals[i]\n",
        "\n",
        "print('True probability for dice landing on even numbers = {:.2f}'.format(true_p_even))\n",
        "print('MAP estimate for dice landing on even numbers (BFGS method) = {:.2f}'.format(p_even_bfgs))\n",
        "print('MAP estimate for dice landing on even numbers (MCMC method) = {:.2f}'.format(p_even_mcmc))\n",
        "print('MAP estimate for dice landing on even numbers (Averaged) = {:.2f}'.format(p_even_avg))\n",
        "print('Error for dice landing on even numbers = {:.2f} \\n '.format(abs(p_even_avg-true_p_even)))\n",
        "\n",
        "print('True probability for dice landing on odd numbers = {:.2f}'.format(true_p_odd))\n",
        "print('MAP estimate for dice landing on odd numbers (BFGS method) = {:.2f}'.format(p_odd_bfgs))\n",
        "print('MAP estimate for dice landing on odd numbers (MCMC method) = {:.2f}'.format(p_odd_mcmc))\n",
        "print('MAP estimate for dice landing on odd numbers (Averaged) = {:.2f}'.format(p_odd_avg))\n",
        "print('Error for dice landing on odd numbers = {:.2f} '.format(abs(p_odd_avg-true_p_odd)))"
      ],
      "execution_count": 0,
      "outputs": []
    },
    {
      "cell_type": "markdown",
      "metadata": {
        "id": "txCTKT4aMjg7",
        "colab_type": "text"
      },
      "source": [
        "We see that with an inappropriate prior, the error is increased. Because we have too little data, the prior has a heavy weightage, and the MAP tells us it is more likely to obtain an Odd throw than Even, which is incorrect. "
      ]
    },
    {
      "cell_type": "markdown",
      "metadata": {
        "id": "ucupYT3mMjaE",
        "colab_type": "text"
      },
      "source": [
        "### More Data\n",
        "Let us increase the number of data samples, to see the effect of more data on the chosen priors."
      ]
    },
    {
      "cell_type": "code",
      "metadata": {
        "id": "Giv8h4wsLNkx",
        "colab_type": "code",
        "colab": {}
      },
      "source": [
        "''' Define a Multinomial distribution, with a Dirichlet prior '''\n",
        "np.random.seed(23)\n",
        "N = 100\n",
        "\n",
        "# Generate random data based on true_theta\n",
        "x = multinomial(n=k, pvals=true_pvals, size=N)\n",
        "\n",
        "labels = [1,2,3,4,5,6]\n",
        "x_sum = x.sum(axis=0)\n",
        "fig, ax = plt.subplots()\n",
        "ax.set_title('Distribution of 100 samples of 2 dice throws')\n",
        "ax.bar(labels,x_sum)\n",
        "ax.set_ylabel('Count')\n",
        "ax.set_xlabel('Dice results')"
      ],
      "execution_count": 0,
      "outputs": []
    },
    {
      "cell_type": "code",
      "metadata": {
        "colab_type": "code",
        "id": "DgN7uLfeNbxH",
        "colab": {}
      },
      "source": [
        "# Dirichlet prior with uniform probability\n",
        "alphas = np.array([1, 1, 1, 1, 1, 1])\n",
        "\n",
        "with pm.Model() as model:\n",
        "    # Parameters are a dirichlet distribution\n",
        "    parameters = pm.Dirichlet('parameters', a=alphas, shape=6)\n",
        "    # Observed data is a multinomial distribution\n",
        "    observed_data = pm.Multinomial('observed_data', n=2, p=parameters, shape=6, observed=x)    \n",
        "    \n",
        "    trace = pm.sample(draws=1000, chains=2, tune=500, discard_tuned_samples=True)\n",
        "\n",
        "ax = pm.plot_posterior(trace)\n",
        "for i in range(6):\n",
        "    ax[i].set_title(\"P(Dice={})\".format(i+1))\n",
        "\n",
        "bfgs_estimate = pm.find_MAP(model=model)['parameters']\n",
        "mcmc_estimate = pm.summary(trace)['mean']"
      ],
      "execution_count": 0,
      "outputs": []
    },
    {
      "cell_type": "code",
      "metadata": {
        "colab_type": "code",
        "id": "s3NGrqzINbxU",
        "colab": {}
      },
      "source": [
        "p_even_bfgs = 0\n",
        "p_even_mcmc = 0\n",
        "p_even_avg = 0\n",
        "p_odd_bfgs = 0\n",
        "p_odd_mcmc = 0\n",
        "p_odd_avg = 0\n",
        "true_p_even = 0\n",
        "true_p_odd = 0\n",
        "\n",
        "for i in range(6):\n",
        "    avg_estimate = (mcmc_estimate[i] + bfgs_estimate[i]) / 2\n",
        "    error = abs(true_pvals[i] - avg_estimate)\n",
        "    print('\\nMAP estimate for dice landing on {} (BFGS method) = {:.2f}'.format(i+1, bfgs_estimate[i]))\n",
        "    print('MAP estimate for dice landing on {} (MCMC method) = {:.2f}'.format(i+1, mcmc_estimate[i]))\n",
        "    print('MAP estimate for dice landing on {} (Averaged) = {:.2f}'.format(i+1, avg_estimate))\n",
        "    print('Error for dice landing on {} = {:.2f} \\n '.format(i+1, error))\n",
        "  \n",
        "    if (i+1)%2 == 0: \n",
        "        p_even_bfgs += bfgs_estimate[i]\n",
        "        p_even_mcmc += mcmc_estimate[i]\n",
        "        p_even_avg += avg_estimate\n",
        "        true_p_even += true_pvals[i]  \n",
        "    else:\n",
        "        p_odd_bfgs += bfgs_estimate[i]\n",
        "        p_odd_mcmc += mcmc_estimate[i]\n",
        "        p_odd_avg += avg_estimate\n",
        "        true_p_odd += true_pvals[i]\n",
        "\n",
        "print('True probability for dice landing on even numbers = {:.2f}'.format(true_p_even))\n",
        "print('MAP estimate for dice landing on even numbers (BFGS method) = {:.2f}'.format(p_even_bfgs))\n",
        "print('MAP estimate for dice landing on even numbers (MCMC method) = {:.2f}'.format(p_even_mcmc))\n",
        "print('MAP estimate for dice landing on even numbers (Averaged) = {:.2f}'.format(p_even_avg))\n",
        "print('Error for dice landing on even numbers = {:.2f} \\n '.format(abs(p_even_avg-true_p_even)))\n",
        "\n",
        "print('True probability for dice landing on odd numbers = {:.2f}'.format(true_p_odd))\n",
        "print('MAP estimate for dice landing on odd numbers (BFGS method) = {:.2f}'.format(p_odd_bfgs))\n",
        "print('MAP estimate for dice landing on odd numbers (MCMC method) = {:.2f}'.format(p_odd_mcmc))\n",
        "print('MAP estimate for dice landing on odd numbers (Averaged) = {:.2f}'.format(p_odd_avg))\n",
        "print('Error for dice landing on odd numbers = {:.2f} '.format(abs(p_odd_avg-true_p_odd)))"
      ],
      "execution_count": 0,
      "outputs": []
    },
    {
      "cell_type": "code",
      "metadata": {
        "id": "9mXTf5YT1bEq",
        "colab_type": "code",
        "colab": {}
      },
      "source": [
        "# We set the alpha parameters for even dice throws to be of higher weight. \n",
        "alphas = np.array([1, 2, 1, 2, 1, 2])\n",
        "\n",
        "with pm.Model() as model:\n",
        "    # Parameters are a dirichlet distribution\n",
        "    parameters = pm.Dirichlet('parameters', a=alphas, shape=6)\n",
        "    # Observed data is a multinomial distribution\n",
        "    observed_data = pm.Multinomial('observed_data', n=2, p=parameters, shape=6, observed=x)    \n",
        "    \n",
        "    trace = pm.sample(draws=1000, chains=2, tune=500, discard_tuned_samples=True)\n",
        "\n",
        "ax = pm.plot_posterior(trace)\n",
        "for i in range(6):\n",
        "    ax[i].set_title(\"P(Dice={})\".format(i+1))\n",
        "\n",
        "bfgs_estimate = pm.find_MAP(model=model)['parameters']\n",
        "mcmc_estimate = pm.summary(trace)['mean']"
      ],
      "execution_count": 0,
      "outputs": []
    },
    {
      "cell_type": "code",
      "metadata": {
        "id": "NgrgD1_y1hBc",
        "colab_type": "code",
        "colab": {}
      },
      "source": [
        "p_even_bfgs = 0\n",
        "p_even_mcmc = 0\n",
        "p_even_avg = 0\n",
        "p_odd_bfgs = 0\n",
        "p_odd_mcmc = 0\n",
        "p_odd_avg = 0\n",
        "true_p_even = 0\n",
        "true_p_odd = 0\n",
        "\n",
        "for i in range(6):\n",
        "    avg_estimate = (mcmc_estimate[i] + bfgs_estimate[i]) / 2\n",
        "    error = abs(true_pvals[i] - avg_estimate)\n",
        "    print('\\nMAP estimate for dice landing on {} (BFGS method) = {:.2f}'.format(i+1, bfgs_estimate[i]))\n",
        "    print('MAP estimate for dice landing on {} (MCMC method) = {:.2f}'.format(i+1, mcmc_estimate[i]))\n",
        "    print('MAP estimate for dice landing on {} (Averaged) = {:.2f}'.format(i+1, avg_estimate))\n",
        "    print('Error for dice landing on {} = {:.2f} \\n '.format(i+1, error))\n",
        "  \n",
        "    if (i+1)%2 == 0: \n",
        "        p_even_bfgs += bfgs_estimate[i]\n",
        "        p_even_mcmc += mcmc_estimate[i]\n",
        "        p_even_avg += avg_estimate\n",
        "        true_p_even += true_pvals[i]  \n",
        "    else:\n",
        "        p_odd_bfgs += bfgs_estimate[i]\n",
        "        p_odd_mcmc += mcmc_estimate[i]\n",
        "        p_odd_avg += avg_estimate\n",
        "        true_p_odd += true_pvals[i]\n",
        "\n",
        "print('True probability for dice landing on even numbers = {:.2f}'.format(true_p_even))\n",
        "print('MAP estimate for dice landing on even numbers (BFGS method) = {:.2f}'.format(p_even_bfgs))\n",
        "print('MAP estimate for dice landing on even numbers (MCMC method) = {:.2f}'.format(p_even_mcmc))\n",
        "print('MAP estimate for dice landing on even numbers (Averaged) = {:.2f}'.format(p_even_avg))\n",
        "print('Error for dice landing on even numbers = {:.2f} \\n '.format(abs(p_even_avg-true_p_even)))\n",
        "\n",
        "print('True probability for dice landing on odd numbers = {:.2f}'.format(true_p_odd))\n",
        "print('MAP estimate for dice landing on odd numbers (BFGS method) = {:.2f}'.format(p_odd_bfgs))\n",
        "print('MAP estimate for dice landing on odd numbers (MCMC method) = {:.2f}'.format(p_odd_mcmc))\n",
        "print('MAP estimate for dice landing on odd numbers (Averaged) = {:.2f}'.format(p_odd_avg))\n",
        "print('Error for dice landing on odd numbers = {:.2f} '.format(abs(p_odd_avg-true_p_odd)))"
      ],
      "execution_count": 0,
      "outputs": []
    },
    {
      "cell_type": "code",
      "metadata": {
        "id": "9eeSAP4L4xOE",
        "colab_type": "code",
        "colab": {}
      },
      "source": [
        "# We set the alpha parameters for ODD dice throws to be of higher weight. \n",
        "alphas = np.array([2, 1, 2, 1, 2, 1])\n",
        "\n",
        "with pm.Model() as model:\n",
        "    # Parameters are a dirichlet distribution\n",
        "    parameters = pm.Dirichlet('parameters', a=alphas, shape=6)\n",
        "    # Observed data is a multinomial distribution\n",
        "    observed_data = pm.Multinomial('observed_data', n=2, p=parameters, shape=6, observed=x)    \n",
        "    \n",
        "    trace = pm.sample(draws=1000, chains=2, tune=500, discard_tuned_samples=True)\n",
        "\n",
        "ax = pm.plot_posterior(trace)\n",
        "for i in range(6):\n",
        "  ax[i].set_title(\"P(Dice={})\".format(i+1))\n",
        "\n",
        "bfgs_estimate = pm.find_MAP(model=model)['parameters']\n",
        "mcmc_estimate = pm.summary(trace)['mean']"
      ],
      "execution_count": 0,
      "outputs": []
    },
    {
      "cell_type": "code",
      "metadata": {
        "id": "GXSW8oPd42mC",
        "colab_type": "code",
        "colab": {}
      },
      "source": [
        "p_even_bfgs = 0\n",
        "p_even_mcmc = 0\n",
        "p_even_avg = 0\n",
        "p_odd_bfgs = 0\n",
        "p_odd_mcmc = 0\n",
        "p_odd_avg = 0\n",
        "true_p_even = 0\n",
        "true_p_odd = 0\n",
        "\n",
        "for i in range(6):\n",
        "    avg_estimate = (mcmc_estimate[i] + bfgs_estimate[i]) / 2\n",
        "    error = abs(true_pvals[i] - avg_estimate)\n",
        "    print('\\nMAP estimate for dice landing on {} (BFGS method) = {:.2f}'.format(i+1, bfgs_estimate[i]))\n",
        "    print('MAP estimate for dice landing on {} (MCMC method) = {:.2f}'.format(i+1, mcmc_estimate[i]))\n",
        "    print('MAP estimate for dice landing on {} (Averaged) = {:.2f}'.format(i+1, avg_estimate))\n",
        "    print('Error for dice landing on {} = {:.2f} \\n '.format(i+1, error))\n",
        "  \n",
        "    if (i+1)%2 == 0: \n",
        "        p_even_bfgs += bfgs_estimate[i]\n",
        "        p_even_mcmc += mcmc_estimate[i]\n",
        "        p_even_avg += avg_estimate\n",
        "        true_p_even += true_pvals[i]  \n",
        "    else:\n",
        "        p_odd_bfgs += bfgs_estimate[i]\n",
        "        p_odd_mcmc += mcmc_estimate[i]\n",
        "        p_odd_avg += avg_estimate\n",
        "        true_p_odd += true_pvals[i]\n",
        "\n",
        "print('True probability for dice landing on even numbers = {:.2f}'.format(true_p_even))\n",
        "print('MAP estimate for dice landing on even numbers (BFGS method) = {:.2f}'.format(p_even_bfgs))\n",
        "print('MAP estimate for dice landing on even numbers (MCMC method) = {:.2f}'.format(p_even_mcmc))\n",
        "print('MAP estimate for dice landing on even numbers (Averaged) = {:.2f}'.format(p_even_avg))\n",
        "print('Error for dice landing on even numbers = {:.2f} \\n '.format(abs(p_even_avg-true_p_even)))\n",
        "\n",
        "print('True probability for dice landing on odd numbers = {:.2f}'.format(true_p_odd))\n",
        "print('MAP estimate for dice landing on odd numbers (BFGS method) = {:.2f}'.format(p_odd_bfgs))\n",
        "print('MAP estimate for dice landing on odd numbers (MCMC method) = {:.2f}'.format(p_odd_mcmc))\n",
        "print('MAP estimate for dice landing on odd numbers (Averaged) = {:.2f}'.format(p_odd_avg))\n",
        "print('Error for dice landing on odd numbers = {:.2f} '.format(abs(p_odd_avg-true_p_odd)))"
      ],
      "execution_count": 0,
      "outputs": []
    },
    {
      "cell_type": "markdown",
      "metadata": {
        "id": "-KC8c8-VQRUe",
        "colab_type": "text"
      },
      "source": [
        "With more data, the weightage on prior is lesser, and we see that the error rate have gone down significantly. "
      ]
    },
    {
      "cell_type": "markdown",
      "metadata": {
        "id": "6OkjgFrQQgQt",
        "colab_type": "text"
      },
      "source": [
        "## Problem 3: Normal Distribution\n",
        "Next, let us examine a Normally distributed random variable, and the effect of the prior on the MAP / Posterior. \n",
        "\n",
        "**Model and Problem Setup:** <br>\n",
        "Many random variables in the real world are normally distributed. For example, we want to predict the selling price of a house. In this simulated problem, we model a Normal distribution with known mean and variance."
      ]
    },
    {
      "cell_type": "code",
      "metadata": {
        "id": "sXc0k95oLNf5",
        "colab_type": "code",
        "colab": {}
      },
      "source": [
        "np.random.seed(100)\n",
        "# Define a Normal distribution, with a Normal prior\n",
        "# True parameter values\n",
        "true_mu = 5\n",
        "true_sigma = 1\n",
        "\n",
        "# size of dataset\n",
        "N = 5\n",
        "\n",
        "# Generate random data based on true parameter values\n",
        "x = np.sqrt(true_sigma)*randn(N,1) + true_mu\n",
        "plt.hist(x)\n",
        "plt.xlabel('x')\n",
        "plt.ylabel('Count')"
      ],
      "execution_count": 0,
      "outputs": []
    },
    {
      "cell_type": "markdown",
      "metadata": {
        "id": "Bm_7A6Q6Sj6o",
        "colab_type": "text"
      },
      "source": [
        "### Uniform Prior"
      ]
    },
    {
      "cell_type": "code",
      "metadata": {
        "id": "mKvwSXUC2oZl",
        "colab_type": "code",
        "colab": {}
      },
      "source": [
        "fig, ax = plt.subplots(1, 2, figsize=(13,4))\n",
        "uniform_x = np.linspace(uniform(-10,20).ppf(0.01),\n",
        "                        uniform(-10,20).ppf(0.99), 1000)\n",
        "uniform_dist = uniform(-10, 20)\n",
        "ax[0].plot(uniform_x, uniform_dist.pdf(uniform_x), 'k-', lw=2)\n",
        "ax[0].set_title('Uniform Distribution')\n",
        "uniform_x = np.linspace(uniform(0,5).ppf(0.01),\n",
        "                        uniform(0,5).ppf(0.99), 1000)\n",
        "uniform_dist = uniform(0,5)\n",
        "ax[1].plot(uniform_x, uniform_dist.pdf(uniform_x), 'k-', lw=2)\n",
        "ax[1].set_title('Uniform Distribution')"
      ],
      "execution_count": 0,
      "outputs": []
    },
    {
      "cell_type": "code",
      "metadata": {
        "id": "gR6oMDPxY4Bk",
        "colab_type": "code",
        "colab": {}
      },
      "source": [
        "model = pm.Model()\n",
        "\n",
        "with model:\n",
        "    # Priors for unknown model parameters\n",
        "    mu = pm.Uniform('mu', lower=-10, upper=10)\n",
        "    sigma = pm.Uniform('sigma', lower=0, upper=5)\n",
        "    \n",
        "    # Expected value of outcome\n",
        "    y_obs = pm.Normal('y', mu=mu, sigma=sigma, observed=x)\n",
        "    \n",
        "    trace = pm.sample(draws=1000, chains=2, tune=500, discard_tuned_samples=True)\n",
        "    \n",
        "ax = pm.plot_posterior(trace)\n",
        "ax[0].set_title(\"$\\mu$\")\n",
        "ax[1].set_title(\"$\\sigma$\")\n",
        "\n",
        "bfgs_estimate = []\n",
        "estimate = pm.find_MAP(model=model)\n",
        "bfgs_estimate.append(estimate[\"mu\"].item())\n",
        "bfgs_estimate.append(estimate[\"sigma\"].item())\n",
        "mcmc_estimate = pm.summary(trace)['mean']"
      ],
      "execution_count": 0,
      "outputs": []
    },
    {
      "cell_type": "code",
      "metadata": {
        "id": "x25yuAZX1ai-",
        "colab_type": "code",
        "colab": {}
      },
      "source": [
        "avg_mu_estimate = (mcmc_estimate[0] + bfgs_estimate[0]) / 2\n",
        "error_mu = abs(true_mu - avg_mu_estimate)\n",
        "print('MAP estimate for mu (BFGS method) = {:.2f}'.format(bfgs_estimate[0]))\n",
        "print('MAP estimate for mu (MCMC method) = {:.2f}'.format(mcmc_estimate[0]))\n",
        "print('MAP estimate for mu (Averaged) = {:.2f}'.format(avg_mu_estimate))\n",
        "print('Error for $\\mu$ = {:.2f} \\n '.format(error_mu))\n",
        "\n",
        "avg_sigma_estimate = (mcmc_estimate[1] + bfgs_estimate[1]) / 2\n",
        "error_sigma = abs(true_sigma - avg_sigma_estimate)\n",
        "print('MAP estimate for sigma (BFGS method) = {:.2f}'.format(bfgs_estimate[1]))\n",
        "print('MAP estimate for sigma (MCMC method) = {:.2f}'.format(mcmc_estimate[1]))\n",
        "print('MAP estimate for sigma (Averaged) = {:.2f}'.format(avg_sigma_estimate))\n",
        "print('Error for sigma = {:.2f} \\n '.format(error_sigma))"
      ],
      "execution_count": 0,
      "outputs": []
    },
    {
      "cell_type": "markdown",
      "metadata": {
        "id": "dhm0pQVqjkVF",
        "colab_type": "text"
      },
      "source": [
        "###Normal Prior"
      ]
    },
    {
      "cell_type": "code",
      "metadata": {
        "id": "rsQyfu1I69Tw",
        "colab_type": "code",
        "colab": {}
      },
      "source": [
        "fig, ax = plt.subplots(1, 2, figsize=(13,4))\n",
        "mu = 10\n",
        "sigma = 1\n",
        "x = np.linspace(mu - 3*sigma, mu + 3*sigma, 100)\n",
        "ax[0].plot(x, stats.norm.pdf(x, mu, sigma), 'k-')\n",
        "ax[0].set_title(\"Normal Distribution\")\n",
        "x = np.linspace(0, 3*sigma, 100)\n",
        "ax[1].plot(x, stats.halfnorm.pdf(x, 0, sigma), 'k-')\n",
        "ax[1].set_title(\"Half Normal Distribution\")"
      ],
      "execution_count": 0,
      "outputs": []
    },
    {
      "cell_type": "code",
      "metadata": {
        "id": "h4h_jqpRTaOB",
        "colab_type": "code",
        "outputId": "ceb7e6f3-5704-4a34-d170-6159f34d4ef1",
        "colab": {
          "base_uri": "https://localhost:8080/",
          "height": 475
        }
      },
      "source": [
        "model = pm.Model()\n",
        "\n",
        "with model:\n",
        "    # Priors for unknown model parameters\n",
        "    mu = pm.Normal('mu', mu=10, sigma=1)\n",
        "    sigma = pm.HalfNormal('sigma', sigma=1)\n",
        "    \n",
        "    # Expected value of outcome\n",
        "    y_obs = pm.Normal('y', mu=mu, sigma=sigma, observed=x)\n",
        "    trace = pm.sample(draws=1000, chains=2, tune=1000, discard_tuned_samples=True)\n",
        "\n",
        "ax = pm.plot_posterior(trace)\n",
        "ax[0].set_title(\"$\\mu$\")\n",
        "ax[1].set_title(\"$\\sigma$\")\n",
        "\n",
        "bfgs_estimate = []\n",
        "estimate = pm.find_MAP(model=model)\n",
        "bfgs_estimate.append(estimate[\"mu\"].item())\n",
        "bfgs_estimate.append(estimate[\"sigma\"].item())\n",
        "mcmc_estimate = pm.summary(trace)['mean']"
      ],
      "execution_count": 0,
      "outputs": [
        {
          "output_type": "stream",
          "text": [
            "Auto-assigning NUTS sampler...\n",
            "Initializing NUTS using jitter+adapt_diag...\n",
            "Sequential sampling (2 chains in 1 job)\n",
            "NUTS: [sigma, mu]\n",
            "Sampling chain 0, 0 divergences: 100%|██████████| 2000/2000 [00:01<00:00, 1436.90it/s]\n",
            "Sampling chain 1, 0 divergences: 100%|██████████| 2000/2000 [00:01<00:00, 1188.79it/s]\n",
            "logp = -165.97, ||grad|| = 5.6842: 100%|██████████| 26/26 [00:00<00:00, 1512.09it/s]  \n"
          ],
          "name": "stderr"
        },
        {
          "output_type": "display_data",
          "data": {
            "image/png": "[encoded data removed]",
            "text/plain": [
              "<Figure size 993.6x331.2 with 2 Axes>"
            ]
          },
          "metadata": {
            "tags": [],
            "needs_background": "light"
          }
        }
      ]
    },
    {
      "cell_type": "code",
      "metadata": {
        "colab_type": "code",
        "outputId": "a64e39a9-7b17-41b4-e7a0-4ebc1a0757aa",
        "id": "1MEbDpJwTeSG",
        "colab": {
          "base_uri": "https://localhost:8080/",
          "height": 187
        }
      },
      "source": [
        "avg_mu_estimate = (mcmc_estimate[0] + bfgs_estimate[0]) / 2\n",
        "error_mu = abs(true_mu - avg_mu_estimate)\n",
        "print('MAP estimate for mu (BFGS method) = {:.2f}'.format(bfgs_estimate[0]))\n",
        "print('MAP estimate for mu (MCMC method) = {:.2f}'.format(mcmc_estimate[0]))\n",
        "print('MAP estimate for mu (Averaged) = {:.2f}'.format(avg_mu_estimate))\n",
        "print('Error for mu = {:.2f} \\n '.format(error_mu))\n",
        "\n",
        "avg_sigma_estimate = (mcmc_estimate[1] + bfgs_estimate[1]) / 2\n",
        "error_sigma = abs(true_sigma - avg_sigma_estimate)\n",
        "print('MAP estimate for sigma (BFGS method) = {:.2f}'.format(bfgs_estimate[1]))\n",
        "print('MAP estimate for sigma (MCMC method) = {:.2f}'.format(mcmc_estimate[1]))\n",
        "print('MAP estimate for sigma (Averaged) = {:.2f}'.format(avg_sigma_estimate))\n",
        "print('Error for sigma = {:.2f} \\n '.format(error_sigma))"
      ],
      "execution_count": 0,
      "outputs": [
        {
          "output_type": "stream",
          "text": [
            "MAP estimate for mu (BFGS method) = 1.56\n",
            "MAP estimate for mu (MCMC method) = 1.56\n",
            "MAP estimate for mu (Averaged) = 1.56\n",
            "Error for mu = 3.44 \n",
            " \n",
            "MAP estimate for sigma (BFGS method) = 0.87\n",
            "MAP estimate for sigma (MCMC method) = 0.89\n",
            "MAP estimate for sigma (Averaged) = 0.88\n",
            "Error for sigma = 0.12 \n",
            " \n"
          ],
          "name": "stdout"
        }
      ]
    },
    {
      "cell_type": "markdown",
      "metadata": {
        "id": "rwVCPl65Yr66",
        "colab_type": "text"
      },
      "source": [
        "With an appropriate prior, we see that the MAP lies between the true mean, and the mean of our prior, which is expected. "
      ]
    },
    {
      "cell_type": "markdown",
      "metadata": {
        "id": "8u67QKShYr3a",
        "colab_type": "text"
      },
      "source": [
        "###Gamma Prior\n",
        "Here let us assume we use a gamma prior, with a peak at 2. \n",
        "\n",
        "$γ$~$(α=2, β=1)$"
      ]
    },
    {
      "cell_type": "code",
      "metadata": {
        "id": "YpkXom4kmo08",
        "colab_type": "code",
        "outputId": "10fb94c4-42bb-411c-9fdb-c6594e6b5363",
        "colab": {
          "base_uri": "https://localhost:8080/",
          "height": 311
        }
      },
      "source": [
        "# Gamma distribution\n",
        "from scipy.stats import gamma\n",
        "fig, ax = plt.subplots(1, 1)\n",
        "fig.suptitle('Gamma Distribution, α=2,β=1')\n",
        "a = 2\n",
        "b = 1\n",
        "gamma_x = np.linspace(gamma.ppf(0.01, a, b),\n",
        "                      gamma.ppf(0.99, a, b), 100)\n",
        "gamma_dist = gamma(a,b)\n",
        "ax.plot(gamma_x, gamma_dist.pdf(gamma_x), 'k-', lw=2)\n",
        "print('Mean of gamma distribution: {:.2f}'.format(gamma_x.mean()))"
      ],
      "execution_count": 0,
      "outputs": [
        {
          "output_type": "stream",
          "text": [
            "Mean of gamma distribution: 4.39\n"
          ],
          "name": "stdout"
        },
        {
          "output_type": "display_data",
          "data": {
            "image/png": "[encoded data removed]",
            "text/plain": [
              "<Figure size 432x288 with 1 Axes>"
            ]
          },
          "metadata": {
            "tags": [],
            "needs_background": "light"
          }
        }
      ]
    },
    {
      "cell_type": "code",
      "metadata": {
        "colab_type": "code",
        "outputId": "e08d770c-b02c-4a94-b2fd-215b01f5e173",
        "id": "50cTnG4zkwRx",
        "colab": {
          "base_uri": "https://localhost:8080/",
          "height": 475
        }
      },
      "source": [
        "model = pm.Model()\n",
        "\n",
        "with model:\n",
        "    # Priors for unknown model parameters\n",
        "    mu = pm.Gamma('mu', alpha=a, beta=b)\n",
        "    # sigma = pm.HalfNorma('sigma', sigma=1)\n",
        "    sigma = pm.Gamma('sigma', alpha=a, beta=b)\n",
        "\n",
        "    # Expected value of outcome\n",
        "    y_obs = pm.Normal('y', mu=mu, sigma=sigma, observed=x)\n",
        "\n",
        "    trace = pm.sample(draws=1000, chains=2, tune=1000, discard_tuned_samples=True)\n",
        "\n",
        "ax = pm.plot_posterior(trace)\n",
        "ax[0].set_title(\"$\\mu$\")\n",
        "ax[1].set_title(\"$\\sigma$\")\n",
        "\n",
        "bfgs_estimate = []\n",
        "estimate = pm.find_MAP(model=model)\n",
        "bfgs_estimate.append(estimate[\"mu\"].item())\n",
        "bfgs_estimate.append(estimate[\"sigma\"].item())\n",
        "mcmc_estimate = pm.summary(trace)['mean']"
      ],
      "execution_count": 0,
      "outputs": [
        {
          "output_type": "stream",
          "text": [
            "Auto-assigning NUTS sampler...\n",
            "Initializing NUTS using jitter+adapt_diag...\n",
            "Sequential sampling (2 chains in 1 job)\n",
            "NUTS: [sigma, mu]\n",
            "Sampling chain 0, 0 divergences: 100%|██████████| 2000/2000 [00:01<00:00, 1433.43it/s]\n",
            "Sampling chain 1, 0 divergences: 100%|██████████| 2000/2000 [00:01<00:00, 1483.04it/s]\n",
            "logp = -176.51, ||grad|| = 79.966: 100%|██████████| 9/9 [00:00<00:00, 1114.09it/s]\n"
          ],
          "name": "stderr"
        },
        {
          "output_type": "display_data",
          "data": {
            "image/png": "[encoded data removed]",
            "text/plain": [
              "<Figure size 993.6x331.2 with 2 Axes>"
            ]
          },
          "metadata": {
            "tags": [],
            "needs_background": "light"
          }
        }
      ]
    },
    {
      "cell_type": "code",
      "metadata": {
        "colab_type": "code",
        "outputId": "47df0715-6d5b-4056-f418-631bf9c22d58",
        "id": "8sL2P0fqkwR2",
        "colab": {
          "base_uri": "https://localhost:8080/",
          "height": 187
        }
      },
      "source": [
        "avg_mu_estimate = (mcmc_estimate[0] + bfgs_estimate[0]) / 2\n",
        "error_mu = abs(true_mu - avg_mu_estimate)\n",
        "print('MAP estimate for mu (BFGS method) = {:.2f}'.format(bfgs_estimate[0]))\n",
        "print('MAP estimate for mu (MCMC method) = {:.2f}'.format(mcmc_estimate[0]))\n",
        "print('MAP estimate for mu (Averaged) = {:.2f}'.format(avg_mu_estimate))\n",
        "print('Error for $\\mu$ = {:.2f} \\n '.format(error_mu))\n",
        "\n",
        "avg_sigma_estimate = (mcmc_estimate[1] + bfgs_estimate[1]) / 2\n",
        "error_sigma = abs(true_sigma - avg_sigma_estimate)\n",
        "print('MAP estimate for sigma (BFGS method) = {:.2f}'.format(bfgs_estimate[1]))\n",
        "print('MAP estimate for sigma (MCMC method) = {:.2f}'.format(mcmc_estimate[1]))\n",
        "print('MAP estimate for sigma (Averaged) = {:.2f}'.format(avg_sigma_estimate))\n",
        "print('Error for sigma = {:.2f} \\n '.format(error_sigma))"
      ],
      "execution_count": 0,
      "outputs": [
        {
          "output_type": "stream",
          "text": [
            "MAP estimate for mu (BFGS method) = 1.50\n",
            "MAP estimate for mu (MCMC method) = 1.50\n",
            "MAP estimate for mu (Averaged) = 1.50\n",
            "Error for $\\mu$ = 3.50 \n",
            " \n",
            "MAP estimate for sigma (BFGS method) = 0.88\n",
            "MAP estimate for sigma (MCMC method) = 0.89\n",
            "MAP estimate for sigma (Averaged) = 0.88\n",
            "Error for sigma = 0.12 \n",
            " \n"
          ],
          "name": "stdout"
        }
      ]
    },
    {
      "cell_type": "markdown",
      "metadata": {
        "id": "cWFTiwAGp3oR",
        "colab_type": "text"
      },
      "source": [
        "We see in this case, the gamma distribution ~γ(α=2, β=1) performed much better than the previous normal distribution. "
      ]
    },
    {
      "cell_type": "markdown",
      "metadata": {
        "id": "XPN7zBiIqD1B",
        "colab_type": "text"
      },
      "source": [
        "### More Data"
      ]
    },
    {
      "cell_type": "code",
      "metadata": {
        "id": "6PocRFR1Ys5T",
        "colab_type": "code",
        "outputId": "04248554-d3ee-4e6d-814f-a3d82a395f2e",
        "colab": {
          "base_uri": "https://localhost:8080/",
          "height": 296
        }
      },
      "source": [
        "np.random.seed(100)\n",
        "\n",
        "# size of dataset\n",
        "N = 100\n",
        "\n",
        "# Generate random data based on true parameter values\n",
        "x = np.sqrt(true_sigma)*randn(N,1) + true_mu\n",
        "plt.hist(x)\n",
        "plt.xlabel('x')\n",
        "plt.ylabel('Count')"
      ],
      "execution_count": 0,
      "outputs": [
        {
          "output_type": "execute_result",
          "data": {
            "text/plain": [
              "Text(0, 0.5, 'Count')"
            ]
          },
          "metadata": {
            "tags": []
          },
          "execution_count": 13
        },
        {
          "output_type": "display_data",
          "data": {
            "image/png": "[encoded data removed]",
            "text/plain": [
              "<Figure size 432x288 with 1 Axes>"
            ]
          },
          "metadata": {
            "tags": [],
            "needs_background": "light"
          }
        }
      ]
    },
    {
      "cell_type": "code",
      "metadata": {
        "colab_type": "code",
        "outputId": "84a781f7-f140-42e8-b066-b7deb376a148",
        "id": "uj3zyTBuqg95",
        "colab": {
          "base_uri": "https://localhost:8080/",
          "height": 475
        }
      },
      "source": [
        "# Uniform Prior\n",
        "model = pm.Model()\n",
        "\n",
        "with model:\n",
        "    # Priors for unknown model parameters\n",
        "    mu = pm.Uniform('mu', lower=-10, upper=10)\n",
        "    sigma = pm.Uniform('sigma', lower=0, upper=5)\n",
        "    \n",
        "    # Expected value of outcome\n",
        "    y_obs = pm.Normal('y', mu=mu, sigma=sigma, observed=x)\n",
        "    \n",
        "    trace = pm.sample(draws=1000, chains=2, tune=500, discard_tuned_samples=True)\n",
        "    \n",
        "ax = pm.plot_posterior(trace)\n",
        "ax[0].set_title(\"$\\mu$\")\n",
        "ax[1].set_title(\"$\\sigma$\")\n",
        "\n",
        "bfgs_estimate = []\n",
        "estimate = pm.find_MAP(model=model)\n",
        "bfgs_estimate.append(estimate[\"mu\"].item())\n",
        "bfgs_estimate.append(estimate[\"sigma\"].item())\n",
        "mcmc_estimate = pm.summary(trace)['mean']"
      ],
      "execution_count": 0,
      "outputs": [
        {
          "output_type": "stream",
          "text": [
            "Auto-assigning NUTS sampler...\n",
            "Initializing NUTS using jitter+adapt_diag...\n",
            "Sequential sampling (2 chains in 1 job)\n",
            "NUTS: [sigma, mu]\n",
            "Sampling chain 0, 0 divergences: 100%|██████████| 1500/1500 [00:01<00:00, 1330.99it/s]\n",
            "Sampling chain 1, 0 divergences: 100%|██████████| 1500/1500 [00:01<00:00, 1387.15it/s]\n",
            "logp = -284.28, ||grad|| = 1,080.4: 100%|██████████| 18/18 [00:00<00:00, 1135.95it/s]  \n"
          ],
          "name": "stderr"
        },
        {
          "output_type": "display_data",
          "data": {
            "image/png": "[encoded data removed]",
            "text/plain": [
              "<Figure size 993.6x331.2 with 2 Axes>"
            ]
          },
          "metadata": {
            "tags": [],
            "needs_background": "light"
          }
        }
      ]
    },
    {
      "cell_type": "code",
      "metadata": {
        "colab_type": "code",
        "outputId": "dd7469d0-368d-4d7c-8344-00bb8effed6a",
        "id": "SUxxkJxEqg-G",
        "colab": {
          "base_uri": "https://localhost:8080/",
          "height": 187
        }
      },
      "source": [
        "avg_mu_estimate = (mcmc_estimate[0] + bfgs_estimate[0]) / 2\n",
        "error_mu = abs(true_mu - avg_mu_estimate)\n",
        "print('MAP estimate for mu (BFGS method) = {:.2f}'.format(bfgs_estimate[0]))\n",
        "print('MAP estimate for mu (MCMC method) = {:.2f}'.format(mcmc_estimate[0]))\n",
        "print('MAP estimate for mu (Averaged) = {:.2f}'.format(avg_mu_estimate))\n",
        "print('Error for mu = {:.2f} \\n '.format(error_mu))\n",
        "\n",
        "avg_sigma_estimate = (mcmc_estimate[1] + bfgs_estimate[1]) / 2\n",
        "error_sigma = abs(true_sigma - avg_sigma_estimate)\n",
        "print('MAP estimate for sigma (BFGS method) = {:.2f}'.format(bfgs_estimate[1]))\n",
        "print('MAP estimate for sigma (MCMC method) = {:.2f}'.format(mcmc_estimate[1]))\n",
        "print('MAP estimate for sigma (Averaged) = {:.2f}'.format(avg_sigma_estimate))\n",
        "print('Error for sigma = {:.2f} \\n '.format(error_sigma))"
      ],
      "execution_count": 0,
      "outputs": [
        {
          "output_type": "stream",
          "text": [
            "MAP estimate for mu (BFGS method) = 4.90\n",
            "MAP estimate for mu (MCMC method) = 4.90\n",
            "MAP estimate for mu (Averaged) = 4.90\n",
            "Error for mu = 0.10 \n",
            " \n",
            "MAP estimate for sigma (BFGS method) = 0.97\n",
            "MAP estimate for sigma (MCMC method) = 0.98\n",
            "MAP estimate for sigma (Averaged) = 0.98\n",
            "Error for sigma = 0.02 \n",
            " \n"
          ],
          "name": "stdout"
        }
      ]
    },
    {
      "cell_type": "code",
      "metadata": {
        "colab_type": "code",
        "outputId": "384889ff-6710-40cc-8a42-fb67b8339095",
        "id": "pQEKQt-fqg-P",
        "colab": {
          "base_uri": "https://localhost:8080/",
          "height": 475
        }
      },
      "source": [
        "# Normal Prior\n",
        "model = pm.Model()\n",
        "\n",
        "with model:\n",
        "    # Priors for unknown model parameters\n",
        "    mu = pm.Normal('mu', mu=10, sigma=1)\n",
        "    sigma = pm.HalfNormal('sigma', sigma=1)\n",
        "    \n",
        "    # Expected value of outcome\n",
        "    y_obs = pm.Normal('y', mu=mu, sigma=sigma, observed=x)\n",
        "\n",
        "    trace = pm.sample(draws=1000, chains=2, tune=1000, discard_tuned_samples=True)\n",
        "\n",
        "ax = pm.plot_posterior(trace)\n",
        "ax[0].set_title(\"$\\mu$\")\n",
        "ax[1].set_title(\"$\\sigma$\")\n",
        "\n",
        "bfgs_estimate = []\n",
        "estimate = pm.find_MAP(model=model)\n",
        "bfgs_estimate.append(estimate[\"mu\"].item())\n",
        "bfgs_estimate.append(estimate[\"sigma\"].item())\n",
        "mcmc_estimate = pm.summary(trace)['mean']"
      ],
      "execution_count": 0,
      "outputs": [
        {
          "output_type": "stream",
          "text": [
            "Auto-assigning NUTS sampler...\n",
            "Initializing NUTS using jitter+adapt_diag...\n",
            "Sequential sampling (2 chains in 1 job)\n",
            "NUTS: [sigma, mu]\n",
            "Sampling chain 0, 0 divergences: 100%|██████████| 2000/2000 [00:01<00:00, 1370.16it/s]\n",
            "Sampling chain 1, 0 divergences: 100%|██████████| 2000/2000 [00:01<00:00, 1416.45it/s]\n",
            "logp = -153.34, ||grad|| = 2.5817e-05: 100%|██████████| 23/23 [00:00<00:00, 1369.07it/s]  \n"
          ],
          "name": "stderr"
        },
        {
          "output_type": "display_data",
          "data": {
            "image/png": "[encoded data removed]",
            "text/plain": [
              "<Figure size 993.6x331.2 with 2 Axes>"
            ]
          },
          "metadata": {
            "tags": [],
            "needs_background": "light"
          }
        }
      ]
    },
    {
      "cell_type": "code",
      "metadata": {
        "id": "QOSMdPCkBOP2",
        "colab_type": "code",
        "outputId": "3130aaaa-cc9f-4f54-9216-6dcf64a02eb7",
        "colab": {
          "base_uri": "https://localhost:8080/",
          "height": 187
        }
      },
      "source": [
        "avg_mu_estimate = (mcmc_estimate[0] + bfgs_estimate[0]) / 2\n",
        "error_mu = abs(true_mu - avg_mu_estimate)\n",
        "print('MAP estimate for mu (BFGS method) = {:.2f}'.format(bfgs_estimate[0]))\n",
        "print('MAP estimate for mu (MCMC method) = {:.2f}'.format(mcmc_estimate[0]))\n",
        "print('MAP estimate for mu (Averaged) = {:.2f}'.format(avg_mu_estimate))\n",
        "print('Error for $\\mu$ = {:.2f} \\n '.format(error_mu))\n",
        "\n",
        "avg_sigma_estimate = (mcmc_estimate[1] + bfgs_estimate[1]) / 2\n",
        "error_sigma = abs(true_sigma - avg_sigma_estimate)\n",
        "print('MAP estimate for sigma (BFGS method) = {:.2f}'.format(bfgs_estimate[1]))\n",
        "print('MAP estimate for sigma (MCMC method) = {:.2f}'.format(mcmc_estimate[1]))\n",
        "print('MAP estimate for sigma (Averaged) = {:.2f}'.format(avg_sigma_estimate))\n",
        "print('Error for sigma = {:.2f} \\n '.format(error_sigma))"
      ],
      "execution_count": 0,
      "outputs": [
        {
          "output_type": "stream",
          "text": [
            "MAP estimate for mu (BFGS method) = 4.94\n",
            "MAP estimate for mu (MCMC method) = 4.95\n",
            "MAP estimate for mu (Averaged) = 4.94\n",
            "Error for $\\mu$ = 0.06 \n",
            " \n",
            "MAP estimate for sigma (BFGS method) = 0.97\n",
            "MAP estimate for sigma (MCMC method) = 0.98\n",
            "MAP estimate for sigma (Averaged) = 0.97\n",
            "Error for sigma = 0.03 \n",
            " \n"
          ],
          "name": "stdout"
        }
      ]
    },
    {
      "cell_type": "code",
      "metadata": {
        "id": "aew--jvJBkWg",
        "colab_type": "code",
        "outputId": "7164a22d-b84a-49b6-fa19-a11011a70077",
        "colab": {
          "base_uri": "https://localhost:8080/",
          "height": 475
        }
      },
      "source": [
        "# Gamma Prior\n",
        "model = pm.Model()\n",
        "\n",
        "with model:\n",
        "    # Priors for unknown model parameters\n",
        "    mu = pm.Gamma('mu', alpha=a, beta=b)\n",
        "    sigma = pm.Gamma('sigma', alpha=a, beta=b)\n",
        "\n",
        "    # Expected value of outcome\n",
        "    y_obs = pm.Normal('y', mu=mu, sigma=sigma, observed=x)\n",
        "\n",
        "    trace = pm.sample(draws=1000, chains=2, tune=1000, discard_tuned_samples=True)\n",
        "\n",
        "ax = pm.plot_posterior(trace)\n",
        "ax[0].set_title(\"$\\mu$\")\n",
        "ax[1].set_title(\"$\\sigma$\")\n",
        "\n",
        "bfgs_estimate = []\n",
        "estimate = pm.find_MAP(model=model)\n",
        "bfgs_estimate.append(estimate[\"mu\"].item())\n",
        "bfgs_estimate.append(estimate[\"sigma\"].item())\n",
        "mcmc_estimate = pm.summary(trace)['mean']"
      ],
      "execution_count": 0,
      "outputs": [
        {
          "output_type": "stream",
          "text": [
            "Auto-assigning NUTS sampler...\n",
            "Initializing NUTS using jitter+adapt_diag...\n",
            "Sequential sampling (2 chains in 1 job)\n",
            "NUTS: [sigma, mu]\n",
            "Sampling chain 0, 0 divergences: 100%|██████████| 2000/2000 [00:01<00:00, 1343.05it/s]\n",
            "Sampling chain 1, 0 divergences: 100%|██████████| 2000/2000 [00:01<00:00, 1379.99it/s]\n",
            "logp = -143.82, ||grad|| = 24.185: 100%|██████████| 18/18 [00:00<00:00, 1403.09it/s]  \n"
          ],
          "name": "stderr"
        },
        {
          "output_type": "display_data",
          "data": {
            "image/png": "[encoded data removed]",
            "text/plain": [
              "<Figure size 993.6x331.2 with 2 Axes>"
            ]
          },
          "metadata": {
            "tags": [],
            "needs_background": "light"
          }
        }
      ]
    },
    {
      "cell_type": "code",
      "metadata": {
        "id": "TviCCwcZG_wl",
        "colab_type": "code",
        "outputId": "611a24bd-2842-4e7b-baeb-92d81f2c4e3d",
        "colab": {
          "base_uri": "https://localhost:8080/",
          "height": 204
        }
      },
      "source": [
        "avg_mu_estimate = (mcmc_estimate[0] + bfgs_estimate[0]) / 2\n",
        "error_mu = abs(true_mu - avg_mu_estimate)\n",
        "print('MAP estimate for mu (BFGS method) = {:.2f}'.format(bfgs_estimate[0]))\n",
        "print('MAP estimate for mu (MCMC method) = {:.2f}'.format(mcmc_estimate[0]))\n",
        "print('MAP estimate for mu (Averaged) = {:.2f}'.format(avg_mu_estimate))\n",
        "print('Error for mu = {:.2f} \\n '.format(error_mu))\n",
        "print('$\\mu$')\n",
        "\n",
        "avg_sigma_estimate = (mcmc_estimate[1] + bfgs_estimate[1]) / 2\n",
        "error_sigma = abs(true_sigma - avg_sigma_estimate)\n",
        "print('MAP estimate for sigma (BFGS method) = {:.2f}'.format(bfgs_estimate[1]))\n",
        "print('MAP estimate for sigma (MCMC method) = {:.2f}'.format(mcmc_estimate[1]))\n",
        "print('MAP estimate for sigma (Averaged) = {:.2f}'.format(avg_sigma_estimate))\n",
        "print('Error for sigma = {:.2f} \\n '.format(error_sigma))"
      ],
      "execution_count": 0,
      "outputs": [
        {
          "output_type": "stream",
          "text": [
            "MAP estimate for mu (BFGS method) = 4.89\n",
            "MAP estimate for mu (MCMC method) = 4.89\n",
            "MAP estimate for mu (Averaged) = 4.89\n",
            "Error for mu = 0.11 \n",
            " \n",
            "$\\mu$\n",
            "MAP estimate for sigma (BFGS method) = 0.97\n",
            "MAP estimate for sigma (MCMC method) = 0.99\n",
            "MAP estimate for sigma (Averaged) = 0.98\n",
            "Error for sigma = 0.02 \n",
            " \n"
          ],
          "name": "stdout"
        }
      ]
    },
    {
      "cell_type": "markdown",
      "metadata": {
        "id": "jTs2sHA1tl2Q",
        "colab_type": "text"
      },
      "source": [
        "With more data, we see less weightage placed on our choice of prior, and MAP estimates tend to the true value of mu and sigma. "
      ]
    },
    {
      "cell_type": "markdown",
      "metadata": {
        "id": "0R4rLW48Nssk",
        "colab_type": "text"
      },
      "source": [
        "## Problem 4: Poisson Distribution"
      ]
    },
    {
      "cell_type": "code",
      "metadata": {
        "id": "CFSzU5QRNwEw",
        "colab_type": "code",
        "outputId": "19f28a17-26c6-4788-97fc-8d0241489e99",
        "colab": {
          "base_uri": "https://localhost:8080/",
          "height": 296
        }
      },
      "source": [
        "np.random.seed(100)\n",
        "\n",
        "# true parameter value\n",
        "true_mu = 3\n",
        "\n",
        "# size of dataset\n",
        "N = 5\n",
        "\n",
        "x = np.random.poisson(true_mu, N)\n",
        "\n",
        "plt.hist(x)\n",
        "plt.xlabel('x')\n",
        "plt.ylabel('Count')"
      ],
      "execution_count": 0,
      "outputs": [
        {
          "output_type": "execute_result",
          "data": {
            "text/plain": [
              "Text(0, 0.5, 'Count')"
            ]
          },
          "metadata": {
            "tags": []
          },
          "execution_count": 64
        },
        {
          "output_type": "display_data",
          "data": {
            "image/png": "[encoded data removed]",
            "text/plain": [
              "<Figure size 432x288 with 1 Axes>"
            ]
          },
          "metadata": {
            "tags": [],
            "needs_background": "light"
          }
        }
      ]
    },
    {
      "cell_type": "markdown",
      "metadata": {
        "id": "41VuyrfxN6Ek",
        "colab_type": "text"
      },
      "source": [
        "###Uniform Prior"
      ]
    },
    {
      "cell_type": "code",
      "metadata": {
        "id": "uYGrU026OD2l",
        "colab_type": "code",
        "outputId": "b8c7b65a-d5d8-4b79-9291-e2cc590b74fa",
        "colab": {
          "base_uri": "https://localhost:8080/",
          "height": 311
        }
      },
      "source": [
        "fig, ax = plt.subplots(1, 1)\n",
        "fig.suptitle('Uniform Distribution')\n",
        "uniform_x = np.linspace(uniform(0,10).ppf(0.01),\n",
        "                        uniform(0,10).ppf(0.99), 100)\n",
        "uniform_dist = uniform(0,10)\n",
        "ax.plot(uniform_x, uniform_dist.pdf(uniform_x), 'k-', lw=2)\n",
        "print('Mean of Uniform distribution: {:.2f}'.format(uniform_x.mean()))"
      ],
      "execution_count": 0,
      "outputs": [
        {
          "output_type": "stream",
          "text": [
            "Mean of Uniform distribution: 5.00\n"
          ],
          "name": "stdout"
        },
        {
          "output_type": "display_data",
          "data": {
            "image/png": "[encoded data removed]",
            "text/plain": [
              "<Figure size 432x288 with 1 Axes>"
            ]
          },
          "metadata": {
            "tags": [],
            "needs_background": "light"
          }
        }
      ]
    },
    {
      "cell_type": "code",
      "metadata": {
        "id": "so8ZGoL2N4b3",
        "colab_type": "code",
        "outputId": "70c5b6de-9d0d-4a09-fbcd-cbd3990d7d23",
        "colab": {
          "base_uri": "https://localhost:8080/",
          "height": 449
        }
      },
      "source": [
        "model = pm.Model()\n",
        "\n",
        "with model:\n",
        "    # Priors for unknown model parameters\n",
        "    mu = pm.Uniform('mu', lower=0, upper=10)\n",
        "    \n",
        "    # Expected value of outcome\n",
        "    y_obs = pm.Poisson('y', mu=mu, observed=x)\n",
        "\n",
        "    trace = pm.sample(draws=1000, chains=2, tune=500, discard_tuned_samples=True)\n",
        "\n",
        "bfgs_estimate = pm.find_MAP(model=model)['mu'].item()\n",
        "mcmc_estimate = pm.summary(trace)['mean'][0]\n",
        "ax = pm.plot_posterior(trace)\n",
        "ax[0].set_title(\"$\\mu$\")"
      ],
      "execution_count": 0,
      "outputs": [
        {
          "output_type": "stream",
          "text": [
            "Auto-assigning NUTS sampler...\n",
            "Initializing NUTS using jitter+adapt_diag...\n",
            "Sequential sampling (2 chains in 1 job)\n",
            "NUTS: [mu]\n",
            "Sampling chain 0, 0 divergences: 100%|██████████| 1500/1500 [00:00<00:00, 2055.53it/s]\n",
            "Sampling chain 1, 0 divergences: 100%|██████████| 1500/1500 [00:00<00:00, 2171.57it/s]\n",
            "logp = -13.101, ||grad|| = 5: 100%|██████████| 6/6 [00:00<00:00, 693.45it/s]\n"
          ],
          "name": "stderr"
        },
        {
          "output_type": "execute_result",
          "data": {
            "text/plain": [
              "Text(0.5, 1.0, '$\\\\mu$')"
            ]
          },
          "metadata": {
            "tags": []
          },
          "execution_count": 45
        },
        {
          "output_type": "display_data",
          "data": {
            "image/png": "[encoded data removed]",
            "text/plain": [
              "<Figure size 432x288 with 1 Axes>"
            ]
          },
          "metadata": {
            "tags": [],
            "needs_background": "light"
          }
        }
      ]
    },
    {
      "cell_type": "code",
      "metadata": {
        "id": "XZeGYqIzOR0w",
        "colab_type": "code",
        "outputId": "a1b4eb58-cac3-48f9-b61a-ec7f31d332fc",
        "colab": {
          "base_uri": "https://localhost:8080/",
          "height": 102
        }
      },
      "source": [
        "avg_estimate = (mcmc_estimate + bfgs_estimate) / 2\n",
        "error = abs(true_mu - avg_estimate)\n",
        "print('\\nMAP Estimate (BFGS method) = {:.2f}'.format(bfgs_estimate))\n",
        "print('MAP Estimate (MCMC method) = {:.2f}'.format(mcmc_estimate))\n",
        "print('MAP Estimate (Averaged) = {:.2f}'.format(avg_estimate))\n",
        "print('Error = {:.2f}'.format(error))"
      ],
      "execution_count": 0,
      "outputs": [
        {
          "output_type": "stream",
          "text": [
            "\n",
            "MAP Estimate (BFGS method) = 3.00\n",
            "MAP Estimate (MCMC method) = 3.23\n",
            "MAP Estimate (Averaged) = 3.11\n",
            "Error = 0.11\n"
          ],
          "name": "stdout"
        }
      ]
    },
    {
      "cell_type": "markdown",
      "metadata": {
        "id": "UTHCqSkpOWc0",
        "colab_type": "text"
      },
      "source": [
        "###Gamma Prior"
      ]
    },
    {
      "cell_type": "code",
      "metadata": {
        "id": "PlqKF1_TOxEs",
        "colab_type": "code",
        "outputId": "7eedd3bf-4dbf-4cf1-ca76-0396cbae3057",
        "colab": {
          "base_uri": "https://localhost:8080/",
          "height": 311
        }
      },
      "source": [
        "# Gamma distribution\n",
        "fig, ax = plt.subplots(1, 1)\n",
        "fig.suptitle('Gamma Distribution, α=2,β=1')\n",
        "a = 2\n",
        "b = 1\n",
        "gamma_x = np.linspace(gamma.ppf(0.01, a, b),\n",
        "                      gamma.ppf(0.99, a, b), 100)\n",
        "gamma_dist = gamma(a,b)\n",
        "ax.plot(gamma_x, gamma_dist.pdf(gamma_x), 'k-', lw=2)"
      ],
      "execution_count": 0,
      "outputs": [
        {
          "output_type": "execute_result",
          "data": {
            "text/plain": [
              "[<matplotlib.lines.Line2D at 0x7fe4524234a8>]"
            ]
          },
          "metadata": {
            "tags": []
          },
          "execution_count": 47
        },
        {
          "output_type": "display_data",
          "data": {
            "image/png": "[encoded data removed]",
            "text/plain": [
              "<Figure size 432x288 with 1 Axes>"
            ]
          },
          "metadata": {
            "tags": [],
            "needs_background": "light"
          }
        }
      ]
    },
    {
      "cell_type": "code",
      "metadata": {
        "id": "FLhaZGlgO5AL",
        "colab_type": "code",
        "outputId": "da008289-6a3c-4cf8-fac1-328a518704aa",
        "colab": {
          "base_uri": "https://localhost:8080/",
          "height": 449
        }
      },
      "source": [
        "model = pm.Model()\n",
        "\n",
        "with model:\n",
        "    # Priors for unknown model parameters\n",
        "    mu = pm.Gamma('mu', alpha=a, beta=b)\n",
        "    \n",
        "    # Expected value of outcome\n",
        "    y_obs = pm.Poisson('y', mu=mu, observed=x)\n",
        "\n",
        "    trace = pm.sample(draws=1000, chains=2, tune=1000, discard_tuned_samples=True)\n",
        "\n",
        "bfgs_estimate = pm.find_MAP(model=model)['mu'].item()\n",
        "mcmc_estimate = pm.summary(trace)['mean'][0]\n",
        "ax = pm.plot_posterior(trace)\n",
        "ax[0].set_title(\"$\\mu$\")"
      ],
      "execution_count": 0,
      "outputs": [
        {
          "output_type": "stream",
          "text": [
            "Auto-assigning NUTS sampler...\n",
            "Initializing NUTS using jitter+adapt_diag...\n",
            "Sequential sampling (2 chains in 1 job)\n",
            "NUTS: [mu]\n",
            "Sampling chain 0, 0 divergences: 100%|██████████| 2000/2000 [00:00<00:00, 2041.59it/s]\n",
            "Sampling chain 1, 0 divergences: 100%|██████████| 2000/2000 [00:00<00:00, 2085.89it/s]\n",
            "logp = -10.849, ||grad|| = 4: 100%|██████████| 7/7 [00:00<00:00, 1502.80it/s]\n"
          ],
          "name": "stderr"
        },
        {
          "output_type": "execute_result",
          "data": {
            "text/plain": [
              "Text(0.5, 1.0, '$\\\\mu$')"
            ]
          },
          "metadata": {
            "tags": []
          },
          "execution_count": 48
        },
        {
          "output_type": "display_data",
          "data": {
            "image/png": "[encoded data removed]",
            "text/plain": [
              "<Figure size 432x288 with 1 Axes>"
            ]
          },
          "metadata": {
            "tags": [],
            "needs_background": "light"
          }
        }
      ]
    },
    {
      "cell_type": "code",
      "metadata": {
        "id": "ty1JsikhO9ky",
        "colab_type": "code",
        "outputId": "26b5e001-f093-408f-c04f-abdc3d4eb484",
        "colab": {
          "base_uri": "https://localhost:8080/",
          "height": 102
        }
      },
      "source": [
        "avg_estimate = (mcmc_estimate + bfgs_estimate) / 2\n",
        "error = abs(true_mu - avg_estimate)\n",
        "print('\\nMAP Estimate (BFGS method) = {:.2f}'.format(bfgs_estimate))\n",
        "print('MAP Estimate (MCMC method) = {:.2f}'.format(mcmc_estimate))\n",
        "print('MAP Estimate (Averaged) = {:.2f}'.format(avg_estimate))\n",
        "print('Error = {:.2f}'.format(error))"
      ],
      "execution_count": 0,
      "outputs": [
        {
          "output_type": "stream",
          "text": [
            "\n",
            "MAP Estimate (BFGS method) = 2.67\n",
            "MAP Estimate (MCMC method) = 2.79\n",
            "MAP Estimate (Averaged) = 2.73\n",
            "Error = 0.27\n"
          ],
          "name": "stdout"
        }
      ]
    },
    {
      "cell_type": "markdown",
      "metadata": {
        "id": "x9C2toE8PMLv",
        "colab_type": "text"
      },
      "source": [
        "### Normal Prior"
      ]
    },
    {
      "cell_type": "code",
      "metadata": {
        "id": "y3vx3iW4P8C6",
        "colab_type": "code",
        "outputId": "610c223a-e979-4ab2-ebfa-a282986f103b",
        "colab": {
          "base_uri": "https://localhost:8080/",
          "height": 281
        }
      },
      "source": [
        "fig, ax = plt.subplots(1, 1)\n",
        "mu = 5\n",
        "sigma = 1\n",
        "x = np.linspace(mu - 3*sigma, mu + 3*sigma, 100)\n",
        "ax.plot(x, stats.norm.pdf(x, mu, sigma), 'k-')\n",
        "ax.set_title(\"Normal Distribution\")\n",
        "x = np.linspace(0, 3*sigma, 100)"
      ],
      "execution_count": 0,
      "outputs": [
        {
          "output_type": "display_data",
          "data": {
            "image/png": "[encoded data removed]",
            "text/plain": [
              "<Figure size 432x288 with 1 Axes>"
            ]
          },
          "metadata": {
            "tags": [],
            "needs_background": "light"
          }
        }
      ]
    },
    {
      "cell_type": "code",
      "metadata": {
        "id": "KWdq-3vOPLlS",
        "colab_type": "code",
        "outputId": "cdb9fb13-d6b1-4aa6-ba51-d6089f54aacf",
        "colab": {
          "base_uri": "https://localhost:8080/",
          "height": 432
        }
      },
      "source": [
        "model = pm.Model()\n",
        "\n",
        "with model:\n",
        "    # Priors for unknown model parameters\n",
        "    mu = pm.Normal('mu', mu=5, sigma=1)\n",
        "    \n",
        "    # Expected value of outcome\n",
        "    y_obs = pm.Poisson('y', mu=mu, observed=x)\n",
        "\n",
        "    trace = pm.sample(draws=1000, chains=2, tune=1000, discard_tuned_samples=True)\n",
        "\n",
        "bfgs_estimate = pm.find_MAP(model=model)['mu'].item()\n",
        "mcmc_estimate = pm.summary(trace)['mean'][0]\n",
        "ax = pm.plot_posterior(trace)"
      ],
      "execution_count": 0,
      "outputs": [
        {
          "output_type": "stream",
          "text": [
            "Auto-assigning NUTS sampler...\n",
            "Initializing NUTS using jitter+adapt_diag...\n",
            "Sequential sampling (2 chains in 1 job)\n",
            "NUTS: [mu]\n",
            "Sampling chain 0, 0 divergences: 100%|██████████| 2000/2000 [00:00<00:00, 2123.10it/s]\n",
            "Sampling chain 1, 0 divergences: 100%|██████████| 2000/2000 [00:00<00:00, 2152.42it/s]\n",
            "logp = -361.42, ||grad|| = 79.6: 100%|██████████| 4/4 [00:00<00:00, 513.71it/s]\n"
          ],
          "name": "stderr"
        },
        {
          "output_type": "display_data",
          "data": {
            "image/png": "[encoded data removed]",
            "text/plain": [
              "<Figure size 432x288 with 1 Axes>"
            ]
          },
          "metadata": {
            "tags": [],
            "needs_background": "light"
          }
        }
      ]
    },
    {
      "cell_type": "code",
      "metadata": {
        "id": "-4_vdeSnQtLQ",
        "colab_type": "code",
        "outputId": "45e22f09-fa3d-4218-fbe0-24a32eec05b5",
        "colab": {
          "base_uri": "https://localhost:8080/",
          "height": 102
        }
      },
      "source": [
        "avg_estimate = (mcmc_estimate + bfgs_estimate) / 2\n",
        "error = abs(true_mu - avg_estimate)\n",
        "print('\\nMAP Estimate (BFGS method) = {:.2f}'.format(bfgs_estimate))\n",
        "print('MAP Estimate (MCMC method) = {:.2f}'.format(mcmc_estimate))\n",
        "print('MAP Estimate (Averaged) = {:.2f}'.format(avg_estimate))\n",
        "print('Error = {:.2f}'.format(error))"
      ],
      "execution_count": 0,
      "outputs": [
        {
          "output_type": "stream",
          "text": [
            "\n",
            "MAP Estimate (BFGS method) = 0.00\n",
            "MAP Estimate (MCMC method) = 1.07\n",
            "MAP Estimate (Averaged) = 0.54\n",
            "Error = 2.46\n"
          ],
          "name": "stdout"
        }
      ]
    },
    {
      "cell_type": "markdown",
      "metadata": {
        "id": "YeSxJwECQ24f",
        "colab_type": "text"
      },
      "source": [
        "### More Data"
      ]
    },
    {
      "cell_type": "code",
      "metadata": {
        "id": "bawdGrOEQ2Kb",
        "colab_type": "code",
        "outputId": "f8e75225-15e3-415b-a6bb-4025dda6214b",
        "colab": {
          "base_uri": "https://localhost:8080/",
          "height": 296
        }
      },
      "source": [
        "np.random.seed(100)\n",
        "\n",
        "# true parameter value\n",
        "true_mu = 3\n",
        "\n",
        "# size of dataset\n",
        "N = 100\n",
        "\n",
        "x = np.random.poisson(true_mu, N)\n",
        "\n",
        "plt.hist(x)\n",
        "plt.xlabel('x')\n",
        "plt.ylabel('Count')"
      ],
      "execution_count": 0,
      "outputs": [
        {
          "output_type": "execute_result",
          "data": {
            "text/plain": [
              "Text(0, 0.5, 'Count')"
            ]
          },
          "metadata": {
            "tags": []
          },
          "execution_count": 56
        },
        {
          "output_type": "display_data",
          "data": {
            "image/png": "[encoded data removed]",
            "text/plain": [
              "<Figure size 432x288 with 1 Axes>"
            ]
          },
          "metadata": {
            "tags": [],
            "needs_background": "light"
          }
        }
      ]
    },
    {
      "cell_type": "code",
      "metadata": {
        "id": "N6W36gqhRAAs",
        "colab_type": "code",
        "outputId": "db18754f-f080-4068-cfa2-03cd71b026ec",
        "colab": {
          "base_uri": "https://localhost:8080/",
          "height": 449
        }
      },
      "source": [
        "# Uniform Prior\n",
        "model = pm.Model()\n",
        "\n",
        "with model:\n",
        "    # Priors for unknown model parameters\n",
        "    mu = pm.Uniform('mu', lower=0, upper=10)\n",
        "    \n",
        "    # Expected value of outcome\n",
        "    y_obs = pm.Poisson('y', mu=mu, observed=x)\n",
        "\n",
        "    trace = pm.sample(draws=1000, chains=2, tune=500, discard_tuned_samples=True)\n",
        "\n",
        "bfgs_estimate = pm.find_MAP(model=model)['mu'].item()\n",
        "mcmc_estimate = pm.summary(trace)['mean'][0]\n",
        "ax = pm.plot_posterior(trace)\n",
        "ax[0].set_title(\"$\\mu$\")"
      ],
      "execution_count": 0,
      "outputs": [
        {
          "output_type": "stream",
          "text": [
            "Auto-assigning NUTS sampler...\n",
            "Initializing NUTS using jitter+adapt_diag...\n",
            "Sequential sampling (2 chains in 1 job)\n",
            "NUTS: [mu]\n",
            "Sampling chain 0, 0 divergences: 100%|██████████| 1500/1500 [00:00<00:00, 2057.96it/s]\n",
            "Sampling chain 1, 0 divergences: 100%|██████████| 1500/1500 [00:00<00:00, 2176.77it/s]\n",
            "logp = -243.34, ||grad|| = 99.5: 100%|██████████| 7/7 [00:00<00:00, 1429.41it/s]\n"
          ],
          "name": "stderr"
        },
        {
          "output_type": "execute_result",
          "data": {
            "text/plain": [
              "Text(0.5, 1.0, '$\\\\mu$')"
            ]
          },
          "metadata": {
            "tags": []
          },
          "execution_count": 57
        },
        {
          "output_type": "display_data",
          "data": {
            "image/png": "[encoded data removed]",
            "text/plain": [
              "<Figure size 432x288 with 1 Axes>"
            ]
          },
          "metadata": {
            "tags": [],
            "needs_background": "light"
          }
        }
      ]
    },
    {
      "cell_type": "code",
      "metadata": {
        "id": "vojZ6J0gRIcp",
        "colab_type": "code",
        "outputId": "bef9c5b2-923f-4ae9-a654-1878d0100e85",
        "colab": {
          "base_uri": "https://localhost:8080/",
          "height": 102
        }
      },
      "source": [
        "avg_estimate = (mcmc_estimate + bfgs_estimate) / 2\n",
        "error = abs(true_mu - avg_estimate)\n",
        "print('\\nMAP Estimate (BFGS method) = {:.2f}'.format(bfgs_estimate))\n",
        "print('MAP Estimate (MCMC method) = {:.2f}'.format(mcmc_estimate))\n",
        "print('MAP Estimate (Averaged) = {:.2f}'.format(avg_estimate))\n",
        "print('Error = {:.2f}'.format(error))"
      ],
      "execution_count": 0,
      "outputs": [
        {
          "output_type": "stream",
          "text": [
            "\n",
            "MAP Estimate (BFGS method) = 3.01\n",
            "MAP Estimate (MCMC method) = 3.02\n",
            "MAP Estimate (Averaged) = 3.01\n",
            "Error = 0.01\n"
          ],
          "name": "stdout"
        }
      ]
    },
    {
      "cell_type": "code",
      "metadata": {
        "id": "gev4T7NRRKYj",
        "colab_type": "code",
        "outputId": "a40232c4-b838-4a4f-aba0-aca2a1d97877",
        "colab": {
          "base_uri": "https://localhost:8080/",
          "height": 449
        }
      },
      "source": [
        "# Gamma Prior\n",
        "model = pm.Model()\n",
        "\n",
        "with model:\n",
        "    # Priors for unknown model parameters\n",
        "    mu = pm.Gamma('mu', alpha=a, beta=b)\n",
        "    \n",
        "    # Expected value of outcome\n",
        "    y_obs = pm.Poisson('y', mu=mu, observed=x)\n",
        "\n",
        "    trace = pm.sample(draws=1000, chains=2, tune=1000, discard_tuned_samples=True)\n",
        "\n",
        "bfgs_estimate = pm.find_MAP(model=model)['mu'].item()\n",
        "mcmc_estimate = pm.summary(trace)['mean'][0]\n",
        "ax = pm.plot_posterior(trace)\n",
        "ax[0].set_title(\"$\\mu$\")"
      ],
      "execution_count": 0,
      "outputs": [
        {
          "output_type": "stream",
          "text": [
            "Auto-assigning NUTS sampler...\n",
            "Initializing NUTS using jitter+adapt_diag...\n",
            "Sequential sampling (2 chains in 1 job)\n",
            "NUTS: [mu]\n",
            "Sampling chain 0, 0 divergences: 100%|██████████| 2000/2000 [00:00<00:00, 2064.59it/s]\n",
            "Sampling chain 1, 0 divergences: 100%|██████████| 2000/2000 [00:00<00:00, 2055.47it/s]\n",
            "logp = -218.14, ||grad|| = 100: 100%|██████████| 8/8 [00:00<00:00, 1342.12it/s]\n"
          ],
          "name": "stderr"
        },
        {
          "output_type": "execute_result",
          "data": {
            "text/plain": [
              "Text(0.5, 1.0, '$\\\\mu$')"
            ]
          },
          "metadata": {
            "tags": []
          },
          "execution_count": 59
        },
        {
          "output_type": "display_data",
          "data": {
            "image/png": "[encoded data removed]",
            "text/plain": [
              "<Figure size 432x288 with 1 Axes>"
            ]
          },
          "metadata": {
            "tags": [],
            "needs_background": "light"
          }
        }
      ]
    },
    {
      "cell_type": "code",
      "metadata": {
        "id": "_2z8Try5RJD9",
        "colab_type": "code",
        "outputId": "92de032b-d612-4e1d-fa55-98b4472004df",
        "colab": {
          "base_uri": "https://localhost:8080/",
          "height": 102
        }
      },
      "source": [
        "avg_estimate = (mcmc_estimate + bfgs_estimate) / 2\n",
        "error = abs(true_mu - avg_estimate)\n",
        "print('\\nMAP Estimate (BFGS method) = {:.2f}'.format(bfgs_estimate))\n",
        "print('MAP Estimate (MCMC method) = {:.2f}'.format(mcmc_estimate))\n",
        "print('MAP Estimate (Averaged) = {:.2f}'.format(avg_estimate))\n",
        "print('Error = {:.2f}'.format(error))"
      ],
      "execution_count": 0,
      "outputs": [
        {
          "output_type": "stream",
          "text": [
            "\n",
            "MAP Estimate (BFGS method) = 2.99\n",
            "MAP Estimate (MCMC method) = 2.99\n",
            "MAP Estimate (Averaged) = 2.99\n",
            "Error = 0.01\n"
          ],
          "name": "stdout"
        }
      ]
    },
    {
      "cell_type": "code",
      "metadata": {
        "id": "xiD3AVZ_RcG8",
        "colab_type": "code",
        "outputId": "9d2986c7-aaed-479d-8f04-52009e1fe7b4",
        "colab": {
          "base_uri": "https://localhost:8080/",
          "height": 432
        }
      },
      "source": [
        "model = pm.Model()\n",
        "\n",
        "with model:\n",
        "    # Priors for unknown model parameters\n",
        "    mu = pm.Normal('mu', mu=5, sigma=1)\n",
        "    \n",
        "    # Expected value of outcome\n",
        "    y_obs = pm.Poisson('y', mu=mu, observed=x)\n",
        "\n",
        "    trace = pm.sample(draws=1000, chains=2, tune=1000, discard_tuned_samples=True)\n",
        "\n",
        "bfgs_estimate = pm.find_MAP(model=model)['mu'].item()\n",
        "mcmc_estimate = pm.summary(trace)['mean'][0]\n",
        "ax = pm.plot_posterior(trace)"
      ],
      "execution_count": 0,
      "outputs": [
        {
          "output_type": "stream",
          "text": [
            "Auto-assigning NUTS sampler...\n",
            "Initializing NUTS using jitter+adapt_diag...\n",
            "Sequential sampling (2 chains in 1 job)\n",
            "NUTS: [mu]\n",
            "Sampling chain 0, 0 divergences: 100%|██████████| 2000/2000 [00:00<00:00, 2164.57it/s]\n",
            "Sampling chain 1, 0 divergences: 100%|██████████| 2000/2000 [00:00<00:00, 2157.57it/s]\n",
            "logp = -241.95, ||grad|| = 39.8: 100%|██████████| 9/9 [00:00<00:00, 1068.10it/s]\n"
          ],
          "name": "stderr"
        },
        {
          "output_type": "display_data",
          "data": {
            "image/png": "[encoded data removed]",
            "text/plain": [
              "<Figure size 432x288 with 1 Axes>"
            ]
          },
          "metadata": {
            "tags": [],
            "needs_background": "light"
          }
        }
      ]
    },
    {
      "cell_type": "code",
      "metadata": {
        "id": "azZeytPeRJx_",
        "colab_type": "code",
        "outputId": "91f0a703-22c7-4f1c-f57f-161780bfe626",
        "colab": {
          "base_uri": "https://localhost:8080/",
          "height": 102
        }
      },
      "source": [
        "avg_estimate = (mcmc_estimate + bfgs_estimate) / 2\n",
        "error = abs(true_mu - avg_estimate)\n",
        "print('\\nMAP Estimate (BFGS method) = {:.2f}'.format(bfgs_estimate))\n",
        "print('MAP Estimate (MCMC method) = {:.2f}'.format(mcmc_estimate))\n",
        "print('MAP Estimate (Averaged) = {:.2f}'.format(avg_estimate))\n",
        "print('Error = {:.2f}'.format(error))"
      ],
      "execution_count": 0,
      "outputs": [
        {
          "output_type": "stream",
          "text": [
            "\n",
            "MAP Estimate (BFGS method) = 3.07\n",
            "MAP Estimate (MCMC method) = 3.08\n",
            "MAP Estimate (Averaged) = 3.07\n",
            "Error = 0.07\n"
          ],
          "name": "stdout"
        }
      ]
    },
    {
      "cell_type": "markdown",
      "metadata": {
        "id": "XIdojzHDrVta",
        "colab_type": "text"
      },
      "source": [
        "---\n",
        "# Q3 - Comparing prediction errors between MLE and MAP solutions on Real Datasets\n",
        "---"
      ]
    },
    {
      "cell_type": "markdown",
      "metadata": {
        "id": "hv1zj-RG5oIs",
        "colab_type": "text"
      },
      "source": [
        "## Problem 1: SKLearn Boston Housing Price Dataset"
      ]
    },
    {
      "cell_type": "markdown",
      "metadata": {
        "id": "qhOs5ppO77Fw",
        "colab_type": "text"
      },
      "source": [
        "First, we load the dataset and do some exploratory data analysis"
      ]
    },
    {
      "cell_type": "code",
      "metadata": {
        "id": "BSmWzkkl5jqH",
        "colab_type": "code",
        "colab": {}
      },
      "source": [
        "boston = sklearn.datasets.load_boston()\n",
        "X = pd.DataFrame(boston.data, columns=boston.feature_names)\n",
        "y = boston.target"
      ],
      "execution_count": 0,
      "outputs": []
    },
    {
      "cell_type": "code",
      "metadata": {
        "id": "5RhbSEjX7FoT",
        "colab_type": "code",
        "outputId": "c4b6fbeb-f153-4b86-b82f-204deeed46e9",
        "colab": {
          "base_uri": "https://localhost:8080/",
          "height": 295
        }
      },
      "source": [
        "plt.hist(y, bins=50)\n",
        "plt.xlabel('House Prices')\n",
        "plt.ylabel('Count')\n",
        "plt.title('Distribution of Boston Housing Price')\n",
        "plt.show()"
      ],
      "execution_count": 0,
      "outputs": [
        {
          "output_type": "display_data",
          "data": {
            "image/png": "[encoded data removed]",
            "text/plain": [
              "<Figure size 432x288 with 1 Axes>"
            ]
          },
          "metadata": {
            "tags": [],
            "needs_background": "light"
          }
        }
      ]
    },
    {
      "cell_type": "markdown",
      "metadata": {
        "id": "B5uyv-3n8ELX",
        "colab_type": "text"
      },
      "source": [
        "As we can see, the target y, seems to be normally distributed but with some outliers after ~48. The mean seems to lie between 20-25 "
      ]
    },
    {
      "cell_type": "code",
      "metadata": {
        "id": "TRqdsbCJKpi7",
        "colab_type": "code",
        "outputId": "7f505dc2-b630-4c18-e8c4-bb6495bffcb3",
        "colab": {
          "base_uri": "https://localhost:8080/",
          "height": 204
        }
      },
      "source": [
        "X.head()"
      ],
      "execution_count": 0,
      "outputs": [
        {
          "output_type": "execute_result",
          "data": {
            "text/html": [
              "<div>\n",
              "<style scoped>\n",
              "    .dataframe tbody tr th:only-of-type {\n",
              "        vertical-align: middle;\n",
              "    }\n",
              "\n",
              "    .dataframe tbody tr th {\n",
              "        vertical-align: top;\n",
              "    }\n",
              "\n",
              "    .dataframe thead th {\n",
              "        text-align: right;\n",
              "    }\n",
              "</style>\n",
              "<table border=\"1\" class=\"dataframe\">\n",
              "  <thead>\n",
              "    <tr style=\"text-align: right;\">\n",
              "      <th></th>\n",
              "      <th>CRIM</th>\n",
              "      <th>ZN</th>\n",
              "      <th>INDUS</th>\n",
              "      <th>CHAS</th>\n",
              "      <th>NOX</th>\n",
              "      <th>RM</th>\n",
              "      <th>AGE</th>\n",
              "      <th>DIS</th>\n",
              "      <th>RAD</th>\n",
              "      <th>TAX</th>\n",
              "      <th>PTRATIO</th>\n",
              "      <th>B</th>\n",
              "      <th>LSTAT</th>\n",
              "    </tr>\n",
              "  </thead>\n",
              "  <tbody>\n",
              "    <tr>\n",
              "      <th>0</th>\n",
              "      <td>0.00632</td>\n",
              "      <td>18.0</td>\n",
              "      <td>2.31</td>\n",
              "      <td>0.0</td>\n",
              "      <td>0.538</td>\n",
              "      <td>6.575</td>\n",
              "      <td>65.2</td>\n",
              "      <td>4.0900</td>\n",
              "      <td>1.0</td>\n",
              "      <td>296.0</td>\n",
              "      <td>15.3</td>\n",
              "      <td>396.90</td>\n",
              "      <td>4.98</td>\n",
              "    </tr>\n",
              "    <tr>\n",
              "      <th>1</th>\n",
              "      <td>0.02731</td>\n",
              "      <td>0.0</td>\n",
              "      <td>7.07</td>\n",
              "      <td>0.0</td>\n",
              "      <td>0.469</td>\n",
              "      <td>6.421</td>\n",
              "      <td>78.9</td>\n",
              "      <td>4.9671</td>\n",
              "      <td>2.0</td>\n",
              "      <td>242.0</td>\n",
              "      <td>17.8</td>\n",
              "      <td>396.90</td>\n",
              "      <td>9.14</td>\n",
              "    </tr>\n",
              "    <tr>\n",
              "      <th>2</th>\n",
              "      <td>0.02729</td>\n",
              "      <td>0.0</td>\n",
              "      <td>7.07</td>\n",
              "      <td>0.0</td>\n",
              "      <td>0.469</td>\n",
              "      <td>7.185</td>\n",
              "      <td>61.1</td>\n",
              "      <td>4.9671</td>\n",
              "      <td>2.0</td>\n",
              "      <td>242.0</td>\n",
              "      <td>17.8</td>\n",
              "      <td>392.83</td>\n",
              "      <td>4.03</td>\n",
              "    </tr>\n",
              "    <tr>\n",
              "      <th>3</th>\n",
              "      <td>0.03237</td>\n",
              "      <td>0.0</td>\n",
              "      <td>2.18</td>\n",
              "      <td>0.0</td>\n",
              "      <td>0.458</td>\n",
              "      <td>6.998</td>\n",
              "      <td>45.8</td>\n",
              "      <td>6.0622</td>\n",
              "      <td>3.0</td>\n",
              "      <td>222.0</td>\n",
              "      <td>18.7</td>\n",
              "      <td>394.63</td>\n",
              "      <td>2.94</td>\n",
              "    </tr>\n",
              "    <tr>\n",
              "      <th>4</th>\n",
              "      <td>0.06905</td>\n",
              "      <td>0.0</td>\n",
              "      <td>2.18</td>\n",
              "      <td>0.0</td>\n",
              "      <td>0.458</td>\n",
              "      <td>7.147</td>\n",
              "      <td>54.2</td>\n",
              "      <td>6.0622</td>\n",
              "      <td>3.0</td>\n",
              "      <td>222.0</td>\n",
              "      <td>18.7</td>\n",
              "      <td>396.90</td>\n",
              "      <td>5.33</td>\n",
              "    </tr>\n",
              "  </tbody>\n",
              "</table>\n",
              "</div>"
            ],
            "text/plain": [
              "      CRIM    ZN  INDUS  CHAS    NOX  ...  RAD    TAX  PTRATIO       B  LSTAT\n",
              "0  0.00632  18.0   2.31   0.0  0.538  ...  1.0  296.0     15.3  396.90   4.98\n",
              "1  0.02731   0.0   7.07   0.0  0.469  ...  2.0  242.0     17.8  396.90   9.14\n",
              "2  0.02729   0.0   7.07   0.0  0.469  ...  2.0  242.0     17.8  392.83   4.03\n",
              "3  0.03237   0.0   2.18   0.0  0.458  ...  3.0  222.0     18.7  394.63   2.94\n",
              "4  0.06905   0.0   2.18   0.0  0.458  ...  3.0  222.0     18.7  396.90   5.33\n",
              "\n",
              "[5 rows x 13 columns]"
            ]
          },
          "metadata": {
            "tags": []
          },
          "execution_count": 25
        }
      ]
    },
    {
      "cell_type": "code",
      "metadata": {
        "id": "0xJ3QPdUKvU6",
        "colab_type": "code",
        "outputId": "350783b6-a299-4599-d65c-932c465a3561",
        "colab": {
          "base_uri": "https://localhost:8080/",
          "height": 297
        }
      },
      "source": [
        "X.describe()"
      ],
      "execution_count": 0,
      "outputs": [
        {
          "output_type": "execute_result",
          "data": {
            "text/html": [
              "<div>\n",
              "<style scoped>\n",
              "    .dataframe tbody tr th:only-of-type {\n",
              "        vertical-align: middle;\n",
              "    }\n",
              "\n",
              "    .dataframe tbody tr th {\n",
              "        vertical-align: top;\n",
              "    }\n",
              "\n",
              "    .dataframe thead th {\n",
              "        text-align: right;\n",
              "    }\n",
              "</style>\n",
              "<table border=\"1\" class=\"dataframe\">\n",
              "  <thead>\n",
              "    <tr style=\"text-align: right;\">\n",
              "      <th></th>\n",
              "      <th>CRIM</th>\n",
              "      <th>ZN</th>\n",
              "      <th>INDUS</th>\n",
              "      <th>CHAS</th>\n",
              "      <th>NOX</th>\n",
              "      <th>RM</th>\n",
              "      <th>AGE</th>\n",
              "      <th>DIS</th>\n",
              "      <th>RAD</th>\n",
              "      <th>TAX</th>\n",
              "      <th>PTRATIO</th>\n",
              "      <th>B</th>\n",
              "      <th>LSTAT</th>\n",
              "    </tr>\n",
              "  </thead>\n",
              "  <tbody>\n",
              "    <tr>\n",
              "      <th>count</th>\n",
              "      <td>506.000000</td>\n",
              "      <td>506.000000</td>\n",
              "      <td>506.000000</td>\n",
              "      <td>506.000000</td>\n",
              "      <td>506.000000</td>\n",
              "      <td>506.000000</td>\n",
              "      <td>506.000000</td>\n",
              "      <td>506.000000</td>\n",
              "      <td>506.000000</td>\n",
              "      <td>506.000000</td>\n",
              "      <td>506.000000</td>\n",
              "      <td>506.000000</td>\n",
              "      <td>506.000000</td>\n",
              "    </tr>\n",
              "    <tr>\n",
              "      <th>mean</th>\n",
              "      <td>3.613524</td>\n",
              "      <td>11.363636</td>\n",
              "      <td>11.136779</td>\n",
              "      <td>0.069170</td>\n",
              "      <td>0.554695</td>\n",
              "      <td>6.284634</td>\n",
              "      <td>68.574901</td>\n",
              "      <td>3.795043</td>\n",
              "      <td>9.549407</td>\n",
              "      <td>408.237154</td>\n",
              "      <td>18.455534</td>\n",
              "      <td>356.674032</td>\n",
              "      <td>12.653063</td>\n",
              "    </tr>\n",
              "    <tr>\n",
              "      <th>std</th>\n",
              "      <td>8.601545</td>\n",
              "      <td>23.322453</td>\n",
              "      <td>6.860353</td>\n",
              "      <td>0.253994</td>\n",
              "      <td>0.115878</td>\n",
              "      <td>0.702617</td>\n",
              "      <td>28.148861</td>\n",
              "      <td>2.105710</td>\n",
              "      <td>8.707259</td>\n",
              "      <td>168.537116</td>\n",
              "      <td>2.164946</td>\n",
              "      <td>91.294864</td>\n",
              "      <td>7.141062</td>\n",
              "    </tr>\n",
              "    <tr>\n",
              "      <th>min</th>\n",
              "      <td>0.006320</td>\n",
              "      <td>0.000000</td>\n",
              "      <td>0.460000</td>\n",
              "      <td>0.000000</td>\n",
              "      <td>0.385000</td>\n",
              "      <td>3.561000</td>\n",
              "      <td>2.900000</td>\n",
              "      <td>1.129600</td>\n",
              "      <td>1.000000</td>\n",
              "      <td>187.000000</td>\n",
              "      <td>12.600000</td>\n",
              "      <td>0.320000</td>\n",
              "      <td>1.730000</td>\n",
              "    </tr>\n",
              "    <tr>\n",
              "      <th>25%</th>\n",
              "      <td>0.082045</td>\n",
              "      <td>0.000000</td>\n",
              "      <td>5.190000</td>\n",
              "      <td>0.000000</td>\n",
              "      <td>0.449000</td>\n",
              "      <td>5.885500</td>\n",
              "      <td>45.025000</td>\n",
              "      <td>2.100175</td>\n",
              "      <td>4.000000</td>\n",
              "      <td>279.000000</td>\n",
              "      <td>17.400000</td>\n",
              "      <td>375.377500</td>\n",
              "      <td>6.950000</td>\n",
              "    </tr>\n",
              "    <tr>\n",
              "      <th>50%</th>\n",
              "      <td>0.256510</td>\n",
              "      <td>0.000000</td>\n",
              "      <td>9.690000</td>\n",
              "      <td>0.000000</td>\n",
              "      <td>0.538000</td>\n",
              "      <td>6.208500</td>\n",
              "      <td>77.500000</td>\n",
              "      <td>3.207450</td>\n",
              "      <td>5.000000</td>\n",
              "      <td>330.000000</td>\n",
              "      <td>19.050000</td>\n",
              "      <td>391.440000</td>\n",
              "      <td>11.360000</td>\n",
              "    </tr>\n",
              "    <tr>\n",
              "      <th>75%</th>\n",
              "      <td>3.677083</td>\n",
              "      <td>12.500000</td>\n",
              "      <td>18.100000</td>\n",
              "      <td>0.000000</td>\n",
              "      <td>0.624000</td>\n",
              "      <td>6.623500</td>\n",
              "      <td>94.075000</td>\n",
              "      <td>5.188425</td>\n",
              "      <td>24.000000</td>\n",
              "      <td>666.000000</td>\n",
              "      <td>20.200000</td>\n",
              "      <td>396.225000</td>\n",
              "      <td>16.955000</td>\n",
              "    </tr>\n",
              "    <tr>\n",
              "      <th>max</th>\n",
              "      <td>88.976200</td>\n",
              "      <td>100.000000</td>\n",
              "      <td>27.740000</td>\n",
              "      <td>1.000000</td>\n",
              "      <td>0.871000</td>\n",
              "      <td>8.780000</td>\n",
              "      <td>100.000000</td>\n",
              "      <td>12.126500</td>\n",
              "      <td>24.000000</td>\n",
              "      <td>711.000000</td>\n",
              "      <td>22.000000</td>\n",
              "      <td>396.900000</td>\n",
              "      <td>37.970000</td>\n",
              "    </tr>\n",
              "  </tbody>\n",
              "</table>\n",
              "</div>"
            ],
            "text/plain": [
              "             CRIM          ZN       INDUS  ...     PTRATIO           B       LSTAT\n",
              "count  506.000000  506.000000  506.000000  ...  506.000000  506.000000  506.000000\n",
              "mean     3.613524   11.363636   11.136779  ...   18.455534  356.674032   12.653063\n",
              "std      8.601545   23.322453    6.860353  ...    2.164946   91.294864    7.141062\n",
              "min      0.006320    0.000000    0.460000  ...   12.600000    0.320000    1.730000\n",
              "25%      0.082045    0.000000    5.190000  ...   17.400000  375.377500    6.950000\n",
              "50%      0.256510    0.000000    9.690000  ...   19.050000  391.440000   11.360000\n",
              "75%      3.677083   12.500000   18.100000  ...   20.200000  396.225000   16.955000\n",
              "max     88.976200  100.000000   27.740000  ...   22.000000  396.900000   37.970000\n",
              "\n",
              "[8 rows x 13 columns]"
            ]
          },
          "metadata": {
            "tags": []
          },
          "execution_count": 26
        }
      ]
    },
    {
      "cell_type": "markdown",
      "metadata": {
        "id": "xnzRz3re_Hvk",
        "colab_type": "text"
      },
      "source": [
        "Now we build the models. <br>\n",
        "First we split the data into training and testing with a ratio of 0.2."
      ]
    },
    {
      "cell_type": "code",
      "metadata": {
        "id": "Pt663kWK_a87",
        "colab_type": "code",
        "colab": {}
      },
      "source": [
        "X_train, X_test, y_train, y_test = sklearn.model_selection.train_test_split(X, y, test_size=0.2, random_state=42)"
      ],
      "execution_count": 0,
      "outputs": []
    },
    {
      "cell_type": "code",
      "metadata": {
        "id": "NFWO3H2L8wOL",
        "colab_type": "code",
        "outputId": "9a1abc1f-54ad-4de6-f302-cf3d75d68782",
        "colab": {
          "base_uri": "https://localhost:8080/",
          "height": 85
        }
      },
      "source": [
        "print(\"Size of X train:\", X_train.size)\n",
        "print(\"Size of X test:\", X_test.size)\n",
        "print(\"Size of y train:\", y_train.size)\n",
        "print(\"Size of y test:\", y_test.size)"
      ],
      "execution_count": 0,
      "outputs": [
        {
          "output_type": "stream",
          "text": [
            "Size of X train: 5252\n",
            "Size of X test: 1326\n",
            "Size of y train: 404\n",
            "Size of y test: 102\n"
          ],
          "name": "stdout"
        }
      ]
    },
    {
      "cell_type": "markdown",
      "metadata": {
        "id": "TU4Ht8d3aY57",
        "colab_type": "text"
      },
      "source": [
        "###Linear Regression Model\n",
        "\n",
        "Our models will be based on the linear regression model with squared errors.\n",
        "\n",
        "Consider the standard equation of a linear regression model $y = bx + a$, where $y$ is our variable of interest, $b$ is the weight assigned to each input x and $a$ is the intercept.\n",
        "\n",
        "In probabilistic terms, we reframe the model as follows: <br>\n",
        "Let the expected value $\\mu$ of our variable of interest $y$ be: $y = \\alpha + \\sum_{i=0}^{d}{\\beta_ix_i}$, <br>\n",
        "where $d$ is the dimension of the input $x$. <br>\n",
        "Now, we observed the distribution of our dependent variable $y$ which in this case is Normal. Note that $\\mu$ is also the mean of the distribution. \n",
        "\n",
        "So then,\n",
        "\n",
        "$ y \\sim \\mathcal{N}(\\mu, \\sigma^2) = \\mathcal{N}(\\alpha + \\sum_{i=0}^{d}{\\beta_ix_i}, \\sigma^2)$ \\\\\n",
        "\n",
        "It then suffices, that we need to find $\\alpha, \\beta$ and $\\sigma^2$ using their lilelihoods. \n",
        "\n",
        "For the MAP, we can further specify the prior distributions of these parameters but for the MLE, this information is not incorporated so they are uniformly distributed."
      ]
    },
    {
      "cell_type": "markdown",
      "metadata": {
        "id": "gt8WzX6TLkC1",
        "colab_type": "text"
      },
      "source": [
        "###MLE Model\n",
        "\n",
        "The MLE model is built using a MAP model but with uninformative Uniform priors"
      ]
    },
    {
      "cell_type": "code",
      "metadata": {
        "id": "BPx7M856JNK1",
        "colab_type": "code",
        "colab": {}
      },
      "source": [
        "mle_model = pm.Model()\n",
        "\n",
        "with mle_model:\n",
        "    # Priors for unknown model parameters\n",
        "    alpha = pm.Uniform('alpha', lower=-20, upper=20)\n",
        "    beta = pm.Uniform('beta', lower=-20, upper=20, shape=len(X_train.columns))\n",
        "    sigma = pm.Uniform('sigma', lower=0, upper=15)\n",
        "\n",
        "    # Expected value of outcome\n",
        "    mu = alpha\n",
        "    for i in range(len(X_train.columns)):\n",
        "        mu += beta[i] *  X_train.iloc[:, i].to_numpy()\n",
        "\n",
        "\n",
        "    # Likelihood (sampling distribution) of observations\n",
        "    y_obs = pm.Normal('y_obs', mu=mu, sigma=sigma, observed=y_train)"
      ],
      "execution_count": 0,
      "outputs": []
    },
    {
      "cell_type": "code",
      "metadata": {
        "id": "yW8WZNk6n97R",
        "colab_type": "code",
        "outputId": "d2c907fb-73e3-4446-84ee-0853c843256b",
        "colab": {
          "base_uri": "https://localhost:8080/",
          "height": 204
        }
      },
      "source": [
        "mle_estimate = pm.find_MAP(model=mle_model)\n",
        "mle_estimate"
      ],
      "execution_count": 0,
      "outputs": [
        {
          "output_type": "stream",
          "text": [
            "logp = -1,251.1, ||grad|| = 2,208.3: 100%|██████████| 3068/3068 [00:02<00:00, 1293.30it/s]\n"
          ],
          "name": "stderr"
        },
        {
          "output_type": "execute_result",
          "data": {
            "text/plain": [
              "{'alpha': array(18.6511),\n",
              " 'alpha_interval__': array(3.3553),\n",
              " 'beta': array([-1.0832e-01,  3.0972e-02,  5.0806e-02,  2.8463e+00, -1.4930e+01,\n",
              "         5.2073e+00, -5.4780e-03, -1.2915e+00,  2.1052e-01, -8.9348e-03,\n",
              "        -7.3875e-01,  1.4285e-02, -4.6649e-01]),\n",
              " 'beta_interval__': array([-1.0832e-02,  3.0972e-03,  5.0806e-03,  2.8657e-01, -1.9300e+00,\n",
              "         5.3299e-01, -5.4780e-04, -1.2933e-01,  2.1053e-02, -8.9348e-04,\n",
              "        -7.3909e-02,  1.4285e-03, -4.6657e-02]),\n",
              " 'sigma': array(4.7006),\n",
              " 'sigma_interval__': array(-0.7844)}"
            ]
          },
          "metadata": {
            "tags": []
          },
          "execution_count": 35
        }
      ]
    },
    {
      "cell_type": "markdown",
      "metadata": {
        "id": "pDwQ89vuPOxq",
        "colab_type": "text"
      },
      "source": [
        "### MAP Model\n",
        "\n",
        "The MAP model will be built with 0-mean Gaussians for the alpha and beta priors and a half normal for the sigma as it it cannot be negative"
      ]
    },
    {
      "cell_type": "code",
      "metadata": {
        "id": "tY06SrzVPNyu",
        "colab_type": "code",
        "colab": {}
      },
      "source": [
        "map_model = pm.Model()\n",
        "\n",
        "with map_model:\n",
        "    # Priors for unknown model parameters\n",
        "    alpha = pm.Normal('alpha', mu=0, sd=10)\n",
        "    beta = pm.Normal('beta', mu=0, sd=10, shape=len(X_train.columns))\n",
        "    sigma = pm.HalfNormal('sigma', sd=1)\n",
        "\n",
        "    # Expected value of outcome\n",
        "    mu = alpha\n",
        "    for i in range(len(X_train.columns)):\n",
        "        mu += beta[i] *  X_train.iloc[:, i].to_numpy()\n",
        "\n",
        "    # Likelihood (sampling distribution) of observations\n",
        "    y_obs = pm.Normal('y_obs', mu=mu, sigma=sigma, observed=y_train)"
      ],
      "execution_count": 0,
      "outputs": []
    },
    {
      "cell_type": "code",
      "metadata": {
        "id": "VUcCTg5PQ0Kh",
        "colab_type": "code",
        "outputId": "45b33dc8-dce8-4e93-e58d-64f083264be5",
        "colab": {
          "base_uri": "https://localhost:8080/",
          "height": 136
        }
      },
      "source": [
        "map_estimate = pm.find_MAP(model=map_model)\n",
        "map_estimate"
      ],
      "execution_count": 0,
      "outputs": [
        {
          "output_type": "stream",
          "text": [
            "logp = -1,255, ||grad|| = 4.4149: 100%|██████████| 1769/1769 [00:01<00:00, 1083.09it/s]\n"
          ],
          "name": "stderr"
        },
        {
          "output_type": "execute_result",
          "data": {
            "text/plain": [
              "{'alpha': array(19.8405),\n",
              " 'beta': array([-1.0825e-01,  3.1893e-02,  2.2408e-02,  2.8756e+00, -1.1194e+01,\n",
              "         4.9634e+00, -1.0219e-02, -1.3004e+00,  2.1876e-01, -9.8652e-03,\n",
              "        -7.5592e-01,  1.3730e-02, -4.8661e-01]),\n",
              " 'sigma': array(4.5556),\n",
              " 'sigma_log__': array(1.5164)}"
            ]
          },
          "metadata": {
            "tags": []
          },
          "execution_count": 37
        }
      ]
    },
    {
      "cell_type": "markdown",
      "metadata": {
        "id": "ZMdgaejkXGka",
        "colab_type": "text"
      },
      "source": [
        "### Model Evaluation\n",
        "We define methods to predict and evaluate the models using the squared loss"
      ]
    },
    {
      "cell_type": "code",
      "metadata": {
        "id": "0lEdEzzfGWPG",
        "colab_type": "code",
        "colab": {}
      },
      "source": [
        "def predict(estimates, x):\n",
        "    alpha = estimates['alpha']\n",
        "    beta = estimates['beta']\n",
        "    sigma = estimates['sigma']\n",
        "\n",
        "    return alpha + sum([beta[i] * x[i] for i in range(len(x))])\n",
        "\n",
        "def evaluate(estimates, X_test, y_test):\n",
        "    weights = np.copy(estimates['beta'])\n",
        "    weights = np.insert(weights, 0, estimates['alpha'], axis=0)\n",
        "    X = X_test.copy()\n",
        "    X.insert(0, 'Ones', 1)\n",
        "    X = X.to_numpy()\n",
        "    y_pred = np.dot(X, weights.T)\n",
        "\n",
        "    squared_error = ((y_test - y_pred) ** 2).mean()\n",
        "    return squared_error, y_pred\n"
      ],
      "execution_count": 0,
      "outputs": []
    },
    {
      "cell_type": "markdown",
      "metadata": {
        "id": "cpReCx8hXWER",
        "colab_type": "text"
      },
      "source": [
        "Let's compute the mean squared error of the predictions."
      ]
    },
    {
      "cell_type": "code",
      "metadata": {
        "id": "7tDWWUUmMXI7",
        "colab_type": "code",
        "outputId": "b87254e3-2edb-40bf-e5f8-350a4aaa4e77",
        "colab": {
          "base_uri": "https://localhost:8080/",
          "height": 51
        }
      },
      "source": [
        "error, y_mle = evaluate(mle_estimate, X_test, y_test)\n",
        "print(f\"MLE Sqaured Error: {error}\")\n",
        "error, y_map = evaluate(map_estimate, X_test, y_test)\n",
        "print(f\"MAP Sqaured Error: {error}\")"
      ],
      "execution_count": 0,
      "outputs": [
        {
          "output_type": "stream",
          "text": [
            "MLE Sqaured Error: 25.982671511031953\n",
            "MAP Sqaured Error: 25.42747447599459\n"
          ],
          "name": "stdout"
        }
      ]
    },
    {
      "cell_type": "markdown",
      "metadata": {
        "id": "dl68nBM1XzXt",
        "colab_type": "text"
      },
      "source": [
        "As we can see, the MAP model does better generally"
      ]
    },
    {
      "cell_type": "code",
      "metadata": {
        "id": "LCzN0DQUZNYe",
        "colab_type": "code",
        "outputId": "f5bb5add-22b9-41f1-c3be-994102af5a66",
        "colab": {
          "base_uri": "https://localhost:8080/",
          "height": 295
        }
      },
      "source": [
        "fig, ax = plt.subplots(1,3, figsize=(15,4))\n",
        "ax[0].hist(y_test, color='y')\n",
        "ax[1].hist(y_mle, label='MLE')\n",
        "ax[2].hist(y_map, color='g')\n",
        "ax[0].set_title('True Values')\n",
        "ax[0].set_xlabel('y')\n",
        "ax[0].set_ylabel('Count')\n",
        "ax[1].set_title('MLE')\n",
        "ax[1].set_xlabel('y')\n",
        "ax[1].set_ylabel('Count')\n",
        "ax[2].set_title('MAP')\n",
        "ax[2].set_xlabel('y')\n",
        "ax[2].set_ylabel('Count')\n",
        "plt.show()"
      ],
      "execution_count": 0,
      "outputs": [
        {
          "output_type": "display_data",
          "data": {
            "image/png": "[encoded data removed]",
            "text/plain": [
              "<Figure size 1080x288 with 3 Axes>"
            ]
          },
          "metadata": {
            "tags": [],
            "needs_background": "light"
          }
        }
      ]
    },
    {
      "cell_type": "markdown",
      "metadata": {
        "id": "r5fjFNtRtbn8",
        "colab_type": "text"
      },
      "source": [
        "## Problem 2: Bike Sharing Dataset"
      ]
    },
    {
      "cell_type": "markdown",
      "metadata": {
        "id": "HWI09B3d2BG5",
        "colab_type": "text"
      },
      "source": [
        "First, we load the dataset and do some exploratory data analysis"
      ]
    },
    {
      "cell_type": "code",
      "metadata": {
        "id": "P0yqrLE_1bvu",
        "colab_type": "code",
        "colab": {}
      },
      "source": [
        "#Path name to the data.csv\n",
        "filepath = \"https://raw.githubusercontent.com/jxlim89/CS5340/master/data/BikeSharing/hour.csv\"\n",
        "hour = pd.read_csv(filepath)"
      ],
      "execution_count": 0,
      "outputs": []
    },
    {
      "cell_type": "code",
      "metadata": {
        "id": "oUmX0xtF2H90",
        "colab_type": "code",
        "outputId": "13bc8936-3136-47da-875c-b2f4ef65debf",
        "colab": {
          "base_uri": "https://localhost:8080/",
          "height": 204
        }
      },
      "source": [
        "hour.head()"
      ],
      "execution_count": 0,
      "outputs": [
        {
          "output_type": "execute_result",
          "data": {
            "text/html": [
              "<div>\n",
              "<style scoped>\n",
              "    .dataframe tbody tr th:only-of-type {\n",
              "        vertical-align: middle;\n",
              "    }\n",
              "\n",
              "    .dataframe tbody tr th {\n",
              "        vertical-align: top;\n",
              "    }\n",
              "\n",
              "    .dataframe thead th {\n",
              "        text-align: right;\n",
              "    }\n",
              "</style>\n",
              "<table border=\"1\" class=\"dataframe\">\n",
              "  <thead>\n",
              "    <tr style=\"text-align: right;\">\n",
              "      <th></th>\n",
              "      <th>instant</th>\n",
              "      <th>dteday</th>\n",
              "      <th>season</th>\n",
              "      <th>yr</th>\n",
              "      <th>mnth</th>\n",
              "      <th>hr</th>\n",
              "      <th>holiday</th>\n",
              "      <th>weekday</th>\n",
              "      <th>workingday</th>\n",
              "      <th>weathersit</th>\n",
              "      <th>temp</th>\n",
              "      <th>atemp</th>\n",
              "      <th>hum</th>\n",
              "      <th>windspeed</th>\n",
              "      <th>casual</th>\n",
              "      <th>registered</th>\n",
              "      <th>cnt</th>\n",
              "    </tr>\n",
              "  </thead>\n",
              "  <tbody>\n",
              "    <tr>\n",
              "      <th>0</th>\n",
              "      <td>1</td>\n",
              "      <td>2011-01-01</td>\n",
              "      <td>1</td>\n",
              "      <td>0</td>\n",
              "      <td>1</td>\n",
              "      <td>0</td>\n",
              "      <td>0</td>\n",
              "      <td>6</td>\n",
              "      <td>0</td>\n",
              "      <td>1</td>\n",
              "      <td>0.24</td>\n",
              "      <td>0.2879</td>\n",
              "      <td>0.81</td>\n",
              "      <td>0.0</td>\n",
              "      <td>3</td>\n",
              "      <td>13</td>\n",
              "      <td>16</td>\n",
              "    </tr>\n",
              "    <tr>\n",
              "      <th>1</th>\n",
              "      <td>2</td>\n",
              "      <td>2011-01-01</td>\n",
              "      <td>1</td>\n",
              "      <td>0</td>\n",
              "      <td>1</td>\n",
              "      <td>1</td>\n",
              "      <td>0</td>\n",
              "      <td>6</td>\n",
              "      <td>0</td>\n",
              "      <td>1</td>\n",
              "      <td>0.22</td>\n",
              "      <td>0.2727</td>\n",
              "      <td>0.80</td>\n",
              "      <td>0.0</td>\n",
              "      <td>8</td>\n",
              "      <td>32</td>\n",
              "      <td>40</td>\n",
              "    </tr>\n",
              "    <tr>\n",
              "      <th>2</th>\n",
              "      <td>3</td>\n",
              "      <td>2011-01-01</td>\n",
              "      <td>1</td>\n",
              "      <td>0</td>\n",
              "      <td>1</td>\n",
              "      <td>2</td>\n",
              "      <td>0</td>\n",
              "      <td>6</td>\n",
              "      <td>0</td>\n",
              "      <td>1</td>\n",
              "      <td>0.22</td>\n",
              "      <td>0.2727</td>\n",
              "      <td>0.80</td>\n",
              "      <td>0.0</td>\n",
              "      <td>5</td>\n",
              "      <td>27</td>\n",
              "      <td>32</td>\n",
              "    </tr>\n",
              "    <tr>\n",
              "      <th>3</th>\n",
              "      <td>4</td>\n",
              "      <td>2011-01-01</td>\n",
              "      <td>1</td>\n",
              "      <td>0</td>\n",
              "      <td>1</td>\n",
              "      <td>3</td>\n",
              "      <td>0</td>\n",
              "      <td>6</td>\n",
              "      <td>0</td>\n",
              "      <td>1</td>\n",
              "      <td>0.24</td>\n",
              "      <td>0.2879</td>\n",
              "      <td>0.75</td>\n",
              "      <td>0.0</td>\n",
              "      <td>3</td>\n",
              "      <td>10</td>\n",
              "      <td>13</td>\n",
              "    </tr>\n",
              "    <tr>\n",
              "      <th>4</th>\n",
              "      <td>5</td>\n",
              "      <td>2011-01-01</td>\n",
              "      <td>1</td>\n",
              "      <td>0</td>\n",
              "      <td>1</td>\n",
              "      <td>4</td>\n",
              "      <td>0</td>\n",
              "      <td>6</td>\n",
              "      <td>0</td>\n",
              "      <td>1</td>\n",
              "      <td>0.24</td>\n",
              "      <td>0.2879</td>\n",
              "      <td>0.75</td>\n",
              "      <td>0.0</td>\n",
              "      <td>0</td>\n",
              "      <td>1</td>\n",
              "      <td>1</td>\n",
              "    </tr>\n",
              "  </tbody>\n",
              "</table>\n",
              "</div>"
            ],
            "text/plain": [
              "   instant      dteday  season  yr  ...  windspeed  casual  registered  cnt\n",
              "0        1  2011-01-01       1   0  ...        0.0       3          13   16\n",
              "1        2  2011-01-01       1   0  ...        0.0       8          32   40\n",
              "2        3  2011-01-01       1   0  ...        0.0       5          27   32\n",
              "3        4  2011-01-01       1   0  ...        0.0       3          10   13\n",
              "4        5  2011-01-01       1   0  ...        0.0       0           1    1\n",
              "\n",
              "[5 rows x 17 columns]"
            ]
          },
          "metadata": {
            "tags": []
          },
          "execution_count": 51
        }
      ]
    },
    {
      "cell_type": "code",
      "metadata": {
        "id": "rH2GOBVT2Jum",
        "colab_type": "code",
        "outputId": "0a9d7cff-f77f-4ea7-bd2a-e16a7181506f",
        "colab": {
          "base_uri": "https://localhost:8080/",
          "height": 295
        }
      },
      "source": [
        "#check the distribution of the data.\n",
        "plt.hist(hour.cnt, bins=50, density=True)\n",
        "plt.xlabel('No. of rental bikes')\n",
        "plt.ylabel('Count')\n",
        "plt.title('Distribution of Rental Bikes')\n",
        "plt.show()"
      ],
      "execution_count": 0,
      "outputs": [
        {
          "output_type": "display_data",
          "data": {
            "image/png": "[encoded data removed]",
            "text/plain": [
              "<Figure size 432x288 with 1 Axes>"
            ]
          },
          "metadata": {
            "tags": [],
            "needs_background": "light"
          }
        }
      ]
    },
    {
      "cell_type": "code",
      "metadata": {
        "id": "OzSPbsGt2Rw1",
        "colab_type": "code",
        "outputId": "8b01a181-e5cb-45f7-c95d-080f8b307b63",
        "colab": {
          "base_uri": "https://localhost:8080/",
          "height": 367
        }
      },
      "source": [
        "#Plot the number of rented bikes between this 2 years. Overall is still increasing\n",
        "fig, axes = plt.subplots(1, 1, sharex=False, figsize=(10,5))\n",
        "\n",
        "axes.plot(hour.instant, hour.cnt)\n",
        "axes.set_ylabel('No. of rental bikes')\n",
        "axes.set_xlabel('Hours (for 2 years)')\n",
        "axes.set_title('Temporal Distribution of Rental Bikes')"
      ],
      "execution_count": 0,
      "outputs": [
        {
          "output_type": "execute_result",
          "data": {
            "text/plain": [
              "Text(0.5, 1.0, 'Temporal Distribution of Rental Bikes')"
            ]
          },
          "metadata": {
            "tags": []
          },
          "execution_count": 55
        },
        {
          "output_type": "display_data",
          "data": {
            "image/png": "[encoded data removed]",
            "text/plain": [
              "<Figure size 720x360 with 1 Axes>"
            ]
          },
          "metadata": {
            "tags": [],
            "needs_background": "light"
          }
        }
      ]
    },
    {
      "cell_type": "markdown",
      "metadata": {
        "id": "EC-0Wh8H24vt",
        "colab_type": "text"
      },
      "source": [
        "Now we build the models."
      ]
    },
    {
      "cell_type": "code",
      "metadata": {
        "id": "HfXk8Ov02Tpk",
        "colab_type": "code",
        "outputId": "23251d66-781a-42b6-81a0-fe3b202f572c",
        "colab": {
          "base_uri": "https://localhost:8080/",
          "height": 51
        }
      },
      "source": [
        "#Split data here\n",
        "train, test = train_test_split(hour, test_size=0.2, random_state=42)\n",
        "\n",
        "#sort them in ascending order to maintain the temporal order\n",
        "train = train.sort_index()\n",
        "test = test.sort_index()\n",
        "\n",
        "print(train.shape)\n",
        "print(test.shape)"
      ],
      "execution_count": 0,
      "outputs": [
        {
          "output_type": "stream",
          "text": [
            "(13903, 17)\n",
            "(3476, 17)\n"
          ],
          "name": "stdout"
        }
      ]
    },
    {
      "cell_type": "code",
      "metadata": {
        "id": "vVm687Gj2bKp",
        "colab_type": "code",
        "outputId": "815ed05f-a66a-4e96-8071-edd36e8d1df6",
        "colab": {
          "base_uri": "https://localhost:8080/",
          "height": 337
        }
      },
      "source": [
        "#Check the distribution of the train and test set\n",
        "fig, axes = plt.subplots(1, 2, sharex=False, figsize=(15,5))\n",
        "axes[0].hist(train.cnt, bins=50, density=True, label = 'Train')\n",
        "axes[1].hist(test.cnt, bins=50, density=True, label = 'Test')\n",
        "axes[0].legend()\n",
        "axes[1].legend()"
      ],
      "execution_count": 0,
      "outputs": [
        {
          "output_type": "execute_result",
          "data": {
            "text/plain": [
              "<matplotlib.legend.Legend at 0x7fad848d7940>"
            ]
          },
          "metadata": {
            "tags": []
          },
          "execution_count": 58
        },
        {
          "output_type": "display_data",
          "data": {
            "image/png": "[encoded data removed]",
            "text/plain": [
              "<Figure size 1080x360 with 2 Axes>"
            ]
          },
          "metadata": {
            "tags": [],
            "needs_background": "light"
          }
        }
      ]
    },
    {
      "cell_type": "markdown",
      "metadata": {
        "id": "qzsnLAtG2hgJ",
        "colab_type": "text"
      },
      "source": [
        "### Poisson Regression Model\n",
        "\n",
        "Data seems to have a Poisson distribution. As it is base on the event of the number of bike rental per hour for the period of 2 years. To keep things simple we will be using a linear model for the prediction. We will be using the Poisson regression model\n",
        "https://en.wikipedia.org/wiki/Poisson_regression<br>\n",
        "$$\n",
        "\\mu = exp(x\\theta)\n",
        "$$\n",
        "We shall use the Poisson Distribution to model the likelyhood. The Poisson distribution is given by https://en.wikipedia.org/wiki/Poisson_distribution:\n",
        "$$\n",
        "Pr(X=x|\\mu) = Pois(\\mu) = \\frac{\\mu^{x} e^{-\\mu}}{x!}\n",
        "$$\n",
        "Estimation of the parameter theta by using loglikely hood (MLE), \n",
        "$$\n",
        "LL(\\theta) = \\sum \\big(xlog(\\mu) - \\mu\\big)\n",
        "$$\n",
        "\n",
        "Since the data consists of some temporal variables like year, mnth, weekday and hr. We will only use them in our model <br>\n",
        "$$\n",
        "\\mu =  exp(year*\\theta_0+ mnth*\\theta_1 + weekday*\\theta_2 + hr*\\theta_3)\n",
        "$$"
      ]
    },
    {
      "cell_type": "code",
      "metadata": {
        "id": "gV6ECTp_2coF",
        "colab_type": "code",
        "outputId": "4dcb14fc-4fa7-4299-ed21-892c330c822a",
        "colab": {
          "base_uri": "https://localhost:8080/",
          "height": 317
        }
      },
      "source": [
        "train.describe()"
      ],
      "execution_count": 0,
      "outputs": [
        {
          "output_type": "execute_result",
          "data": {
            "text/html": [
              "<div>\n",
              "<style scoped>\n",
              "    .dataframe tbody tr th:only-of-type {\n",
              "        vertical-align: middle;\n",
              "    }\n",
              "\n",
              "    .dataframe tbody tr th {\n",
              "        vertical-align: top;\n",
              "    }\n",
              "\n",
              "    .dataframe thead th {\n",
              "        text-align: right;\n",
              "    }\n",
              "</style>\n",
              "<table border=\"1\" class=\"dataframe\">\n",
              "  <thead>\n",
              "    <tr style=\"text-align: right;\">\n",
              "      <th></th>\n",
              "      <th>instant</th>\n",
              "      <th>season</th>\n",
              "      <th>yr</th>\n",
              "      <th>mnth</th>\n",
              "      <th>hr</th>\n",
              "      <th>holiday</th>\n",
              "      <th>weekday</th>\n",
              "      <th>workingday</th>\n",
              "      <th>weathersit</th>\n",
              "      <th>temp</th>\n",
              "      <th>atemp</th>\n",
              "      <th>hum</th>\n",
              "      <th>windspeed</th>\n",
              "      <th>casual</th>\n",
              "      <th>registered</th>\n",
              "      <th>cnt</th>\n",
              "    </tr>\n",
              "  </thead>\n",
              "  <tbody>\n",
              "    <tr>\n",
              "      <th>count</th>\n",
              "      <td>13903.000000</td>\n",
              "      <td>13903.000000</td>\n",
              "      <td>13903.000000</td>\n",
              "      <td>13903.000000</td>\n",
              "      <td>13903.000000</td>\n",
              "      <td>13903.000000</td>\n",
              "      <td>13903.000000</td>\n",
              "      <td>13903.000000</td>\n",
              "      <td>13903.000000</td>\n",
              "      <td>13903.000000</td>\n",
              "      <td>13903.000000</td>\n",
              "      <td>13903.000000</td>\n",
              "      <td>13903.000000</td>\n",
              "      <td>13903.000000</td>\n",
              "      <td>13903.000000</td>\n",
              "      <td>13903.000000</td>\n",
              "    </tr>\n",
              "    <tr>\n",
              "      <th>mean</th>\n",
              "      <td>8697.040135</td>\n",
              "      <td>2.509243</td>\n",
              "      <td>0.502050</td>\n",
              "      <td>6.552974</td>\n",
              "      <td>11.557146</td>\n",
              "      <td>0.028699</td>\n",
              "      <td>2.998202</td>\n",
              "      <td>0.679566</td>\n",
              "      <td>1.426023</td>\n",
              "      <td>0.497396</td>\n",
              "      <td>0.476183</td>\n",
              "      <td>0.627011</td>\n",
              "      <td>0.189822</td>\n",
              "      <td>36.002374</td>\n",
              "      <td>154.574696</td>\n",
              "      <td>190.577070</td>\n",
              "    </tr>\n",
              "    <tr>\n",
              "      <th>std</th>\n",
              "      <td>5024.565656</td>\n",
              "      <td>1.106817</td>\n",
              "      <td>0.500014</td>\n",
              "      <td>3.436925</td>\n",
              "      <td>6.911927</td>\n",
              "      <td>0.166965</td>\n",
              "      <td>2.011350</td>\n",
              "      <td>0.466660</td>\n",
              "      <td>0.638842</td>\n",
              "      <td>0.193017</td>\n",
              "      <td>0.172308</td>\n",
              "      <td>0.192801</td>\n",
              "      <td>0.122293</td>\n",
              "      <td>49.636195</td>\n",
              "      <td>152.035090</td>\n",
              "      <td>182.220507</td>\n",
              "    </tr>\n",
              "    <tr>\n",
              "      <th>min</th>\n",
              "      <td>1.000000</td>\n",
              "      <td>1.000000</td>\n",
              "      <td>0.000000</td>\n",
              "      <td>1.000000</td>\n",
              "      <td>0.000000</td>\n",
              "      <td>0.000000</td>\n",
              "      <td>0.000000</td>\n",
              "      <td>0.000000</td>\n",
              "      <td>1.000000</td>\n",
              "      <td>0.020000</td>\n",
              "      <td>0.000000</td>\n",
              "      <td>0.000000</td>\n",
              "      <td>0.000000</td>\n",
              "      <td>0.000000</td>\n",
              "      <td>0.000000</td>\n",
              "      <td>1.000000</td>\n",
              "    </tr>\n",
              "    <tr>\n",
              "      <th>25%</th>\n",
              "      <td>4355.500000</td>\n",
              "      <td>2.000000</td>\n",
              "      <td>0.000000</td>\n",
              "      <td>4.000000</td>\n",
              "      <td>6.000000</td>\n",
              "      <td>0.000000</td>\n",
              "      <td>1.000000</td>\n",
              "      <td>0.000000</td>\n",
              "      <td>1.000000</td>\n",
              "      <td>0.340000</td>\n",
              "      <td>0.333300</td>\n",
              "      <td>0.470000</td>\n",
              "      <td>0.104500</td>\n",
              "      <td>4.000000</td>\n",
              "      <td>34.000000</td>\n",
              "      <td>39.000000</td>\n",
              "    </tr>\n",
              "    <tr>\n",
              "      <th>50%</th>\n",
              "      <td>8677.000000</td>\n",
              "      <td>3.000000</td>\n",
              "      <td>1.000000</td>\n",
              "      <td>7.000000</td>\n",
              "      <td>12.000000</td>\n",
              "      <td>0.000000</td>\n",
              "      <td>3.000000</td>\n",
              "      <td>1.000000</td>\n",
              "      <td>1.000000</td>\n",
              "      <td>0.500000</td>\n",
              "      <td>0.484800</td>\n",
              "      <td>0.630000</td>\n",
              "      <td>0.164200</td>\n",
              "      <td>17.000000</td>\n",
              "      <td>116.000000</td>\n",
              "      <td>143.000000</td>\n",
              "    </tr>\n",
              "    <tr>\n",
              "      <th>75%</th>\n",
              "      <td>13077.500000</td>\n",
              "      <td>3.000000</td>\n",
              "      <td>1.000000</td>\n",
              "      <td>10.000000</td>\n",
              "      <td>18.000000</td>\n",
              "      <td>0.000000</td>\n",
              "      <td>5.000000</td>\n",
              "      <td>1.000000</td>\n",
              "      <td>2.000000</td>\n",
              "      <td>0.660000</td>\n",
              "      <td>0.621200</td>\n",
              "      <td>0.780000</td>\n",
              "      <td>0.253700</td>\n",
              "      <td>49.000000</td>\n",
              "      <td>221.500000</td>\n",
              "      <td>282.000000</td>\n",
              "    </tr>\n",
              "    <tr>\n",
              "      <th>max</th>\n",
              "      <td>17379.000000</td>\n",
              "      <td>4.000000</td>\n",
              "      <td>1.000000</td>\n",
              "      <td>12.000000</td>\n",
              "      <td>23.000000</td>\n",
              "      <td>1.000000</td>\n",
              "      <td>6.000000</td>\n",
              "      <td>1.000000</td>\n",
              "      <td>4.000000</td>\n",
              "      <td>1.000000</td>\n",
              "      <td>1.000000</td>\n",
              "      <td>1.000000</td>\n",
              "      <td>0.850700</td>\n",
              "      <td>367.000000</td>\n",
              "      <td>885.000000</td>\n",
              "      <td>976.000000</td>\n",
              "    </tr>\n",
              "  </tbody>\n",
              "</table>\n",
              "</div>"
            ],
            "text/plain": [
              "            instant        season  ...    registered           cnt\n",
              "count  13903.000000  13903.000000  ...  13903.000000  13903.000000\n",
              "mean    8697.040135      2.509243  ...    154.574696    190.577070\n",
              "std     5024.565656      1.106817  ...    152.035090    182.220507\n",
              "min        1.000000      1.000000  ...      0.000000      1.000000\n",
              "25%     4355.500000      2.000000  ...     34.000000     39.000000\n",
              "50%     8677.000000      3.000000  ...    116.000000    143.000000\n",
              "75%    13077.500000      3.000000  ...    221.500000    282.000000\n",
              "max    17379.000000      4.000000  ...    885.000000    976.000000\n",
              "\n",
              "[8 rows x 16 columns]"
            ]
          },
          "metadata": {
            "tags": []
          },
          "execution_count": 59
        }
      ]
    },
    {
      "cell_type": "code",
      "metadata": {
        "id": "8pZ-9Bkj24Z3",
        "colab_type": "code",
        "outputId": "743c6352-0c43-472a-e163-7a4f48d55798",
        "colab": {
          "base_uri": "https://localhost:8080/",
          "height": 34
        }
      },
      "source": [
        "train.iloc[1,16]"
      ],
      "execution_count": 0,
      "outputs": [
        {
          "output_type": "execute_result",
          "data": {
            "text/plain": [
              "40"
            ]
          },
          "metadata": {
            "tags": []
          },
          "execution_count": 64
        }
      ]
    },
    {
      "cell_type": "markdown",
      "metadata": {
        "id": "pIj6s10H3Hfd",
        "colab_type": "text"
      },
      "source": [
        "### MLE Model"
      ]
    },
    {
      "cell_type": "code",
      "metadata": {
        "id": "f3LxCBkr3YeG",
        "colab_type": "code",
        "colab": {}
      },
      "source": [
        "# functions for the negative log likely hood and Prediction.\n",
        "def negloglike(theta, cnt, year, mth, day, hr):\n",
        "    mu = np.exp(theta[0]+theta[1]*year + theta[2]*mth+ theta[3]*day+ theta[4]*hr)\n",
        "    nll= -sum(cnt*(np.log(mu)) - mu)\n",
        "    return nll\n",
        "def predict_cnt(theta, year, mth, day, hr):\n",
        "    estimated_cnt = np.exp(theta[0] + theta[1]*year+ theta[2]*mth+ theta[3]*day+theta[4]*hr)\n",
        "    return estimated_cnt"
      ],
      "execution_count": 0,
      "outputs": []
    },
    {
      "cell_type": "code",
      "metadata": {
        "id": "farIBesm3ebt",
        "colab_type": "code",
        "outputId": "01437de6-18b0-422b-f70e-8ae58b9862d0",
        "colab": {
          "base_uri": "https://localhost:8080/",
          "height": 272
        }
      },
      "source": [
        "#Set a high number to allow the optimizer to minimize successfully\n",
        "maxNumberIters =  train.cnt.count()*1000\n",
        "print(maxNumberIters)\n",
        "\n",
        "#Using an off-the-shelve optimizer similar to those used in lecture\n",
        "params_MLE = optimize.minimize(negloglike,np.array([0,0,0,0,0]), args=(train.cnt,train.yr,train.mnth,train.weekday, train.hr), options={'maxiter': maxNumberIters}, method='Nelder-Mead')\n",
        "print(params_MLE)"
      ],
      "execution_count": 0,
      "outputs": [
        {
          "output_type": "stream",
          "text": [
            "13903000\n",
            " final_simplex: (array([[3.9568, 0.506 , 0.0363, 0.0126, 0.0563],\n",
            "       [3.9568, 0.506 , 0.0363, 0.0126, 0.0563],\n",
            "       [3.9568, 0.506 , 0.0363, 0.0126, 0.0563],\n",
            "       [3.9568, 0.506 , 0.0363, 0.0126, 0.0563],\n",
            "       [3.9568, 0.506 , 0.0363, 0.0126, 0.0563],\n",
            "       [3.9568, 0.506 , 0.0363, 0.0126, 0.0563]]), array([-11553173.0979, -11553173.0979, -11553173.0978, -11553173.0978,\n",
            "       -11553173.0978, -11553173.0978]))\n",
            "           fun: -11553173.097859707\n",
            "       message: 'Optimization terminated successfully.'\n",
            "          nfev: 1160\n",
            "           nit: 723\n",
            "        status: 0\n",
            "       success: True\n",
            "             x: array([3.9568, 0.506 , 0.0363, 0.0126, 0.0563])\n"
          ],
          "name": "stdout"
        }
      ]
    },
    {
      "cell_type": "code",
      "metadata": {
        "id": "-xnFUYVo4BdT",
        "colab_type": "code",
        "outputId": "1d66a28a-2010-44b6-f890-0ae27e0c0fd8",
        "colab": {
          "base_uri": "https://localhost:8080/",
          "height": 265
        }
      },
      "source": [
        "predictionMLE_cnt = predict_cnt(params_MLE.x, test.yr,test.mnth, test.weekday, test.hr)\n",
        "\n",
        "#print(predictionMLE_cnt)\n",
        "#Prediction looks like the gamma distribution\n",
        "plt.hist(predictionMLE_cnt, bins=50, density=True)\n",
        "plt.show()"
      ],
      "execution_count": 0,
      "outputs": [
        {
          "output_type": "display_data",
          "data": {
            "image/png": "[encoded data removed]",
            "text/plain": [
              "<Figure size 432x288 with 1 Axes>"
            ]
          },
          "metadata": {
            "tags": [],
            "needs_background": "light"
          }
        }
      ]
    },
    {
      "cell_type": "markdown",
      "metadata": {
        "id": "qRigxPdl4Nud",
        "colab_type": "text"
      },
      "source": [
        "### MAP Model\n",
        "\n",
        "For MAP, we will need to calculate the posterior. We will be using gamma as the congugate prior for the Poisson distribution.\n",
        "Hence, the posterior will also be a Gamma distribution\n",
        "$$\n",
        "Pr(\\mu|X) = Pr(X|\\mu) Pr(\\mu) = Pois(\\mu)*Gamma(\\alpha,\\beta) =\\frac{\\mu^{x} e^{-\\mu}}{x!} \\frac{\\beta^{\\alpha}\\mu^{\\alpha-1}e^{-\\beta \\mu}}{\\Gamma(\\alpha)}\n",
        "$$\n",
        "$$\n",
        "                                    \\propto \\mu^{x} e^{-\\mu} \\mu^{\\alpha-1}e^{-\\beta \\mu}\\\\\n",
        "                                    \\propto \\mu^{x+\\alpha - 1} e^{-\\mu(\\beta+1)}\n",
        "$$\n",
        "The updated gamma parameters are as:\n",
        "$$\n",
        " Gamma(\\alpha + x, \\beta - \\mu)\n",
        "$$\n",
        "Now maximize the log MAP:\n",
        "$$\n",
        "LL(\\theta) = \\sum \\big((x+\\alpha-1).log(\\mu) -\\mu \\beta - \\mu \\big)\n",
        "$$"
      ]
    },
    {
      "cell_type": "code",
      "metadata": {
        "id": "dM4kTo1G4UVW",
        "colab_type": "code",
        "colab": {}
      },
      "source": [
        "# using an optimizer\n",
        "def neglogpost(theta,cnt, year, mth, day, hr,a,b):\n",
        "    mu = np.exp(theta[0]+theta[1]*year + theta[2]*mth+ theta[3]*day+ theta[4]*hr)\n",
        "    \n",
        "    nlpost= -sum((cnt+a-1)*np.log(mu) - mu*b -mu)\n",
        "    return nlpost"
      ],
      "execution_count": 0,
      "outputs": []
    },
    {
      "cell_type": "markdown",
      "metadata": {
        "id": "XNoirkUg4bT-",
        "colab_type": "text"
      },
      "source": [
        "\n",
        "The alpha and beta parameters of the gamma distribution is calculated by fitting a gamma distribution over the training data. https://en.wikipedia.org/wiki/Gamma_distribution"
      ]
    },
    {
      "cell_type": "code",
      "metadata": {
        "id": "L6QoU10l4dY2",
        "colab_type": "code",
        "outputId": "0adeb23c-fc80-4a20-9986-72c975bdc41f",
        "colab": {
          "base_uri": "https://localhost:8080/",
          "height": 332
        }
      },
      "source": [
        "shape, loc, scale = stats.gamma.fit(train.cnt, floc=0)\n",
        "print(shape, loc, scale)\n",
        "x = np.linspace(0,300,1000)\n",
        "y = stats.gamma.pdf(x, shape, loc, scale)\n",
        "plt.title('Fitted Gamma')\n",
        "plt.plot(x, y)\n",
        "plt.show()\n",
        "\n",
        "alphag = shape\n",
        "betag = 1/scale\n",
        "print(alphag)\n",
        "print(betag)"
      ],
      "execution_count": 0,
      "outputs": [
        {
          "output_type": "stream",
          "text": [
            "0.830845944586797 0 229.3771437880304\n"
          ],
          "name": "stdout"
        },
        {
          "output_type": "display_data",
          "data": {
            "image/png": "[encoded data removed]",
            "text/plain": [
              "<Figure size 432x288 with 1 Axes>"
            ]
          },
          "metadata": {
            "tags": [],
            "needs_background": "light"
          }
        },
        {
          "output_type": "stream",
          "text": [
            "0.830845944586797\n",
            "0.004359632278463235\n"
          ],
          "name": "stdout"
        }
      ]
    },
    {
      "cell_type": "code",
      "metadata": {
        "id": "nrLAX7Lk4qPI",
        "colab_type": "code",
        "outputId": "04942f14-919c-4141-e941-bc121e015f50",
        "colab": {
          "base_uri": "https://localhost:8080/",
          "height": 255
        }
      },
      "source": [
        "#Use off-the-shelf optimizer to retrieve the parameters value\n",
        "params_MAP = optimize.minimize(neglogpost,np.array([0,0,0,0,0]), args=(train.cnt, train.yr, train.mnth, train.weekday, train.hr, alphag,betag),options={'maxiter': maxNumberIters}, method='Nelder-Mead')\n",
        "\n",
        "print(params_MAP)"
      ],
      "execution_count": 0,
      "outputs": [
        {
          "output_type": "stream",
          "text": [
            " final_simplex: (array([[3.9503, 0.5065, 0.0363, 0.0126, 0.0564],\n",
            "       [3.9503, 0.5065, 0.0363, 0.0126, 0.0563],\n",
            "       [3.9503, 0.5065, 0.0363, 0.0126, 0.0563],\n",
            "       [3.9503, 0.5064, 0.0363, 0.0126, 0.0563],\n",
            "       [3.9503, 0.5065, 0.0363, 0.0126, 0.0563],\n",
            "       [3.9503, 0.5064, 0.0363, 0.0126, 0.0563]]), array([-11529577.8137, -11529577.8137, -11529577.8136, -11529577.8136,\n",
            "       -11529577.8136, -11529577.8136]))\n",
            "           fun: -11529577.813669205\n",
            "       message: 'Optimization terminated successfully.'\n",
            "          nfev: 1344\n",
            "           nit: 830\n",
            "        status: 0\n",
            "       success: True\n",
            "             x: array([3.9503, 0.5065, 0.0363, 0.0126, 0.0564])\n"
          ],
          "name": "stdout"
        }
      ]
    },
    {
      "cell_type": "code",
      "metadata": {
        "id": "QypfhPjH41gH",
        "colab_type": "code",
        "outputId": "43aba035-11c5-46bc-eeba-5babfddc6b8e",
        "colab": {
          "base_uri": "https://localhost:8080/",
          "height": 265
        }
      },
      "source": [
        "predictionMAP_cnt = predict_cnt(params_MAP.x, test.yr,test.mnth, test.weekday, test.hr)\n",
        "\n",
        "#print(predictionMAP_cnt)\n",
        "#Prediction looks like the gamma distribution too\n",
        "plt.hist(predictionMAP_cnt, bins=50, density=True)\n",
        "plt.show()"
      ],
      "execution_count": 0,
      "outputs": [
        {
          "output_type": "display_data",
          "data": {
            "image/png": "[encoded data removed]",
            "text/plain": [
              "<Figure size 432x288 with 1 Axes>"
            ]
          },
          "metadata": {
            "tags": [],
            "needs_background": "light"
          }
        }
      ]
    },
    {
      "cell_type": "markdown",
      "metadata": {
        "id": "hpEnpnlp3T5n",
        "colab_type": "text"
      },
      "source": [
        "### Model Evaluation\n",
        "\n",
        "Compare the MLE and MAP predictions."
      ]
    },
    {
      "cell_type": "code",
      "metadata": {
        "id": "XfJiRTU95OVW",
        "colab_type": "code",
        "outputId": "820c153c-1fa7-4f90-d392-48d1094a51bd",
        "colab": {
          "base_uri": "https://localhost:8080/",
          "height": 51
        }
      },
      "source": [
        "#Calculate the Mean Square Error\n",
        "mu_mle = params_MLE\n",
        "mu_map = params_MAP\n",
        "\n",
        "y = np.arange(0,  200)\n",
        "\n",
        "print(\"MLE MSE error: \",mean_squared_error(test.cnt, predictionMLE_cnt))\n",
        "print(\"MAP MSE error: \",mean_squared_error(test.cnt, predictionMAP_cnt))"
      ],
      "execution_count": 0,
      "outputs": [
        {
          "output_type": "stream",
          "text": [
            "MLE MSE error:  26717.269774374276\n",
            "MAP MSE error:  26695.290537743673\n"
          ],
          "name": "stdout"
        }
      ]
    },
    {
      "cell_type": "code",
      "metadata": {
        "id": "uswQ9B5C9Air",
        "colab_type": "code",
        "outputId": "a6627810-1470-4b80-9f20-5c0bedfe55d2",
        "colab": {
          "base_uri": "https://localhost:8080/",
          "height": 295
        }
      },
      "source": [
        "fig, ax = plt.subplots(1,3, figsize=(15,4))\n",
        "ax[0].hist(test.cnt, color='y')\n",
        "ax[1].hist(predictionMLE_cnt, label='MLE')\n",
        "ax[2].hist(predictionMAP_cnt, color='g')\n",
        "ax[0].set_title('True Values')\n",
        "ax[0].set_xlabel('No. of rental bikes')\n",
        "ax[0].set_ylabel('Count')\n",
        "ax[1].set_title('MLE')\n",
        "ax[1].set_xlabel('No. of rental bikes')\n",
        "ax[1].set_ylabel('Count')\n",
        "ax[2].set_title('MAP')\n",
        "ax[2].set_xlabel('No. of rental bikes')\n",
        "ax[2].set_ylabel('Count')\n",
        "plt.show()"
      ],
      "execution_count": 0,
      "outputs": [
        {
          "output_type": "display_data",
          "data": {
            "image/png": "[encoded data removed]",
            "text/plain": [
              "<Figure size 1080x288 with 3 Axes>"
            ]
          },
          "metadata": {
            "tags": [],
            "needs_background": "light"
          }
        }
      ]
    },
    {
      "cell_type": "markdown",
      "metadata": {
        "id": "qWjz9tmr5jpz",
        "colab_type": "text"
      },
      "source": [
        "We could see that the MAP predictions are a bit better than the MLE predictions, we assumed its the gamma prior that helps the data to fit better. As there are quite a large number of samples used, the MAP predictions are quite similar to the MLE predictions too<br>\n",
        "\n",
        "Overall, the results aligned with our analysis.\n",
        "\n",
        "(*Ignore the large error as we used a simpler model (lesser features incorporated) for a complex dataset , the key point we are studying is the difference between the MLE and MAP predictions*)\n"
      ]
    },
    {
      "cell_type": "code",
      "metadata": {
        "id": "2Ck8IhRIVU_k",
        "colab_type": "code",
        "colab": {}
      },
      "source": [
        ""
      ],
      "execution_count": 0,
      "outputs": []
    }
  ]
}