{
  "nbformat": 4,
  "nbformat_minor": 0,
  "metadata": {
    "kernelspec": {
      "display_name": "Python 3",
      "language": "python",
      "name": "python3"
    },
    "language_info": {
      "codemirror_mode": {
        "name": "ipython",
        "version": 3
      },
      "file_extension": ".py",
      "mimetype": "text/x-python",
      "name": "python",
      "nbconvert_exporter": "python",
      "pygments_lexer": "ipython3",
      "version": "3.7.6"
    },
    "colab": {
      "name": "data_exploration.ipynb",
      "provenance": [],
      "collapsed_sections": [],
      "toc_visible": true
    }
  },
  "cells": [
    {
      "cell_type": "markdown",
      "metadata": {
        "id": "5mIMCjaEpvGM",
        "colab_type": "text"
      },
      "source": [
        "#**Mount google drive with the .csv data**"
      ]
    },
    {
      "cell_type": "code",
      "metadata": {
        "id": "UTVLUTCzpjY8",
        "colab_type": "code",
        "outputId": "27a618bf-c0ea-4687-8637-5687fb915939",
        "colab": {
          "base_uri": "https://localhost:8080/",
          "height": 122
        }
      },
      "source": [
        "from google.colab import drive\n",
        "drive.mount('/content/gdrive')"
      ],
      "execution_count": 0,
      "outputs": [
        {
          "output_type": "stream",
          "text": [
            "Go to this URL in a browser: https://accounts.google.com/o/oauth2/auth?client_id=947318989803-6bn6qk8qdgf4n4g3pfee6491hc0brc4i.apps.googleusercontent.com&redirect_uri=urn%3aietf%3awg%3aoauth%3a2.0%3aoob&response_type=code&scope=email%20https%3a%2f%2fwww.googleapis.com%2fauth%2fdocs.test%20https%3a%2f%2fwww.googleapis.com%2fauth%2fdrive%20https%3a%2f%2fwww.googleapis.com%2fauth%2fdrive.photos.readonly%20https%3a%2f%2fwww.googleapis.com%2fauth%2fpeopleapi.readonly\n",
            "\n",
            "Enter your authorization code:\n",
            "··········\n",
            "Mounted at /content/gdrive\n"
          ],
          "name": "stdout"
        }
      ]
    },
    {
      "cell_type": "code",
      "metadata": {
        "id": "U7xP0KA7oru8",
        "colab_type": "code",
        "outputId": "a41b94c9-b2d8-4a0c-807c-c6005c187ff2",
        "colab": {
          "base_uri": "https://localhost:8080/",
          "height": 71
        }
      },
      "source": [
        "import pandas as pd\n",
        "import matplotlib.pyplot as plt\n",
        "\n",
        "from scipy import optimize\n",
        "\n",
        "from numpy import log, exp\n",
        "import numpy as np\n",
        "\n",
        "import scipy.stats as stats\n",
        "import statsmodels.formula.api as smf\n",
        "import statsmodels as sm\n",
        "import pymc3 as pm\n",
        "from sklearn.model_selection import train_test_split\n",
        "from sklearn.metrics import mean_squared_error"
      ],
      "execution_count": 0,
      "outputs": [
        {
          "output_type": "stream",
          "text": [
            "/usr/local/lib/python3.6/dist-packages/statsmodels/tools/_testing.py:19: FutureWarning: pandas.util.testing is deprecated. Use the functions in the public API at pandas.testing instead.\n",
            "  import pandas.util.testing as tm\n"
          ],
          "name": "stderr"
        }
      ]
    },
    {
      "cell_type": "markdown",
      "metadata": {
        "id": "7m0T1XTzorvE",
        "colab_type": "text"
      },
      "source": [
        "# **Most of the work done here is reference from**: <br>\n",
        "https://www.analyticsvidhya.com/blog/2018/07/introductory-guide-maximum-likelihood-estimation-case-study-r/\n",
        "<br> The blog has same type of data, Poisson Distribion based on real data:<br>"
      ]
    },
    {
      "cell_type": "markdown",
      "metadata": {
        "id": "sdrMNv7uorvA",
        "colab_type": "text"
      },
      "source": [
        "# **Bike Sharing**\n",
        "We will be using data from the BikeSharing hour.csv only.\n",
        "It contains more samples as it has the finer details of the number of bike rental per hour for the period of 2 years."
      ]
    },
    {
      "cell_type": "code",
      "metadata": {
        "id": "j30lbe8zorvB",
        "colab_type": "code",
        "colab": {}
      },
      "source": [
        "#Path name to the data.csv\n",
        "filepath = \"/content/gdrive/My Drive/Colab Notebooks/CS5340/hour.csv\"\n",
        "hour = pd.read_csv(filepath)"
      ],
      "execution_count": 0,
      "outputs": []
    },
    {
      "cell_type": "code",
      "metadata": {
        "id": "dS36pjEforvE",
        "colab_type": "code",
        "outputId": "7436f213-f0c0-4bb6-8081-f38914f5e0b4",
        "colab": {
          "base_uri": "https://localhost:8080/",
          "height": 419
        }
      },
      "source": [
        "hour"
      ],
      "execution_count": 0,
      "outputs": [
        {
          "output_type": "execute_result",
          "data": {
            "text/html": [
              "<div>\n",
              "<style scoped>\n",
              "    .dataframe tbody tr th:only-of-type {\n",
              "        vertical-align: middle;\n",
              "    }\n",
              "\n",
              "    .dataframe tbody tr th {\n",
              "        vertical-align: top;\n",
              "    }\n",
              "\n",
              "    .dataframe thead th {\n",
              "        text-align: right;\n",
              "    }\n",
              "</style>\n",
              "<table border=\"1\" class=\"dataframe\">\n",
              "  <thead>\n",
              "    <tr style=\"text-align: right;\">\n",
              "      <th></th>\n",
              "      <th>instant</th>\n",
              "      <th>dteday</th>\n",
              "      <th>season</th>\n",
              "      <th>yr</th>\n",
              "      <th>mnth</th>\n",
              "      <th>hr</th>\n",
              "      <th>holiday</th>\n",
              "      <th>weekday</th>\n",
              "      <th>workingday</th>\n",
              "      <th>weathersit</th>\n",
              "      <th>temp</th>\n",
              "      <th>atemp</th>\n",
              "      <th>hum</th>\n",
              "      <th>windspeed</th>\n",
              "      <th>casual</th>\n",
              "      <th>registered</th>\n",
              "      <th>cnt</th>\n",
              "    </tr>\n",
              "  </thead>\n",
              "  <tbody>\n",
              "    <tr>\n",
              "      <th>0</th>\n",
              "      <td>1</td>\n",
              "      <td>2011-01-01</td>\n",
              "      <td>1</td>\n",
              "      <td>0</td>\n",
              "      <td>1</td>\n",
              "      <td>0</td>\n",
              "      <td>0</td>\n",
              "      <td>6</td>\n",
              "      <td>0</td>\n",
              "      <td>1</td>\n",
              "      <td>0.24</td>\n",
              "      <td>0.2879</td>\n",
              "      <td>0.81</td>\n",
              "      <td>0.0000</td>\n",
              "      <td>3</td>\n",
              "      <td>13</td>\n",
              "      <td>16</td>\n",
              "    </tr>\n",
              "    <tr>\n",
              "      <th>1</th>\n",
              "      <td>2</td>\n",
              "      <td>2011-01-01</td>\n",
              "      <td>1</td>\n",
              "      <td>0</td>\n",
              "      <td>1</td>\n",
              "      <td>1</td>\n",
              "      <td>0</td>\n",
              "      <td>6</td>\n",
              "      <td>0</td>\n",
              "      <td>1</td>\n",
              "      <td>0.22</td>\n",
              "      <td>0.2727</td>\n",
              "      <td>0.80</td>\n",
              "      <td>0.0000</td>\n",
              "      <td>8</td>\n",
              "      <td>32</td>\n",
              "      <td>40</td>\n",
              "    </tr>\n",
              "    <tr>\n",
              "      <th>2</th>\n",
              "      <td>3</td>\n",
              "      <td>2011-01-01</td>\n",
              "      <td>1</td>\n",
              "      <td>0</td>\n",
              "      <td>1</td>\n",
              "      <td>2</td>\n",
              "      <td>0</td>\n",
              "      <td>6</td>\n",
              "      <td>0</td>\n",
              "      <td>1</td>\n",
              "      <td>0.22</td>\n",
              "      <td>0.2727</td>\n",
              "      <td>0.80</td>\n",
              "      <td>0.0000</td>\n",
              "      <td>5</td>\n",
              "      <td>27</td>\n",
              "      <td>32</td>\n",
              "    </tr>\n",
              "    <tr>\n",
              "      <th>3</th>\n",
              "      <td>4</td>\n",
              "      <td>2011-01-01</td>\n",
              "      <td>1</td>\n",
              "      <td>0</td>\n",
              "      <td>1</td>\n",
              "      <td>3</td>\n",
              "      <td>0</td>\n",
              "      <td>6</td>\n",
              "      <td>0</td>\n",
              "      <td>1</td>\n",
              "      <td>0.24</td>\n",
              "      <td>0.2879</td>\n",
              "      <td>0.75</td>\n",
              "      <td>0.0000</td>\n",
              "      <td>3</td>\n",
              "      <td>10</td>\n",
              "      <td>13</td>\n",
              "    </tr>\n",
              "    <tr>\n",
              "      <th>4</th>\n",
              "      <td>5</td>\n",
              "      <td>2011-01-01</td>\n",
              "      <td>1</td>\n",
              "      <td>0</td>\n",
              "      <td>1</td>\n",
              "      <td>4</td>\n",
              "      <td>0</td>\n",
              "      <td>6</td>\n",
              "      <td>0</td>\n",
              "      <td>1</td>\n",
              "      <td>0.24</td>\n",
              "      <td>0.2879</td>\n",
              "      <td>0.75</td>\n",
              "      <td>0.0000</td>\n",
              "      <td>0</td>\n",
              "      <td>1</td>\n",
              "      <td>1</td>\n",
              "    </tr>\n",
              "    <tr>\n",
              "      <th>...</th>\n",
              "      <td>...</td>\n",
              "      <td>...</td>\n",
              "      <td>...</td>\n",
              "      <td>...</td>\n",
              "      <td>...</td>\n",
              "      <td>...</td>\n",
              "      <td>...</td>\n",
              "      <td>...</td>\n",
              "      <td>...</td>\n",
              "      <td>...</td>\n",
              "      <td>...</td>\n",
              "      <td>...</td>\n",
              "      <td>...</td>\n",
              "      <td>...</td>\n",
              "      <td>...</td>\n",
              "      <td>...</td>\n",
              "      <td>...</td>\n",
              "    </tr>\n",
              "    <tr>\n",
              "      <th>17374</th>\n",
              "      <td>17375</td>\n",
              "      <td>2012-12-31</td>\n",
              "      <td>1</td>\n",
              "      <td>1</td>\n",
              "      <td>12</td>\n",
              "      <td>19</td>\n",
              "      <td>0</td>\n",
              "      <td>1</td>\n",
              "      <td>1</td>\n",
              "      <td>2</td>\n",
              "      <td>0.26</td>\n",
              "      <td>0.2576</td>\n",
              "      <td>0.60</td>\n",
              "      <td>0.1642</td>\n",
              "      <td>11</td>\n",
              "      <td>108</td>\n",
              "      <td>119</td>\n",
              "    </tr>\n",
              "    <tr>\n",
              "      <th>17375</th>\n",
              "      <td>17376</td>\n",
              "      <td>2012-12-31</td>\n",
              "      <td>1</td>\n",
              "      <td>1</td>\n",
              "      <td>12</td>\n",
              "      <td>20</td>\n",
              "      <td>0</td>\n",
              "      <td>1</td>\n",
              "      <td>1</td>\n",
              "      <td>2</td>\n",
              "      <td>0.26</td>\n",
              "      <td>0.2576</td>\n",
              "      <td>0.60</td>\n",
              "      <td>0.1642</td>\n",
              "      <td>8</td>\n",
              "      <td>81</td>\n",
              "      <td>89</td>\n",
              "    </tr>\n",
              "    <tr>\n",
              "      <th>17376</th>\n",
              "      <td>17377</td>\n",
              "      <td>2012-12-31</td>\n",
              "      <td>1</td>\n",
              "      <td>1</td>\n",
              "      <td>12</td>\n",
              "      <td>21</td>\n",
              "      <td>0</td>\n",
              "      <td>1</td>\n",
              "      <td>1</td>\n",
              "      <td>1</td>\n",
              "      <td>0.26</td>\n",
              "      <td>0.2576</td>\n",
              "      <td>0.60</td>\n",
              "      <td>0.1642</td>\n",
              "      <td>7</td>\n",
              "      <td>83</td>\n",
              "      <td>90</td>\n",
              "    </tr>\n",
              "    <tr>\n",
              "      <th>17377</th>\n",
              "      <td>17378</td>\n",
              "      <td>2012-12-31</td>\n",
              "      <td>1</td>\n",
              "      <td>1</td>\n",
              "      <td>12</td>\n",
              "      <td>22</td>\n",
              "      <td>0</td>\n",
              "      <td>1</td>\n",
              "      <td>1</td>\n",
              "      <td>1</td>\n",
              "      <td>0.26</td>\n",
              "      <td>0.2727</td>\n",
              "      <td>0.56</td>\n",
              "      <td>0.1343</td>\n",
              "      <td>13</td>\n",
              "      <td>48</td>\n",
              "      <td>61</td>\n",
              "    </tr>\n",
              "    <tr>\n",
              "      <th>17378</th>\n",
              "      <td>17379</td>\n",
              "      <td>2012-12-31</td>\n",
              "      <td>1</td>\n",
              "      <td>1</td>\n",
              "      <td>12</td>\n",
              "      <td>23</td>\n",
              "      <td>0</td>\n",
              "      <td>1</td>\n",
              "      <td>1</td>\n",
              "      <td>1</td>\n",
              "      <td>0.26</td>\n",
              "      <td>0.2727</td>\n",
              "      <td>0.65</td>\n",
              "      <td>0.1343</td>\n",
              "      <td>12</td>\n",
              "      <td>37</td>\n",
              "      <td>49</td>\n",
              "    </tr>\n",
              "  </tbody>\n",
              "</table>\n",
              "<p>17379 rows × 17 columns</p>\n",
              "</div>"
            ],
            "text/plain": [
              "       instant      dteday  season  yr  ...  windspeed  casual  registered  cnt\n",
              "0            1  2011-01-01       1   0  ...     0.0000       3          13   16\n",
              "1            2  2011-01-01       1   0  ...     0.0000       8          32   40\n",
              "2            3  2011-01-01       1   0  ...     0.0000       5          27   32\n",
              "3            4  2011-01-01       1   0  ...     0.0000       3          10   13\n",
              "4            5  2011-01-01       1   0  ...     0.0000       0           1    1\n",
              "...        ...         ...     ...  ..  ...        ...     ...         ...  ...\n",
              "17374    17375  2012-12-31       1   1  ...     0.1642      11         108  119\n",
              "17375    17376  2012-12-31       1   1  ...     0.1642       8          81   89\n",
              "17376    17377  2012-12-31       1   1  ...     0.1642       7          83   90\n",
              "17377    17378  2012-12-31       1   1  ...     0.1343      13          48   61\n",
              "17378    17379  2012-12-31       1   1  ...     0.1343      12          37   49\n",
              "\n",
              "[17379 rows x 17 columns]"
            ]
          },
          "metadata": {
            "tags": []
          },
          "execution_count": 6
        }
      ]
    },
    {
      "cell_type": "code",
      "metadata": {
        "id": "WdXwZk2PorvI",
        "colab_type": "code",
        "outputId": "9d1274fe-ef27-405d-8eba-5481a0c0f27e",
        "colab": {
          "base_uri": "https://localhost:8080/",
          "height": 265
        }
      },
      "source": [
        "#check the distribution of the data.\n",
        "plt.hist(hour.cnt, bins=50, density=True)\n",
        "plt.show()"
      ],
      "execution_count": 0,
      "outputs": [
        {
          "output_type": "display_data",
          "data": {
            "image/png": "[encoded data removed]",
            "text/plain": [
              "<Figure size 432x288 with 1 Axes>"
            ]
          },
          "metadata": {
            "tags": [],
            "needs_background": "light"
          }
        }
      ]
    },
    {
      "cell_type": "code",
      "metadata": {
        "id": "LF-arJT8orvL",
        "colab_type": "code",
        "outputId": "4e0b0a11-d668-4294-b5c0-2edd9d5e1728",
        "colab": {
          "base_uri": "https://localhost:8080/",
          "height": 623
        }
      },
      "source": [
        "#Plot the number of rented bikes between this 2 years. Overall is still increasing\n",
        "fig, axes = plt.subplots(1, 1, sharex=False, figsize=(10,10))\n",
        "\n",
        "axes.plot(hour.instant, hour.cnt)\n",
        "axes.set_ylabel('No. of bikes')\n",
        "axes.set_xlabel('hours for 2 years')"
      ],
      "execution_count": 0,
      "outputs": [
        {
          "output_type": "execute_result",
          "data": {
            "text/plain": [
              "Text(0.5, 0, 'hours for 2 years')"
            ]
          },
          "metadata": {
            "tags": []
          },
          "execution_count": 5
        },
        {
          "output_type": "display_data",
          "data": {
            "image/png": "[encoded data removed]",
            "text/plain": [
              "<Figure size 720x720 with 1 Axes>"
            ]
          },
          "metadata": {
            "tags": [],
            "needs_background": "light"
          }
        }
      ]
    },
    {
      "cell_type": "code",
      "metadata": {
        "id": "f63rvPvnorvP",
        "colab_type": "code",
        "outputId": "8a559b15-17bc-4754-9d44-6e35bfbc8597",
        "colab": {
          "base_uri": "https://localhost:8080/",
          "height": 51
        }
      },
      "source": [
        "#Split data here\n",
        "train, test = train_test_split(hour, test_size=0.2, random_state=42)\n",
        "\n",
        "#sort them in ascending order to maintain the temporal order\n",
        "train = train.sort_index()\n",
        "test = test.sort_index()\n",
        "\n",
        "print(train.shape)\n",
        "print(test.shape)"
      ],
      "execution_count": 0,
      "outputs": [
        {
          "output_type": "stream",
          "text": [
            "(13903, 17)\n",
            "(3476, 17)\n"
          ],
          "name": "stdout"
        }
      ]
    },
    {
      "cell_type": "code",
      "metadata": {
        "id": "MH5cHqe6orvR",
        "colab_type": "code",
        "outputId": "7c049005-5877-4f30-ce28-553f0b7c6c34",
        "colab": {
          "base_uri": "https://localhost:8080/",
          "height": 609
        }
      },
      "source": [
        "#Check the distribution of the train and test set\n",
        "fig, axes = plt.subplots(1, 2, sharex=False, figsize=(10,10))\n",
        "axes[0].hist(train.cnt, bins=50, density=True, label = 'Train')\n",
        "axes[1].hist(test.cnt, bins=50, density=True, label = 'Test')\n",
        "axes[0].legend()\n",
        "axes[1].legend()"
      ],
      "execution_count": 0,
      "outputs": [
        {
          "output_type": "execute_result",
          "data": {
            "text/plain": [
              "<matplotlib.legend.Legend at 0x7f5b73292860>"
            ]
          },
          "metadata": {
            "tags": []
          },
          "execution_count": 6
        },
        {
          "output_type": "display_data",
          "data": {
            "image/png": "[encoded data removed]",
            "text/plain": [
              "<Figure size 720x720 with 2 Axes>"
            ]
          },
          "metadata": {
            "tags": [],
            "needs_background": "light"
          }
        }
      ]
    },
    {
      "cell_type": "code",
      "metadata": {
        "id": "bwfeyRjNsLze",
        "colab_type": "code",
        "colab": {}
      },
      "source": [
        ""
      ],
      "execution_count": 0,
      "outputs": []
    },
    {
      "cell_type": "markdown",
      "metadata": {
        "id": "mv5gjZeFsMKL",
        "colab_type": "text"
      },
      "source": [
        "##**MLE**"
      ]
    },
    {
      "cell_type": "markdown",
      "metadata": {
        "id": "vf3ga3ZaorvW",
        "colab_type": "text"
      },
      "source": [
        "Data seems to have a Poisson distribution. As it is base on the event of the number of bike rental per hour for the period of 2 years. To keep things simple we will be using a linear model for the prediction. We will be using the Poisson regression model\n",
        "https://en.wikipedia.org/wiki/Poisson_regression<br>\n",
        "$$\n",
        "\\mu = exp(x\\theta)\n",
        "$$\n",
        "We shall use the Poisson Distribution to model the likelyhood. The Poisson distribution is given by https://en.wikipedia.org/wiki/Poisson_distribution:\n",
        "$$\n",
        "Pr(X=x|\\mu) = Pois(\\mu) = \\frac{\\mu^{x} e^{-\\mu}}{x!}\n",
        "$$\n",
        "Estimation of the parameter theta by using loglikely hood (MLE), \n",
        "$$\n",
        "LL(\\theta) = \\sum \\big(xlog(\\mu) - \\mu\\big)\n",
        "$$\n",
        "\n",
        "Since the data consists of some temporal variables like year, mnth, weekday and hr. We will only use them in our model <br>\n",
        "$$\n",
        "\\mu =  exp(year*\\theta_0+ mnth*\\theta_1 + weekday*\\theta_2 + hr*\\theta_3)\n",
        "$$"
      ]
    },
    {
      "cell_type": "code",
      "metadata": {
        "id": "02ceToCjorvW",
        "colab_type": "code",
        "outputId": "08b0d542-6b9d-45cf-c967-ffac5dede2c3",
        "colab": {}
      },
      "source": [
        "train.describe()"
      ],
      "execution_count": 0,
      "outputs": [
        {
          "output_type": "execute_result",
          "data": {
            "text/html": [
              "<div>\n",
              "<style scoped>\n",
              "    .dataframe tbody tr th:only-of-type {\n",
              "        vertical-align: middle;\n",
              "    }\n",
              "\n",
              "    .dataframe tbody tr th {\n",
              "        vertical-align: top;\n",
              "    }\n",
              "\n",
              "    .dataframe thead th {\n",
              "        text-align: right;\n",
              "    }\n",
              "</style>\n",
              "<table border=\"1\" class=\"dataframe\">\n",
              "  <thead>\n",
              "    <tr style=\"text-align: right;\">\n",
              "      <th></th>\n",
              "      <th>instant</th>\n",
              "      <th>season</th>\n",
              "      <th>yr</th>\n",
              "      <th>mnth</th>\n",
              "      <th>hr</th>\n",
              "      <th>holiday</th>\n",
              "      <th>weekday</th>\n",
              "      <th>workingday</th>\n",
              "      <th>weathersit</th>\n",
              "      <th>temp</th>\n",
              "      <th>atemp</th>\n",
              "      <th>hum</th>\n",
              "      <th>windspeed</th>\n",
              "      <th>casual</th>\n",
              "      <th>registered</th>\n",
              "      <th>cnt</th>\n",
              "    </tr>\n",
              "  </thead>\n",
              "  <tbody>\n",
              "    <tr>\n",
              "      <th>count</th>\n",
              "      <td>13903.000000</td>\n",
              "      <td>13903.000000</td>\n",
              "      <td>13903.000000</td>\n",
              "      <td>13903.000000</td>\n",
              "      <td>13903.000000</td>\n",
              "      <td>13903.000000</td>\n",
              "      <td>13903.000000</td>\n",
              "      <td>13903.000000</td>\n",
              "      <td>13903.000000</td>\n",
              "      <td>13903.000000</td>\n",
              "      <td>13903.000000</td>\n",
              "      <td>13903.000000</td>\n",
              "      <td>13903.000000</td>\n",
              "      <td>13903.000000</td>\n",
              "      <td>13903.000000</td>\n",
              "      <td>13903.000000</td>\n",
              "    </tr>\n",
              "    <tr>\n",
              "      <th>mean</th>\n",
              "      <td>8697.040135</td>\n",
              "      <td>2.509243</td>\n",
              "      <td>0.502050</td>\n",
              "      <td>6.552974</td>\n",
              "      <td>11.557146</td>\n",
              "      <td>0.028699</td>\n",
              "      <td>2.998202</td>\n",
              "      <td>0.679566</td>\n",
              "      <td>1.426023</td>\n",
              "      <td>0.497396</td>\n",
              "      <td>0.476183</td>\n",
              "      <td>0.627011</td>\n",
              "      <td>0.189822</td>\n",
              "      <td>36.002374</td>\n",
              "      <td>154.574696</td>\n",
              "      <td>190.577070</td>\n",
              "    </tr>\n",
              "    <tr>\n",
              "      <th>std</th>\n",
              "      <td>5024.565656</td>\n",
              "      <td>1.106817</td>\n",
              "      <td>0.500014</td>\n",
              "      <td>3.436925</td>\n",
              "      <td>6.911927</td>\n",
              "      <td>0.166965</td>\n",
              "      <td>2.011350</td>\n",
              "      <td>0.466660</td>\n",
              "      <td>0.638842</td>\n",
              "      <td>0.193017</td>\n",
              "      <td>0.172308</td>\n",
              "      <td>0.192801</td>\n",
              "      <td>0.122293</td>\n",
              "      <td>49.636195</td>\n",
              "      <td>152.035090</td>\n",
              "      <td>182.220507</td>\n",
              "    </tr>\n",
              "    <tr>\n",
              "      <th>min</th>\n",
              "      <td>1.000000</td>\n",
              "      <td>1.000000</td>\n",
              "      <td>0.000000</td>\n",
              "      <td>1.000000</td>\n",
              "      <td>0.000000</td>\n",
              "      <td>0.000000</td>\n",
              "      <td>0.000000</td>\n",
              "      <td>0.000000</td>\n",
              "      <td>1.000000</td>\n",
              "      <td>0.020000</td>\n",
              "      <td>0.000000</td>\n",
              "      <td>0.000000</td>\n",
              "      <td>0.000000</td>\n",
              "      <td>0.000000</td>\n",
              "      <td>0.000000</td>\n",
              "      <td>1.000000</td>\n",
              "    </tr>\n",
              "    <tr>\n",
              "      <th>25%</th>\n",
              "      <td>4355.500000</td>\n",
              "      <td>2.000000</td>\n",
              "      <td>0.000000</td>\n",
              "      <td>4.000000</td>\n",
              "      <td>6.000000</td>\n",
              "      <td>0.000000</td>\n",
              "      <td>1.000000</td>\n",
              "      <td>0.000000</td>\n",
              "      <td>1.000000</td>\n",
              "      <td>0.340000</td>\n",
              "      <td>0.333300</td>\n",
              "      <td>0.470000</td>\n",
              "      <td>0.104500</td>\n",
              "      <td>4.000000</td>\n",
              "      <td>34.000000</td>\n",
              "      <td>39.000000</td>\n",
              "    </tr>\n",
              "    <tr>\n",
              "      <th>50%</th>\n",
              "      <td>8677.000000</td>\n",
              "      <td>3.000000</td>\n",
              "      <td>1.000000</td>\n",
              "      <td>7.000000</td>\n",
              "      <td>12.000000</td>\n",
              "      <td>0.000000</td>\n",
              "      <td>3.000000</td>\n",
              "      <td>1.000000</td>\n",
              "      <td>1.000000</td>\n",
              "      <td>0.500000</td>\n",
              "      <td>0.484800</td>\n",
              "      <td>0.630000</td>\n",
              "      <td>0.164200</td>\n",
              "      <td>17.000000</td>\n",
              "      <td>116.000000</td>\n",
              "      <td>143.000000</td>\n",
              "    </tr>\n",
              "    <tr>\n",
              "      <th>75%</th>\n",
              "      <td>13077.500000</td>\n",
              "      <td>3.000000</td>\n",
              "      <td>1.000000</td>\n",
              "      <td>10.000000</td>\n",
              "      <td>18.000000</td>\n",
              "      <td>0.000000</td>\n",
              "      <td>5.000000</td>\n",
              "      <td>1.000000</td>\n",
              "      <td>2.000000</td>\n",
              "      <td>0.660000</td>\n",
              "      <td>0.621200</td>\n",
              "      <td>0.780000</td>\n",
              "      <td>0.253700</td>\n",
              "      <td>49.000000</td>\n",
              "      <td>221.500000</td>\n",
              "      <td>282.000000</td>\n",
              "    </tr>\n",
              "    <tr>\n",
              "      <th>max</th>\n",
              "      <td>17379.000000</td>\n",
              "      <td>4.000000</td>\n",
              "      <td>1.000000</td>\n",
              "      <td>12.000000</td>\n",
              "      <td>23.000000</td>\n",
              "      <td>1.000000</td>\n",
              "      <td>6.000000</td>\n",
              "      <td>1.000000</td>\n",
              "      <td>4.000000</td>\n",
              "      <td>1.000000</td>\n",
              "      <td>1.000000</td>\n",
              "      <td>1.000000</td>\n",
              "      <td>0.850700</td>\n",
              "      <td>367.000000</td>\n",
              "      <td>885.000000</td>\n",
              "      <td>976.000000</td>\n",
              "    </tr>\n",
              "  </tbody>\n",
              "</table>\n",
              "</div>"
            ],
            "text/plain": [
              "            instant        season            yr          mnth            hr  \\\n",
              "count  13903.000000  13903.000000  13903.000000  13903.000000  13903.000000   \n",
              "mean    8697.040135      2.509243      0.502050      6.552974     11.557146   \n",
              "std     5024.565656      1.106817      0.500014      3.436925      6.911927   \n",
              "min        1.000000      1.000000      0.000000      1.000000      0.000000   \n",
              "25%     4355.500000      2.000000      0.000000      4.000000      6.000000   \n",
              "50%     8677.000000      3.000000      1.000000      7.000000     12.000000   \n",
              "75%    13077.500000      3.000000      1.000000     10.000000     18.000000   \n",
              "max    17379.000000      4.000000      1.000000     12.000000     23.000000   \n",
              "\n",
              "            holiday       weekday    workingday    weathersit          temp  \\\n",
              "count  13903.000000  13903.000000  13903.000000  13903.000000  13903.000000   \n",
              "mean       0.028699      2.998202      0.679566      1.426023      0.497396   \n",
              "std        0.166965      2.011350      0.466660      0.638842      0.193017   \n",
              "min        0.000000      0.000000      0.000000      1.000000      0.020000   \n",
              "25%        0.000000      1.000000      0.000000      1.000000      0.340000   \n",
              "50%        0.000000      3.000000      1.000000      1.000000      0.500000   \n",
              "75%        0.000000      5.000000      1.000000      2.000000      0.660000   \n",
              "max        1.000000      6.000000      1.000000      4.000000      1.000000   \n",
              "\n",
              "              atemp           hum     windspeed        casual    registered  \\\n",
              "count  13903.000000  13903.000000  13903.000000  13903.000000  13903.000000   \n",
              "mean       0.476183      0.627011      0.189822     36.002374    154.574696   \n",
              "std        0.172308      0.192801      0.122293     49.636195    152.035090   \n",
              "min        0.000000      0.000000      0.000000      0.000000      0.000000   \n",
              "25%        0.333300      0.470000      0.104500      4.000000     34.000000   \n",
              "50%        0.484800      0.630000      0.164200     17.000000    116.000000   \n",
              "75%        0.621200      0.780000      0.253700     49.000000    221.500000   \n",
              "max        1.000000      1.000000      0.850700    367.000000    885.000000   \n",
              "\n",
              "                cnt  \n",
              "count  13903.000000  \n",
              "mean     190.577070  \n",
              "std      182.220507  \n",
              "min        1.000000  \n",
              "25%       39.000000  \n",
              "50%      143.000000  \n",
              "75%      282.000000  \n",
              "max      976.000000  "
            ]
          },
          "metadata": {
            "tags": []
          },
          "execution_count": 283
        }
      ]
    },
    {
      "cell_type": "code",
      "metadata": {
        "id": "mTNeQyYporvZ",
        "colab_type": "code",
        "colab": {}
      },
      "source": [
        "# functions for the negative log likely hood and Prediction.\n",
        "def negloglike(theta, cnt, year, mth, day, hr):\n",
        "    mu = exp(theta[0]+theta[1]*year + theta[2]*mth+ theta[3]*day+ theta[4]*hr)\n",
        "    nll= -sum(cnt*(log(mu)) - mu)\n",
        "    return nll\n",
        "\n",
        "def predict_cnt(theta, year, mth, day, hr):\n",
        "    estimated_cnt = exp(theta[0] + theta[1]*year+ theta[2]*mth+ theta[3]*day+theta[4]*hr)\n",
        "    return estimated_cnt\n"
      ],
      "execution_count": 0,
      "outputs": []
    },
    {
      "cell_type": "code",
      "metadata": {
        "id": "opD_OX1porvc",
        "colab_type": "code",
        "outputId": "f156e520-013c-4c2d-af06-94d122ea9d9d",
        "colab": {
          "base_uri": "https://localhost:8080/",
          "height": 272
        }
      },
      "source": [
        "#Set a high number to allow the optimizer to minimize successfully\n",
        "maxNumberIters =  train.cnt.count()*1000\n",
        "print(maxNumberIters)\n",
        "\n",
        "#Using an off-the-shelve optimizer similar to those used in lecture\n",
        "params_MLE = optimize.minimize(negloglike,np.array([0,0,0,0,0]), args=(train.cnt,train.yr,train.mnth,train.weekday, train.hr), options={'maxiter': maxNumberIters}, method='Nelder-Mead')\n",
        "print(params_MLE)"
      ],
      "execution_count": 0,
      "outputs": [
        {
          "output_type": "stream",
          "text": [
            "13903000\n",
            " final_simplex: (array([[3.95682943, 0.5059893 , 0.03627459, 0.01256711, 0.05629742],\n",
            "       [3.95683168, 0.50599079, 0.0362753 , 0.01256724, 0.05629716],\n",
            "       [3.95681183, 0.50599835, 0.03627789, 0.01256457, 0.05629716],\n",
            "       [3.95682453, 0.50597621, 0.03627672, 0.01256849, 0.0562974 ],\n",
            "       [3.95681347, 0.5059866 , 0.03627526, 0.01257172, 0.05629753],\n",
            "       [3.95681696, 0.50598882, 0.03627691, 0.01256419, 0.05629793]]), array([-11553173.09785971, -11553173.09785843, -11553173.09782322,\n",
            "       -11553173.09779629, -11553173.09777839, -11553173.0977605 ]))\n",
            "           fun: -11553173.097859707\n",
            "       message: 'Optimization terminated successfully.'\n",
            "          nfev: 1160\n",
            "           nit: 723\n",
            "        status: 0\n",
            "       success: True\n",
            "             x: array([3.95682943, 0.5059893 , 0.03627459, 0.01256711, 0.05629742])\n"
          ],
          "name": "stdout"
        }
      ]
    },
    {
      "cell_type": "code",
      "metadata": {
        "id": "GuVHuFv2orvf",
        "colab_type": "code",
        "outputId": "58f83382-e9f9-4732-aa04-9366d762acb4",
        "colab": {
          "base_uri": "https://localhost:8080/",
          "height": 221
        }
      },
      "source": [
        "predictionMLE_cnt = predict_cnt(params_MLE.x, test.yr,test.mnth, test.weekday, test.hr)\n",
        "\n",
        "print(predictionMLE_cnt)"
      ],
      "execution_count": 0,
      "outputs": [
        {
          "output_type": "stream",
          "text": [
            "3         69.227553\n",
            "5         77.477981\n",
            "8         91.733352\n",
            "14       128.595333\n",
            "19       170.401532\n",
            "            ...    \n",
            "17354    489.289531\n",
            "17355    135.731808\n",
            "17367    266.733474\n",
            "17375    418.480070\n",
            "17377    468.353849\n",
            "Length: 3476, dtype: float64\n"
          ],
          "name": "stdout"
        }
      ]
    },
    {
      "cell_type": "code",
      "metadata": {
        "id": "WA0yBWdRorvk",
        "colab_type": "code",
        "outputId": "0f4ec320-f61e-4894-8991-c62354579098",
        "colab": {
          "base_uri": "https://localhost:8080/",
          "height": 265
        }
      },
      "source": [
        "#Prediction looks like the gamma distribution\n",
        "plt.hist(predictionMLE_cnt, bins=50, density=True)\n",
        "plt.show()"
      ],
      "execution_count": 0,
      "outputs": [
        {
          "output_type": "display_data",
          "data": {
            "image/png": "[encoded data removed]",
            "text/plain": [
              "<Figure size 432x288 with 1 Axes>"
            ]
          },
          "metadata": {
            "tags": [],
            "needs_background": "light"
          }
        }
      ]
    },
    {
      "cell_type": "code",
      "metadata": {
        "id": "r_giHKrqorvo",
        "colab_type": "code",
        "outputId": "34c3a7a1-665e-4afb-e149-f36a1c0a89d5",
        "colab": {
          "base_uri": "https://localhost:8080/",
          "height": 282
        }
      },
      "source": [
        "#Compare the action data and predictions side by side\n",
        "fig, ax = plt.subplots(1,2, figsize=(10,4))\n",
        "ax[0].scatter(test.instant, test.cnt,label=\"True value\")\n",
        "ax[0].set_ylim([0,test.cnt.max()+10])\n",
        "ax[1].scatter(test.instant,predictionMLE_cnt,color='g', lw=1,label=\"Prediction\")\n",
        "ax[1].set_ylim([0,test.cnt.max()+10])\n",
        "ax[0].legend()\n",
        "ax[1].legend()"
      ],
      "execution_count": 0,
      "outputs": [
        {
          "output_type": "execute_result",
          "data": {
            "text/plain": [
              "<matplotlib.legend.Legend at 0x7f5000feac50>"
            ]
          },
          "metadata": {
            "tags": []
          },
          "execution_count": 24
        },
        {
          "output_type": "display_data",
          "data": {
            "image/png": "[encoded data removed]",
            "text/plain": [
              "<Figure size 720x288 with 2 Axes>"
            ]
          },
          "metadata": {
            "tags": [],
            "needs_background": "light"
          }
        }
      ]
    },
    {
      "cell_type": "markdown",
      "metadata": {
        "id": "buRcVR0qorvq",
        "colab_type": "text"
      },
      "source": [
        "## **MAP**"
      ]
    },
    {
      "cell_type": "markdown",
      "metadata": {
        "id": "9yg3GwFOorvr",
        "colab_type": "text"
      },
      "source": [
        "For MAP, we will need to calculate the posterior. We will be using gamma as the congugate prior for the Poisson distribution.\n",
        "Hence, the posterior will also be a Gamma distribution\n",
        "$$\n",
        "Pr(\\mu|X) = Pr(X|\\mu) Pr(\\mu) = Pois(\\mu)*Gamma(\\alpha,\\beta) =\\frac{\\mu^{x} e^{-\\mu}}{x!} \\frac{\\beta^{\\alpha}\\mu^{\\alpha-1}e^{-\\beta \\mu}}{\\Gamma(\\alpha)}\n",
        "$$\n",
        "$$\n",
        "                                    \\propto \\mu^{x} e^{-\\mu} \\mu^{\\alpha-1}e^{-\\beta \\mu}\\\\\n",
        "                                    \\propto \\mu^{x+\\alpha - 1} e^{-\\mu(\\beta+1)}\n",
        "$$\n",
        "The updated gamma parameters are as:\n",
        "$$\n",
        " Gamma(\\alpha + x, \\beta - \\mu)\n",
        "$$\n",
        "Now maximize the log MAP:\n",
        "$$\n",
        "LL(\\theta) = \\sum \\big((x+\\alpha-1).log(\\mu) -\\mu \\beta - \\mu \\big)\n",
        "$$"
      ]
    },
    {
      "cell_type": "code",
      "metadata": {
        "id": "QcCK9Dzxorvr",
        "colab_type": "code",
        "colab": {}
      },
      "source": [
        "# using an optimizer\n",
        "def neglogpost(theta,cnt, year, mth, day, hr,a,b):\n",
        "    mu = exp(theta[0]+theta[1]*year + theta[2]*mth+ theta[3]*day+ theta[4]*hr)\n",
        "    \n",
        "    nlpost= -sum((cnt+a-1)*log(mu) - mu*b -mu)\n",
        "    return nlpost"
      ],
      "execution_count": 0,
      "outputs": []
    },
    {
      "cell_type": "markdown",
      "metadata": {
        "id": "bS1dFi8Jorvu",
        "colab_type": "text"
      },
      "source": [
        "\n",
        "The alpha and beta parameters of the gamma distribution is calculated by fitting a gamma distribution over the training data. https://en.wikipedia.org/wiki/Gamma_distribution"
      ]
    },
    {
      "cell_type": "code",
      "metadata": {
        "id": "ZhVySOw-orvu",
        "colab_type": "code",
        "outputId": "b773b076-f84a-4216-8b7d-44afebc8790e",
        "colab": {
          "base_uri": "https://localhost:8080/",
          "height": 298
        }
      },
      "source": [
        "shape, loc, scale = stats.gamma.fit(train.cnt, floc=0)\n",
        "print(shape, loc, scale)\n",
        "x = np.linspace(0,300,1000)\n",
        "y = stats.gamma.pdf(x, shape, loc, scale)\n",
        "plt.title('Fitted Gamma')\n",
        "plt.plot(x, y)\n",
        "plt.show()"
      ],
      "execution_count": 0,
      "outputs": [
        {
          "output_type": "stream",
          "text": [
            "0.830845944586797 0 229.3771437880304\n"
          ],
          "name": "stdout"
        },
        {
          "output_type": "display_data",
          "data": {
            "image/png": "[encoded data removed]",
            "text/plain": [
              "<Figure size 432x288 with 1 Axes>"
            ]
          },
          "metadata": {
            "tags": [],
            "needs_background": "light"
          }
        }
      ]
    },
    {
      "cell_type": "code",
      "metadata": {
        "id": "iZBbbPX5orvx",
        "colab_type": "code",
        "outputId": "b053ef76-061c-41b1-b835-6c61b7729cf8",
        "colab": {
          "base_uri": "https://localhost:8080/",
          "height": 51
        }
      },
      "source": [
        "alphag = shape\n",
        "betag = 1/scale\n",
        "print(alphag)\n",
        "print(betag)"
      ],
      "execution_count": 0,
      "outputs": [
        {
          "output_type": "stream",
          "text": [
            "0.830845944586797\n",
            "0.004359632278463235\n"
          ],
          "name": "stdout"
        }
      ]
    },
    {
      "cell_type": "code",
      "metadata": {
        "id": "PAocaRaAorv0",
        "colab_type": "code",
        "outputId": "bf20e53b-8913-4b3c-815f-4498cc655025",
        "colab": {
          "base_uri": "https://localhost:8080/",
          "height": 255
        }
      },
      "source": [
        "params_MAP = optimize.minimize(neglogpost,np.array([0,0,0,0,0]), args=(train.cnt, train.yr, train.mnth, train.weekday, train.hr, alphag,betag),options={'maxiter': maxNumberIters}, method='Nelder-Mead')\n",
        "\n",
        "print(params_MAP)"
      ],
      "execution_count": 0,
      "outputs": [
        {
          "output_type": "stream",
          "text": [
            " final_simplex: (array([[3.95028715, 0.50645694, 0.03630792, 0.01257973, 0.05635015],\n",
            "       [3.95030265, 0.5064534 , 0.03630931, 0.01257746, 0.05634838],\n",
            "       [3.95026444, 0.5064503 , 0.03631064, 0.01257935, 0.05634987],\n",
            "       [3.95028131, 0.50644549, 0.03631098, 0.01257746, 0.05634975],\n",
            "       [3.95028927, 0.50645898, 0.03630977, 0.01257364, 0.05634964],\n",
            "       [3.95029965, 0.50643458, 0.03630793, 0.01257819, 0.05634997]]), array([-11529577.8136692 , -11529577.81365582, -11529577.81364848,\n",
            "       -11529577.81363893, -11529577.813604  , -11529577.81359212]))\n",
            "           fun: -11529577.813669205\n",
            "       message: 'Optimization terminated successfully.'\n",
            "          nfev: 1344\n",
            "           nit: 830\n",
            "        status: 0\n",
            "       success: True\n",
            "             x: array([3.95028715, 0.50645694, 0.03630792, 0.01257973, 0.05635015])\n"
          ],
          "name": "stdout"
        }
      ]
    },
    {
      "cell_type": "code",
      "metadata": {
        "id": "c4Hm8Xmnorv2",
        "colab_type": "code",
        "outputId": "35d2c41e-c46d-4acf-c1b2-52f8ac47f8b8",
        "colab": {
          "base_uri": "https://localhost:8080/",
          "height": 221
        }
      },
      "source": [
        "predictionMAP_cnt = predict_cnt(params_MAP.x, test.yr,test.mnth, test.weekday, test.hr)\n",
        "\n",
        "print(predictionMAP_cnt)"
      ],
      "execution_count": 0,
      "outputs": [
        {
          "output_type": "stream",
          "text": [
            "3         68.794505\n",
            "5         77.001444\n",
            "8         91.183560\n",
            "14       127.865064\n",
            "19       169.478533\n",
            "            ...    \n",
            "17354    487.111285\n",
            "17355    134.965460\n",
            "17367    265.395373\n",
            "17375    416.556408\n",
            "17377    466.250100\n",
            "Length: 3476, dtype: float64\n"
          ],
          "name": "stdout"
        }
      ]
    },
    {
      "cell_type": "code",
      "metadata": {
        "id": "NOmNe_tc8-VM",
        "colab_type": "code",
        "outputId": "0c61f291-d83c-4554-d7ce-9e9b4e5f38da",
        "colab": {
          "base_uri": "https://localhost:8080/",
          "height": 265
        }
      },
      "source": [
        "#Prediction looks like the gamma distribution too\n",
        "plt.hist(predictionMAP_cnt, bins=50, density=True)\n",
        "plt.show()"
      ],
      "execution_count": 0,
      "outputs": [
        {
          "output_type": "display_data",
          "data": {
            "image/png": "[encoded data removed]",
            "text/plain": [
              "<Figure size 432x288 with 1 Axes>"
            ]
          },
          "metadata": {
            "tags": [],
            "needs_background": "light"
          }
        }
      ]
    },
    {
      "cell_type": "code",
      "metadata": {
        "id": "mvexyBaNorv4",
        "colab_type": "code",
        "outputId": "4bb0843d-9fbf-4893-cba7-cec3f8fa6d76",
        "colab": {
          "base_uri": "https://localhost:8080/",
          "height": 282
        }
      },
      "source": [
        "fig, ax = plt.subplots(1,2, figsize=(10,4))\n",
        "ax[0].scatter(test.instant, test.cnt,label=\"True value\")\n",
        "ax[0].set_ylim([0,test.cnt.max()+10])\n",
        "ax[1].scatter(test.instant,predictionMAP_cnt,color='g', lw=1,label=\"Prediction\")\n",
        "ax[1].set_ylim([0,test.cnt.max()+10])\n",
        "ax[0].legend()\n",
        "ax[1].legend()"
      ],
      "execution_count": 0,
      "outputs": [
        {
          "output_type": "execute_result",
          "data": {
            "text/plain": [
              "<matplotlib.legend.Legend at 0x7f5000a9fa20>"
            ]
          },
          "metadata": {
            "tags": []
          },
          "execution_count": 23
        },
        {
          "output_type": "display_data",
          "data": {
            "image/png": "[encoded data removed]",
            "text/plain": [
              "<Figure size 720x288 with 2 Axes>"
            ]
          },
          "metadata": {
            "tags": [],
            "needs_background": "light"
          }
        }
      ]
    },
    {
      "cell_type": "markdown",
      "metadata": {
        "id": "A2OTPxnGorv7",
        "colab_type": "text"
      },
      "source": [
        "## **Compare the MLE and MAP Predictions**"
      ]
    },
    {
      "cell_type": "code",
      "metadata": {
        "id": "uNNvca7K_sQN",
        "colab_type": "code",
        "outputId": "de363767-0dfc-4631-b170-2d3f909e31f5",
        "colab": {
          "base_uri": "https://localhost:8080/",
          "height": 282
        }
      },
      "source": [
        "fig, ax = plt.subplots(1,2, figsize=(10,4))\n",
        "ax[0].scatter(test.instant, predictionMAP_cnt, lw=1,label=\"MLE\")\n",
        "ax[0].set_ylim([0,test.cnt.max()+10])\n",
        "ax[1].scatter(test.instant,predictionMAP_cnt,color='g', lw=1,label=\"MAP\")\n",
        "ax[1].set_ylim([0,test.cnt.max()+10])\n",
        "ax[0].legend()\n",
        "ax[1].legend()"
      ],
      "execution_count": 0,
      "outputs": [
        {
          "output_type": "execute_result",
          "data": {
            "text/plain": [
              "<matplotlib.legend.Legend at 0x7f5000b659e8>"
            ]
          },
          "metadata": {
            "tags": []
          },
          "execution_count": 22
        },
        {
          "output_type": "display_data",
          "data": {
            "image/png": "[encoded data removed]",
            "text/plain": [
              "<Figure size 720x288 with 2 Axes>"
            ]
          },
          "metadata": {
            "tags": [],
            "needs_background": "light"
          }
        }
      ]
    },
    {
      "cell_type": "code",
      "metadata": {
        "id": "P_6v728nAG95",
        "colab_type": "code",
        "outputId": "529f9eca-ff81-4e13-875d-b0185cbb0e47",
        "colab": {
          "base_uri": "https://localhost:8080/",
          "height": 282
        }
      },
      "source": [
        "z = np.arange(0, 1000)\n",
        "fig, ax = plt.subplots(1,2, figsize=(10,4))\n",
        "ax[0].plot(z, stats.poisson.pmf(z, params_MLE.x[0]), label=\"MLE\")\n",
        "ax[1].plot(z, stats.poisson.pmf(z, params_MAP.x[0]), label=\"MAP\")\n",
        "ax[0].legend()\n",
        "ax[1].legend()"
      ],
      "execution_count": 0,
      "outputs": [
        {
          "output_type": "execute_result",
          "data": {
            "text/plain": [
              "<matplotlib.legend.Legend at 0x7f5b6f51f390>"
            ]
          },
          "metadata": {
            "tags": []
          },
          "execution_count": 20
        },
        {
          "output_type": "display_data",
          "data": {
            "image/png": "[encoded data removed]",
            "text/plain": [
              "<Figure size 720x288 with 2 Axes>"
            ]
          },
          "metadata": {
            "tags": [],
            "needs_background": "light"
          }
        }
      ]
    },
    {
      "cell_type": "code",
      "metadata": {
        "id": "9k0woKEdorv7",
        "colab_type": "code",
        "outputId": "7bda8f53-adac-4a3a-991c-d12fdecfe9a7",
        "colab": {
          "base_uri": "https://localhost:8080/",
          "height": 51
        }
      },
      "source": [
        "mu_mle = params_MLE\n",
        "mu_map = params_MAP\n",
        "\n",
        "y = np.arange(0,  200)\n",
        "\n",
        "print(\"MLE MSE error: \",mean_squared_error(test.cnt, predictionMLE_cnt))\n",
        "print(\"MAP MSE error: \",mean_squared_error(test.cnt, predictionMAP_cnt))\n",
        "\n"
      ],
      "execution_count": 0,
      "outputs": [
        {
          "output_type": "stream",
          "text": [
            "MLE MSE error:  26717.269774374276\n",
            "MAP MSE error:  26695.290537743673\n"
          ],
          "name": "stdout"
        }
      ]
    },
    {
      "cell_type": "markdown",
      "metadata": {
        "id": "PuXM7ktVorv9",
        "colab_type": "text"
      },
      "source": [
        "We could see that the MAP predictions are a bit better than the MLE predictions. As there are quite a large number of samples used and the prior we chose helps the data to fit. The MAP predictions are quite similar to the MLE predictions too due to the large number of samples available<br>\n",
        "\n",
        "(*Ignore the large error as we used a simple linear model for a complex dataset, the key point we are studying is the difference between the MLE and MAP predictions*)\n"
      ]
    }
  ]
}